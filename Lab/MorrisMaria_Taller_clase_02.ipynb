{
 "cells": [
  {
   "cell_type": "code",
   "execution_count": 1,
   "metadata": {},
   "outputs": [
    {
     "name": "stdout",
     "output_type": "stream",
     "text": [
      "Using matplotlib backend: MacOSX\n",
      "Populating the interactive namespace from numpy and matplotlib\n"
     ]
    }
   ],
   "source": [
    "#Clase 2 Laboratorio\n",
    "%pylab\n",
    "import time"
   ]
  },
  {
   "cell_type": "code",
   "execution_count": 2,
   "metadata": {},
   "outputs": [
    {
     "name": "stdout",
     "output_type": "stream",
     "text": [
      "-610\n"
     ]
    }
   ],
   "source": [
    "#Fibonacci-Punto1\n",
    "def fib_recursion(n):\n",
    "    if(n==0):\n",
    "        return 0\n",
    "    if(n==1):\n",
    "        return 1\n",
    "    if(n>0):\n",
    "        return fib_recursion(n-1)+fib_recursion(n-2)\n",
    "    else:\n",
    "        if(n==-1):\n",
    "            return -1\n",
    "        return fib_recursion(n+1)+fib_recursion(n+2)\n",
    "print(fib_recursion(-15))"
   ]
  },
  {
   "cell_type": "code",
   "execution_count": 7,
   "metadata": {},
   "outputs": [
    {
     "name": "stdout",
     "output_type": "stream",
     "text": [
      "[1, 1, 2, 3, 5, 8, 13, 21, 34, 55, 89, 144, 233, 377] [2.86102294921875e-06, 1.9073486328125e-06, 2.1457672119140625e-06, 3.0994415283203125e-06, 3.814697265625e-06, 5.0067901611328125e-06, 7.867813110351562e-06, 1.1920928955078125e-05, 1.9788742065429688e-05, 3.218650817871094e-05, 5.1975250244140625e-05, 8.487701416015625e-05, 0.0001380443572998047, 0.00022411346435546875]\n"
     ]
    },
    {
     "data": {
      "image/png": "[encoded data removed]",
      "text/plain": [
       "<Figure size 432x288 with 1 Axes>"
      ]
     },
     "metadata": {
      "needs_background": "light"
     },
     "output_type": "display_data"
    }
   ],
   "source": [
    "#Fibonacci-Punto2\n",
    "times=[]\n",
    "ns=[]\n",
    "for i in range(1,15):\n",
    "    ini = time.time()\n",
    "    ns.append(fib_recursion(i))\n",
    "    times.append(time.time()-ini)\n",
    "print(ns,times)\n",
    "plt.plot(ns,times)\n",
    "plt.show()"
   ]
  },
  {
   "cell_type": "code",
   "execution_count": 8,
   "metadata": {},
   "outputs": [
    {
     "data": {
      "text/plain": [
       "-610"
      ]
     },
     "execution_count": 8,
     "metadata": {},
     "output_type": "execute_result"
    }
   ],
   "source": [
    "#Fibonacci-Punto3\n",
    "def fib(n):\n",
    "    a=0\n",
    "    b=1\n",
    "    if(n>0):\n",
    "        for i in range(n):\n",
    "            c = copy(a)\n",
    "            a = a+b\n",
    "            b = c\n",
    "    else:\n",
    "        for i in range(n,0):\n",
    "            c = copy(a)\n",
    "            a = (a+b)*-1\n",
    "            b = -c\n",
    "    return a\n",
    "fib(-15)"
   ]
  },
  {
   "cell_type": "markdown",
   "metadata": {},
   "source": [
    "La diferencia ocurre ya que en la primera función se evalua el mismo caso varias veces, cada número (f(n-1)) hasta que disminuye al caso inicial, luego el siguiente se reduce hasta el caso inicial (f(n-2)), y esto vuelve a ocurrir dentro de cada uno, por lo que va a aumentando la cantidad de veces que ocurre el mismo número de atras para adelante y finalmente va aumentando la cantidad de veces que lo hace de manera exponencial. Mientras que para el caso de abajo, solo se suma el número una vez, el primero más el segundo, la suma más el tercero y así sucesivamente, no repite los números sino es continuo, por lo que es más rápido."
   ]
  },
  {
   "cell_type": "code",
   "execution_count": 12,
   "metadata": {},
   "outputs": [
    {
     "name": "stdout",
     "output_type": "stream",
     "text": [
      "[1, 1, 2, 3, 5, 8, 13, 21, 34, 55, 89, 144, 233, 377, 610, 987, 1597, 2584, 4181, 6765, 10946, 17711, 28657, 46368, 75025, 121393, 196418, 317811, 514229, 832040, 1346269, 2178309, 3524578, 5702887, 9227465, 14930352, 24157817, 39088169, 63245986, 102334155] [2.4080276489257812e-05, 3.409385681152344e-05, 2.384185791015625e-05, 2.288818359375e-05, 2.6226043701171875e-05, 2.9087066650390625e-05, 3.2901763916015625e-05, 3.719329833984375e-05, 4.1961669921875e-05, 4.601478576660156e-05, 5.340576171875e-05, 5.0067901611328125e-05, 5.1975250244140625e-05, 3.361701965332031e-05, 2.9325485229492188e-05, 3.0040740966796875e-05, 3.0994415283203125e-05, 0.00023508071899414062, 4.410743713378906e-05, 3.5762786865234375e-05, 3.814697265625e-05, 4.00543212890625e-05, 4.100799560546875e-05, 4.291534423828125e-05, 9.608268737792969e-05, 0.00010800361633300781, 0.00011301040649414062, 0.00011396408081054688, 0.00011801719665527344, 0.0001227855682373047, 0.00012636184692382812, 0.0001289844512939453, 0.00013303756713867188, 0.000141143798828125, 0.0001430511474609375, 0.00014591217041015625, 0.00014591217041015625, 0.00015997886657714844, 0.00016427040100097656, 0.0001621246337890625]\n"
     ]
    },
    {
     "data": {
      "image/png": "[encoded data removed]",
      "text/plain": [
       "<Figure size 432x288 with 1 Axes>"
      ]
     },
     "metadata": {
      "needs_background": "light"
     },
     "output_type": "display_data"
    }
   ],
   "source": [
    "#Fibonacci-Punto4\n",
    "times2=[]\n",
    "ns2=[]\n",
    "for i in range(1,41):\n",
    "    ini = time.time()\n",
    "    ns2.append(fib(i))\n",
    "    times2.append(time.time()-ini)\n",
    "print(ns2,times2)\n",
    "plt.plot(ns2,times2,'r')\n",
    "plt.show()"
   ]
  },
  {
   "cell_type": "code",
   "execution_count": 138,
   "metadata": {},
   "outputs": [
    {
     "name": "stdout",
     "output_type": "stream",
     "text": [
      "El valor de los calculados por pasos es: [1.         0.9        0.852968   0.8374415  0.83983378 0.85167737\n",
      " 0.86780837 0.8851749  0.90205891 0.91757091 0.93132436], de los calculados por la formula es: [1.         0.92579465 0.88950446 0.87619129 0.87628378 0.88372792\n",
      " 0.89476187 0.90710655 0.91943284 0.93101242 0.94149018], los errores son: [0.         0.02786217 0.04107508 0.04422526 0.04159611 0.03626744\n",
      " 0.03012366 0.02417759 0.01889636 0.01443752 0.        ], y el promedio de los errores es: 0.025333\n"
     ]
    }
   ],
   "source": [
    "#Euler-Punto1\n",
    "def f(x,y):\n",
    "    return 2 - np.exp(-4*x) - 2*y\n",
    "def real(x):\n",
    "    return 1+ 0.5*np.exp(-4*x) - 0.5*np.exp(-2*x)\n",
    "def ex_euler(n,hmenos = 1):\n",
    "    x0=0\n",
    "    y0=1\n",
    "    xf=1\n",
    "    x=np.linspace(x0,xf,n+1)\n",
    "    h=(xf-x0)/float(n*hmenos)\n",
    "    y=np.zeros(n+1)\n",
    "    z=np.array(real(x))\n",
    "    y[0]=y0\n",
    "    error=np.zeros(n+1)\n",
    "    for i in range(0,n):\n",
    "        y[i+1] = y[i] + h*f(x[i],y[i])\n",
    "        error[i] = np.abs(y[i]-z[i])/z[i]\n",
    "    return y, z, error, round(sum(error)/(n+1) , 6)\n",
    "a,b,c,d = ex_euler(10)\n",
    "print('El valor de los calculados por pasos es: {}, de los calculados por la formula es: {}, los errores son: {}, y el promedio de los errores es: {}'.format(a,b,c,d))"
   ]
  },
  {
   "cell_type": "markdown",
   "metadata": {},
   "source": [
    "Con un menor h, el paso de una a otra es menor, por lo que el error entre el promedio del de arriba es mayor que el error del de abajo, ya que es cada vez más pequeño el paso y se asemeja más a la derivada"
   ]
  },
  {
   "cell_type": "code",
   "execution_count": 139,
   "metadata": {},
   "outputs": [
    {
     "name": "stdout",
     "output_type": "stream",
     "text": [
      "El valor de los calculados por pasos es: [1.         0.95       0.921484   0.90686915 0.90112252 0.90091545\n",
      " 0.90405714 0.90911553 0.91516347 0.92160901 0.92808193], de los calculados por la formula es: [1.         0.92579465 0.88950446 0.87619129 0.87628378 0.88372792\n",
      " 0.89476187 0.90710655 0.91943284 0.93101242 0.94149018], los errores son: [0.         0.02614549 0.03595208 0.03501274 0.02834555 0.01944889\n",
      " 0.01038854 0.00221471 0.00464349 0.01010019 0.        ], y el promedio de los errores es: 0.015659\n"
     ]
    }
   ],
   "source": [
    "#Euler-Punto2\n",
    "e,f,g,h = ex_euler(10,2)\n",
    "print('El valor de los calculados por pasos es: {}, de los calculados por la formula es: {}, los errores son: {}, y el promedio de los errores es: {}'.format(e,f,g,h))"
   ]
  },
  {
   "cell_type": "code",
   "execution_count": 17,
   "metadata": {},
   "outputs": [
    {
     "data": {
      "text/plain": [
       "[[2, 2],\n",
       " [4, 4, 4, 4],\n",
       " [5, 5, 5, 5, 5],\n",
       " [6, 6, 6, 6, 6, 6],\n",
       " [7, 7, 7, 7, 7, 7, 7],\n",
       " [7, 7, 7, 7, 7, 7, 7],\n",
       " [7, 7, 7, 7, 7, 7, 7],\n",
       " [9, 9, 9, 9, 9, 9, 9, 9, 9]]"
      ]
     },
     "execution_count": 17,
     "metadata": {},
     "output_type": "execute_result"
    }
   ],
   "source": [
    "#Ejercicio de listas\n",
    "def fun(lista):\n",
    "    aR = []\n",
    "    lista.sort()\n",
    "    for i in lista:\n",
    "        aR.append([i]*i)\n",
    "    return aR\n",
    "fun([7,4,7,2,9,6,7,5])"
   ]
  },
  {
   "cell_type": "code",
   "execution_count": null,
   "metadata": {},
   "outputs": [],
   "source": []
  },
  {
   "cell_type": "code",
   "execution_count": null,
   "metadata": {},
   "outputs": [],
   "source": []
  }
 ],
 "metadata": {
  "kernelspec": {
   "display_name": "Python 3",
   "language": "python",
   "name": "python3"
  },
  "language_info": {
   "codemirror_mode": {
    "name": "ipython",
    "version": 3
   },
   "file_extension": ".py",
   "mimetype": "text/x-python",
   "name": "python",
   "nbconvert_exporter": "python",
   "pygments_lexer": "ipython3",
   "version": "3.7.3"
  }
 },
 "nbformat": 4,
 "nbformat_minor": 2
}
