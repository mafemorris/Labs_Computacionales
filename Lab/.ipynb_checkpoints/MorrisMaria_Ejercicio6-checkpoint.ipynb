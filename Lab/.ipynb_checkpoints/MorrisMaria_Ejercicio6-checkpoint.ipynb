{
 "cells": [
  {
   "cell_type": "code",
   "execution_count": 1,
   "metadata": {},
   "outputs": [],
   "source": [
    "import numpy as np\n",
    "import matplotlib.pylab as plt\n",
    "import random"
   ]
  },
  {
   "cell_type": "code",
   "execution_count": 2,
   "metadata": {},
   "outputs": [
    {
     "data": {
      "text/plain": [
       "[<matplotlib.lines.Line2D at 0x11dc3f7f0>]"
      ]
     },
     "execution_count": 2,
     "metadata": {},
     "output_type": "execute_result"
    },
    {
     "data": {
      "image/png": "[encoded data removed]",
      "text/plain": [
       "<Figure size 432x288 with 1 Axes>"
      ]
     },
     "metadata": {
      "needs_background": "light"
     },
     "output_type": "display_data"
    }
   ],
   "source": [
    "#Ejercicio 1\n",
    "def direct_pi(N):\n",
    "    n_hits = 0\n",
    "    for i in range(N):\n",
    "        x, y = random.uniform(-1.0, 1.0), random.uniform(-1.0, 1.0)\n",
    "        if x ** 2 + y ** 2 < 1.0:\n",
    "            n_hits += 1\n",
    "    return n_hits\n",
    "\n",
    "def rms(m,n_runs):\n",
    "    return np.sum((1/n_runs)*(np.sqrt((m-np.ones(n_runs)*np.pi)**2)))\n",
    "\n",
    "n_runs = 500\n",
    "n_trials = [2**i for i in range(1,13)]\n",
    "n= []\n",
    "for i in range(len(n_trials)): \n",
    "    m = []\n",
    "    for run in range(n_runs):\n",
    "        m.append(4.0 * direct_pi(n_trials[i]) / float(n_trials[i]))\n",
    "    n.append(rms(m,n_runs))\n",
    "\n",
    "plt.loglog(n_trials,n,'-')\n",
    "plt.loglog(n_trials,n,'o')"
   ]
  },
  {
   "cell_type": "code",
   "execution_count": 178,
   "metadata": {},
   "outputs": [
    {
     "data": {
      "image/png": "[encoded data removed]",
      "text/plain": [
       "<Figure size 432x288 with 1 Axes>"
      ]
     },
     "metadata": {
      "needs_background": "light"
     },
     "output_type": "display_data"
    }
   ],
   "source": [
    "#Ejercicio 2\n",
    "deltas = [0.062,0.125,0.25,0.5,1.0,2.0,4.0]\n",
    "def markov_pi(N,delta):\n",
    "    x0,y0=random.uniform(-1.0, 1.0),random.uniform(-1.0, 1.0)\n",
    "    Nx=[x0]\n",
    "    Ny=[y0]\n",
    "    Nh=0\n",
    "    for i in range(N):\n",
    "        pasox, pasoy = random.uniform(-delta, delta), random.uniform(-delta, delta)\n",
    "        x=Nx[-1]+pasox\n",
    "        y=Ny[-1]+pasoy\n",
    "        if (np.abs(x)<1 and np.abs(y)<1):\n",
    "            Nx.append(x)\n",
    "            Ny.append(y)\n",
    "        if (x**2 +y**2 <1):\n",
    "            Nh+=1\n",
    "    return Nx,Ny,Nh\n",
    "n_runs=200\n",
    "for d in deltas:\n",
    "    pi= []\n",
    "    for trial in n_trials:\n",
    "        m = []\n",
    "        for i in range(n_runs):\n",
    "            a,b,c = markov_pi(trial,d)\n",
    "            m.append(4* c / float(trial))\n",
    "        pi.append(rms(m,n_runs))\n",
    "    plt.loglog(n_trials,pi,'o')\n",
    "#En el caso de la tendencia de 1, se puede ver que es una gráfica similar a la del punto anterior, ya que el delta es 1, sin embargo a medida que aumentan y disminuye la longitud de los pasos aumenta el error de la gráfica.  "
   ]
  },
  {
   "cell_type": "code",
   "execution_count": null,
   "metadata": {},
   "outputs": [],
   "source": []
  },
  {
   "cell_type": "code",
   "execution_count": null,
   "metadata": {},
   "outputs": [],
   "source": []
  },
  {
   "cell_type": "code",
   "execution_count": 180,
   "metadata": {},
   "outputs": [
    {
     "data": {
      "text/plain": [
       "[<matplotlib.lines.Line2D at 0x12363e860>]"
      ]
     },
     "execution_count": 180,
     "metadata": {},
     "output_type": "execute_result"
    },
    {
     "data": {
      "image/png": "[encoded data removed]",
      "text/plain": [
       "<Figure size 432x288 with 1 Axes>"
      ]
     },
     "metadata": {
      "needs_background": "light"
     },
     "output_type": "display_data"
    }
   ],
   "source": [
    "steps=np.array([i**2 for i in range(50,100)])\n",
    "def cuadrito(stp):\n",
    "    grid=np.zeros((3,3))\n",
    "    x, y = random.randint(0,2), random.randint(0,2)\n",
    "    for i in steps:\n",
    "        dx = random.randint(-1,1)\n",
    "        if dx == 0:\n",
    "            dy = random.choice((-1,1))\n",
    "        else:\n",
    "            dy = 0\n",
    "        mx = x+dx\n",
    "        my = y+dy\n",
    "        if mx in np.arange(3) and my in np.arange(3):\n",
    "            grid[mx][my]+=1 \n",
    "            x = mx\n",
    "            y = my\n",
    "        else:\n",
    "            grid[x][y]+=1 \n",
    "    a = []\n",
    "    for i in grid:\n",
    "        for j in i:\n",
    "            a.append(j)\n",
    "    return a\n",
    "    #plt.bar(np.arange(9),a)\n",
    "Px = np.array([np.mean(cuadrito(i)) for i in steps])\n",
    "Qx = 1/steps\n",
    "\n",
    "D=Px*np.log(np.divide(Px,Qx))\n",
    "plt.plot(steps, D) #Se puede ver que la distribución de los pasos es uniforme en todos los recuadros de la matriz. "
   ]
  },
  {
   "cell_type": "code",
   "execution_count": null,
   "metadata": {},
   "outputs": [],
   "source": []
  },
  {
   "cell_type": "code",
   "execution_count": null,
   "metadata": {},
   "outputs": [],
   "source": []
  },
  {
   "cell_type": "code",
   "execution_count": null,
   "metadata": {},
   "outputs": [],
   "source": []
  },
  {
   "cell_type": "code",
   "execution_count": null,
   "metadata": {},
   "outputs": [],
   "source": []
  },
  {
   "cell_type": "code",
   "execution_count": null,
   "metadata": {},
   "outputs": [],
   "source": []
  }
 ],
 "metadata": {
  "kernelspec": {
   "display_name": "Python 3",
   "language": "python",
   "name": "python3"
  },
  "language_info": {
   "codemirror_mode": {
    "name": "ipython",
    "version": 3
   },
   "file_extension": ".py",
   "mimetype": "text/x-python",
   "name": "python",
   "nbconvert_exporter": "python",
   "pygments_lexer": "ipython3",
   "version": "3.7.3"
  }
 },
 "nbformat": 4,
 "nbformat_minor": 2
}
