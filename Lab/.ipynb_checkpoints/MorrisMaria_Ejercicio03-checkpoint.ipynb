{
 "cells": [
  {
   "cell_type": "code",
   "execution_count": 4,
   "metadata": {},
   "outputs": [
    {
     "name": "stdout",
     "output_type": "stream",
     "text": [
      "Using matplotlib backend: MacOSX\n",
      "Populating the interactive namespace from numpy and matplotlib\n"
     ]
    }
   ],
   "source": [
    "%pylab\n",
    "from scipy.optimize import curve_fit"
   ]
  },
  {
   "cell_type": "code",
   "execution_count": 70,
   "metadata": {},
   "outputs": [
    {
     "name": "stdout",
     "output_type": "stream",
     "text": [
      "-610\n"
     ]
    }
   ],
   "source": [
    "def fib_recursion(n):\n",
    "    if(n==0):\n",
    "        return 0\n",
    "    if(n==1):\n",
    "        return 1\n",
    "    if(n>0):\n",
    "        return fib_recursion(n-1)+fib_recursion(n-2)\n",
    "    else:\n",
    "        if(n==-1):\n",
    "            return -1\n",
    "        return fib_recursion(n+1)+fib_recursion(n+2)\n",
    "print(fib_recursion(-15))\n",
    "times=[]\n",
    "ns=[]\n",
    "for i in range(1,15):\n",
    "    ini = time.time()\n",
    "    ns.append(fib_recursion(i))\n",
    "    times.append(time.time()-ini)\n",
    "\n",
    "plt.plot(times, ns, '.')\n",
    "\n",
    "def poli(tiempo, numeros, N):\n",
    "    lista=[]\n",
    "    for i in range(1,N+1):\n",
    "        p = np.poly1d(np.polyfit(tiempo,numeros,i))\n",
    "        lista.append(p(tiempo))\n",
    "        plt.plot(tiempo,p(tiempo))\n",
    "\n",
    "poli(times, ns,10)"
   ]
  },
  {
   "cell_type": "code",
   "execution_count": null,
   "metadata": {},
   "outputs": [],
   "source": [
    "def fib(n):\n",
    "    a=0\n",
    "    b=1\n",
    "    if(n>0):\n",
    "        for i in range(n):\n",
    "            c = copy(a)\n",
    "            a = a+b\n",
    "            b = c\n",
    "    else:\n",
    "        for i in range(n,0):\n",
    "            c = copy(a)\n",
    "            a = (a+b)*-1\n",
    "            b = -c\n",
    "    return a\n",
    "print(fib(-15))\n",
    "\n",
    "times2=[]\n",
    "ns2=[]\n",
    "for i in range(1,41):\n",
    "    ini = time.time()\n",
    "    ns2.append(fib(i))\n",
    "    times2.append(time.time()-ini)\n",
    "print(ns2,times2)\n",
    "plt.plot(ns2,times2,'.')"
   ]
  },
  {
   "cell_type": "code",
   "execution_count": null,
   "metadata": {},
   "outputs": [],
   "source": []
  }
 ],
 "metadata": {
  "kernelspec": {
   "display_name": "Python 3",
   "language": "python",
   "name": "python3"
  },
  "language_info": {
   "codemirror_mode": {
    "name": "ipython",
    "version": 3
   },
   "file_extension": ".py",
   "mimetype": "text/x-python",
   "name": "python",
   "nbconvert_exporter": "python",
   "pygments_lexer": "ipython3",
   "version": "3.7.3"
  }
 },
 "nbformat": 4,
 "nbformat_minor": 2
}
