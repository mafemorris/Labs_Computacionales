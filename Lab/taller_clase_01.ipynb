{
 "cells": [
  {
   "cell_type": "code",
   "execution_count": 153,
   "metadata": {},
   "outputs": [
    {
     "name": "stdout",
     "output_type": "stream",
     "text": [
      "[1, 1, 2, 8, 3, 4, 5, 9, 2, 4]\n"
     ]
    }
   ],
   "source": [
    "#Ejercicio 1\n",
    "m = [5,3,2,8,1,4,9,1,2,4]\n",
    "def fun(x):\n",
    "    for i in range(len(x)):\n",
    "        if not (x[i]%2==0):\n",
    "            for j in range(len(x)):\n",
    "                if not (x[j]%2==0):\n",
    "                    a=x[j]\n",
    "                    if(x[i]<x[j]):\n",
    "                        x[j]=x[i]\n",
    "                        x[i]=a\n",
    "    return x\n",
    "print(fun(m)) "
   ]
  },
  {
   "cell_type": "code",
   "execution_count": 108,
   "metadata": {},
   "outputs": [
    {
     "name": "stdout",
     "output_type": "stream",
     "text": [
      "De la lista [5, 3, 5, 1, 26, 7, 2, 4, 33, 9, 2, 3, 4], los pares son [26, 2, 4, 2, 4], en orden descendiente [26, 4, 4, 2, 2], los impares son [5, 3, 5, 1, 7, 33, 9, 3], en orden ascendente [1, 3, 3, 5, 5, 7, 9, 33].\n"
     ]
    }
   ],
   "source": [
    "#Ejercicio 2\n",
    "b = [5,3,5,1,26,7,2,4,33,9,2,3,4]\n",
    "pares=[]\n",
    "impares=[]\n",
    "\n",
    "def f1(pares, impares, x):\n",
    "    for i in x:\n",
    "        if(i%2==0):\n",
    "            pares.append(i)\n",
    "        else:\n",
    "            impares.append(i)\n",
    "\n",
    "def orden(n, q):\n",
    "    x= [] + n\n",
    "    for i in range(len(x)):\n",
    "        for j in range(len(x)):\n",
    "            a=x[j]\n",
    "            if(x[i]<x[j]):\n",
    "                x[j]=x[i]\n",
    "                x[i]=a\n",
    "    x = x[::q]\n",
    "    return x\n",
    "\n",
    "f1(pares, impares, b)\n",
    "print('De la lista {}, los pares son {}, en orden descendiente {}, los impares son {}, en orden ascendente {}.'.format(b,pares,orden(pares,-1), impares, orden(impares,1)))\n",
    "\n"
   ]
  },
  {
   "cell_type": "code",
   "execution_count": 163,
   "metadata": {},
   "outputs": [
    {
     "name": "stdout",
     "output_type": "stream",
     "text": [
      "[90, 1, 80, 3, 78, 3, 36, 3, 6, 5, 6, 5, 6, 5, 6, 5, 6, 7, 4, 9, 4, 13, 2, 23, 2, 85, 0, 95]\n"
     ]
    }
   ],
   "source": [
    "#Ejercicio 3\n",
    "a = [1,3,2,6,7,36,95,23,4,90,78,5,0]\n",
    "b = [3,6,4,6,85,13,6,9,2,3,5,80,5,6,5]\n",
    "a,b,c = [],[],orden(a+b,1)\n",
    "f1(a,b,c)\n",
    "a=a[::-1]\n",
    "def inter(a,b,c):\n",
    "    for j in range(0,len(c),2):\n",
    "        c[j]=a[int(j/2)]\n",
    "    for j in range(1,len(c),2):\n",
    "        c[j]=b[int((j-1)/2)]\n",
    "    return(c)\n",
    "print(inter(a,b,c))"
   ]
  },
  {
   "cell_type": "code",
   "execution_count": 200,
   "metadata": {},
   "outputs": [
    {
     "name": "stdout",
     "output_type": "stream",
     "text": [
      "[12, 1, 6, 3, 2, 5, 0, 9]\n"
     ]
    }
   ],
   "source": [
    "#Ejercicio 4\n",
    "a = [1,5,6,9,2]\n",
    "b = [0,12,5,2,3]\n",
    "a,b,c = [],[],orden(a+b,1)\n",
    "i=0\n",
    "while (i<len(c)):\n",
    "    j=i+1\n",
    "    while (j<len(c)):\n",
    "        if(c[i]==c[j]):\n",
    "            c.pop(j)\n",
    "            j-=1 #permanezca en la misma casilla y se pueda volver a revisar si hay más iguales.\n",
    "        j+=1\n",
    "    i+=1\n",
    "f1(a,b,c)\n",
    "a=a[::-1]\n",
    "print(inter(a,b,c))"
   ]
  },
  {
   "cell_type": "code",
   "execution_count": null,
   "metadata": {},
   "outputs": [],
   "source": []
  }
 ],
 "metadata": {
  "kernelspec": {
   "display_name": "Python 3",
   "language": "python",
   "name": "python3"
  },
  "language_info": {
   "codemirror_mode": {
    "name": "ipython",
    "version": 3
   },
   "file_extension": ".py",
   "mimetype": "text/x-python",
   "name": "python",
   "nbconvert_exporter": "python",
   "pygments_lexer": "ipython3",
   "version": "3.7.3"
  }
 },
 "nbformat": 4,
 "nbformat_minor": 2
}
