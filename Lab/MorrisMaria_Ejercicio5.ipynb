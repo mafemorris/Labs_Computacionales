{
 "cells": [
  {
   "cell_type": "code",
   "execution_count": 1,
   "metadata": {},
   "outputs": [
    {
     "name": "stdout",
     "output_type": "stream",
     "text": [
      "Using matplotlib backend: MacOSX\n",
      "Populating the interactive namespace from numpy and matplotlib\n"
     ]
    }
   ],
   "source": [
    "%pylab\n",
    "from scipy.optimize import curve_fit"
   ]
  },
  {
   "cell_type": "code",
   "execution_count": 2,
   "metadata": {},
   "outputs": [
    {
     "data": {
      "text/plain": [
       "(array([478.,   0.,   0.,   0.,   0.,   0.,   0.,   0.,   0., 522.]),\n",
       " array([0. , 0.1, 0.2, 0.3, 0.4, 0.5, 0.6, 0.7, 0.8, 0.9, 1. ]),\n",
       " <a list of 10 Patch objects>)"
      ]
     },
     "execution_count": 2,
     "metadata": {},
     "output_type": "execute_result"
    },
    {
     "data": {
      "image/png": "[encoded data removed]",
      "text/plain": [
       "<Figure size 432x288 with 1 Axes>"
      ]
     },
     "metadata": {
      "needs_background": "light"
     },
     "output_type": "display_data"
    }
   ],
   "source": [
    "#Ejercicio 1\n",
    "a=[round(float(np.random.rand(1))) for i in range(1000)]\n",
    "b=[np.random.binomial(1,0.5) for i in range(1000)]\n",
    "plt.hist(b)\n",
    "plt.hist(a,alpha=0.6)"
   ]
  },
  {
   "cell_type": "code",
   "execution_count": 3,
   "metadata": {},
   "outputs": [
    {
     "data": {
      "text/plain": [
       "<matplotlib.legend.Legend at 0x10193240f0>"
      ]
     },
     "execution_count": 3,
     "metadata": {},
     "output_type": "execute_result"
    },
    {
     "data": {
      "image/png": "[encoded data removed]",
      "text/plain": [
       "<Figure size 720x216 with 2 Axes>"
      ]
     },
     "metadata": {
      "needs_background": "light"
     },
     "output_type": "display_data"
    }
   ],
   "source": [
    "#Ejercicio 2\n",
    "vx=np.random.normal(0,1,100000)\n",
    "vy=np.random.normal(0,1,100000)\n",
    "vz=np.random.normal(0,1,100000)\n",
    "a=np.sqrt(vx**2 + vy**2)\n",
    "b=np.sqrt(vx**2 + vy**2 +vz**2)\n",
    "def fit2(v,n):\n",
    "    return (n*v)*np.exp(-n*v**2 /2)\n",
    "def fit3(v,n):\n",
    "    return (2/np.pi)**(1/2) * (n)**(3/2) * v**2 * np.exp(-n*v**2 / 2)\n",
    "\n",
    "plt.figure(figsize=(10,3))\n",
    "plt.subplot(1,2,1)\n",
    "hist1,bins1,img1=plt.hist(a,bins=100,density=True)\n",
    "bins1=(bins1[1:]+bins1[:-1])/2\n",
    "popt1, pcov1=curve_fit(fit2,bins1,hist1)\n",
    "m=np.linspace(0,5,10000)\n",
    "plt.plot(m,fit2(m,popt1))\n",
    "plt.legend('1')\n",
    "\n",
    "plt.subplot(1,2,2)\n",
    "hist2,bins2,img2=plt.hist(b,bins=100, density=True)\n",
    "bins2=(bins2[1:]+bins2[:-1])/2\n",
    "popt2, pcov2 = curve_fit(fit3,bins2,hist2)\n",
    "m3=np.linspace(0,5,10000)\n",
    "plt.plot(m3,fit3(m3,popt2))\n",
    "plt.legend('2')"
   ]
  },
  {
   "cell_type": "code",
   "execution_count": 4,
   "metadata": {},
   "outputs": [
    {
     "data": {
      "text/plain": [
       "(0.9012674655078002, array([1.40876797]))"
      ]
     },
     "execution_count": 4,
     "metadata": {},
     "output_type": "execute_result"
    }
   ],
   "source": [
    "bins1[np.argmax(hist1)], np.sqrt(2/popt1)"
   ]
  },
  {
   "cell_type": "code",
   "execution_count": 5,
   "metadata": {},
   "outputs": [
    {
     "data": {
      "image/png": "[encoded data removed]",
      "text/plain": [
       "<Figure size 432x288 with 1 Axes>"
      ]
     },
     "metadata": {
      "needs_background": "light"
     },
     "output_type": "display_data"
    }
   ],
   "source": [
    "#Ejercicio 3\n",
    "lam = 10\n",
    "n=10000\n",
    "p=lam/n\n",
    "binom = [np.random.binomial(n,p) for i in range(1000)]\n",
    "poiss = [np.random.poisson(lam) for i in range(1000)]\n",
    "plt.hist(binom,bins=100)\n",
    "plt.hist(poiss,bins=100,alpha=0.5)\n",
    "plt.show()"
   ]
  },
  {
   "cell_type": "code",
   "execution_count": 6,
   "metadata": {},
   "outputs": [
    {
     "data": {
      "text/plain": [
       "True"
      ]
     },
     "execution_count": 6,
     "metadata": {},
     "output_type": "execute_result"
    }
   ],
   "source": [
    "#Ejercicio 4\n",
    "def Expected(P):\n",
    "    a = np.arange(len(P))\n",
    "    return np.sum((a**2)*P)\n",
    "def test1():\n",
    "    px = np.array([ 0.01720472,  0.23565573,  0.7425048 ,  0.68060143,  0.25665851])\n",
    "    res = 13.437623957331406\n",
    "    ans = Expected(px)\n",
    "    return (abs(res-ans) < 0.00001)\n",
    "test1()"
   ]
  },
  {
   "cell_type": "code",
   "execution_count": 7,
   "metadata": {},
   "outputs": [
    {
     "name": "stdout",
     "output_type": "stream",
     "text": [
      "47681\n"
     ]
    },
    {
     "data": {
      "text/plain": [
       "False"
      ]
     },
     "execution_count": 7,
     "metadata": {},
     "output_type": "execute_result"
    }
   ],
   "source": [
    "#Ejercicio 5\n",
    "def p2(p0):\n",
    "    B=5\n",
    "    for i in range(100):\n",
    "        plata = 0\n",
    "        b=np.copy(B)\n",
    "        while plata >= 0:\n",
    "            a = binomial(5,p0)\n",
    "            if a == 0:\n",
    "                plata -= b\n",
    "            else:\n",
    "                plata += a\n",
    "            b+=1\n",
    "        if(b>B):\n",
    "            B=b\n",
    "    print(B)\n",
    "    return np.mean(B)\n",
    "\n",
    "\n",
    "def test2():\n",
    "    p0 = 0.7\n",
    "    res = 1440.3292181069949\n",
    "    ans = p2(p0)\n",
    "    return (abs(res-ans) < 0.001)\n",
    "test2()"
   ]
  },
  {
   "cell_type": "code",
   "execution_count": 8,
   "metadata": {},
   "outputs": [
    {
     "name": "stdout",
     "output_type": "stream",
     "text": [
      "717.8\n",
      "3511.0\n",
      "3536.0\n",
      "1756.9999999999998\n",
      "3465.0\n",
      "882.4999999999999\n",
      "879.4999999999999\n",
      "3505.9999999999995\n",
      "1176.0\n",
      "590.3333333333333\n",
      "2002.1133333333332\n",
      "inf\n"
     ]
    },
    {
     "name": "stderr",
     "output_type": "stream",
     "text": [
      "/Users/usuario/anaconda3/lib/python3.7/site-packages/ipykernel_launcher.py:13: RuntimeWarning: divide by zero encountered in double_scalars\n",
      "  del sys.path[0]\n"
     ]
    },
    {
     "data": {
      "text/plain": [
       "False"
      ]
     },
     "execution_count": 8,
     "metadata": {},
     "output_type": "execute_result"
    }
   ],
   "source": [
    "def p2(p0):\n",
    "    N=1000\n",
    "    no0 = []\n",
    "    is0 = 0\n",
    "    while len(no0)<N:\n",
    "        a = np.random.binomial(5,p0)\n",
    "        if a!=0:\n",
    "            no0.append(a)\n",
    "        else:\n",
    "            is0+=1\n",
    "    is0/=N\n",
    "    no0 = np.mean(no0)\n",
    "    b = no0/is0\n",
    "    return b\n",
    "a=[]\n",
    "for i in range(10):\n",
    "    m=p2(0.7)\n",
    "    print(m)\n",
    "    a.append(m)\n",
    "print(np.mean(a))\n",
    "def test2():\n",
    "    p0 = 0.7\n",
    "    res = 1440.3292181069949\n",
    "    ans = p2(p0)\n",
    "    print(ans)\n",
    "    return (abs(res-ans) < 0.001)\n",
    "test2()"
   ]
  },
  {
   "cell_type": "code",
   "execution_count": null,
   "metadata": {},
   "outputs": [],
   "source": []
  },
  {
   "cell_type": "code",
   "execution_count": null,
   "metadata": {},
   "outputs": [],
   "source": []
  }
 ],
 "metadata": {
  "kernelspec": {
   "display_name": "Python 3",
   "language": "python",
   "name": "python3"
  },
  "language_info": {
   "codemirror_mode": {
    "name": "ipython",
    "version": 3
   },
   "file_extension": ".py",
   "mimetype": "text/x-python",
   "name": "python",
   "nbconvert_exporter": "python",
   "pygments_lexer": "ipython3",
   "version": "3.7.3"
  }
 },
 "nbformat": 4,
 "nbformat_minor": 2
}
