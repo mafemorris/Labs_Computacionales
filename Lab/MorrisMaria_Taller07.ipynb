{
 "cells": [
  {
   "cell_type": "code",
   "execution_count": 1,
   "metadata": {},
   "outputs": [],
   "source": [
    "import numpy as np\n",
    "import matplotlib.pylab as plt"
   ]
  },
  {
   "cell_type": "code",
   "execution_count": 74,
   "metadata": {},
   "outputs": [
    {
     "data": {
      "text/plain": [
       "40.57509633665005"
      ]
     },
     "execution_count": 74,
     "metadata": {},
     "output_type": "execute_result"
    }
   ],
   "source": [
    "def aIntegrar(xs):\n",
    "    a=np.prod(xs)\n",
    "    return a*np.sin(a)\n",
    "def montecarlo(N, a =5, aIntegrar=aIntegrar):\n",
    "    b = [(1/N)*aIntegrar([np.random.random()*np.pi for i in range(a)]) for i in range(N)]\n",
    "    return sum(b)*(np.pi**a)\n",
    "montecarlo(100000)"
   ]
  },
  {
   "cell_type": "code",
   "execution_count": null,
   "metadata": {},
   "outputs": [],
   "source": []
  },
  {
   "cell_type": "code",
   "execution_count": 75,
   "metadata": {},
   "outputs": [
    {
     "data": {
      "text/plain": [
       "0.13875860808452764"
      ]
     },
     "execution_count": 75,
     "metadata": {},
     "output_type": "execute_result"
    }
   ],
   "source": [
    "def otra(xs):\n",
    "    a=np.prod(xs)*np.log(xs[0]+2*xs[1]+3*xs[2])*np.sin(sum(xs))\n",
    "    return a\n",
    "def montecarlo(N, a, aIntegrar=aIntegrar):\n",
    "    b = [(1/N)*aIntegrar([np.random.random() for i in range(a)]) for i in range(N)]\n",
    "    return sum(b)\n",
    "montecarlo(100000,3,aIntegrar=otra)"
   ]
  },
  {
   "cell_type": "code",
   "execution_count": 76,
   "metadata": {},
   "outputs": [
    {
     "name": "stdout",
     "output_type": "stream",
     "text": [
      "[0.13732654 0.13556351 0.13073665 ... 0.11196297 0.11744574 0.10965192]\n"
     ]
    },
    {
     "data": {
      "image/png": "[encoded data removed]",
      "text/plain": [
       "<Figure size 432x288 with 1 Axes>"
      ]
     },
     "metadata": {
      "needs_background": "light"
     },
     "output_type": "display_data"
    }
   ],
   "source": [
    "f=lambda xs: np.log(xs[0]+2*xs[1]+3*xs[2])*np.prod(xs)\n",
    "p=lambda xs: np.sin(sum(xs))\n",
    "N=50000\n",
    "x=np.ones(3)/2\n",
    "sigma=0.01\n",
    "integral=[f(x)]\n",
    "K=0.879\n",
    "for i in range(N):\n",
    "    y=x+np.random.normal(0,sigma,size=3)\n",
    "    r=np.random.random()\n",
    "    alpha=min(1,p(y)/p(x))\n",
    "    if r < alpha and np.min(y)>0 and np.max(y)<1:\n",
    "        x=y\n",
    "        integral.append(K*f(x))\n",
    "    else:\n",
    "        integral.append(K*f(x))\n",
    "integral=np.array(integral)\n",
    "print(integral)\n",
    "datos,bins,_=plt.hist(integral,bins=100,density=True)\n",
    "plt.show()"
   ]
  },
  {
   "cell_type": "code",
   "execution_count": 78,
   "metadata": {},
   "outputs": [
    {
     "data": {
      "image/png": "[encoded data removed]",
      "text/plain": [
       "<Figure size 432x288 with 1 Axes>"
      ]
     },
     "metadata": {
      "needs_background": "light"
     },
     "output_type": "display_data"
    },
    {
     "name": "stdout",
     "output_type": "stream",
     "text": [
      "0.14452938646119118 0.0006633173178353976\n"
     ]
    }
   ],
   "source": [
    "p=lambda xs: np.log(xs[0]+2*xs[1]+3*xs[2])*np.sin(sum(xs))\n",
    "f=lambda xs: np.prod(xs)\n",
    "N=50000\n",
    "x=np.ones(3)/2\n",
    "sigma=0.01\n",
    "integral=[f(x)]\n",
    "K=[]\n",
    "for i in range(N):\n",
    "    y=x+np.random.normal(0,sigma,size=3)\n",
    "    r=np.random.random()\n",
    "    alpha=min(1,p(y)/p(x))\n",
    "    if r < alpha and np.min(y)>0 and np.max(y)<np.pi:\n",
    "        x=y\n",
    "        integral.append(f(x))\n",
    "        K.append(p(x))\n",
    "    else:\n",
    "        integral.append(f(x))\n",
    "        K.append(p(x))\n",
    "integral=np.array(integral)*np.mean(K)\n",
    "\n",
    "datos,bins,_=plt.hist(integral,bins=100,density=True)\n",
    "plt.show()\n",
    "print(np.mean(integral),np.std(integral)/np.sqrt(N))"
   ]
  },
  {
   "cell_type": "code",
   "execution_count": null,
   "metadata": {},
   "outputs": [],
   "source": []
  }
 ],
 "metadata": {
  "kernelspec": {
   "display_name": "Python 3",
   "language": "python",
   "name": "python3"
  },
  "language_info": {
   "codemirror_mode": {
    "name": "ipython",
    "version": 3
   },
   "file_extension": ".py",
   "mimetype": "text/x-python",
   "name": "python",
   "nbconvert_exporter": "python",
   "pygments_lexer": "ipython3",
   "version": "3.7.3"
  }
 },
 "nbformat": 4,
 "nbformat_minor": 2
}
