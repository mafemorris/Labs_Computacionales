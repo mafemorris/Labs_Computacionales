{
 "cells": [
  {
   "cell_type": "code",
   "execution_count": 93,
   "metadata": {},
   "outputs": [
    {
     "name": "stdout",
     "output_type": "stream",
     "text": [
      "Using matplotlib backend: MacOSX\n",
      "Populating the interactive namespace from numpy and matplotlib\n"
     ]
    }
   ],
   "source": [
    "%pylab\n",
    "from scipy.optimize import curve_fit\n",
    "from mpl_toolkits.mplot3d import Axes3D"
   ]
  },
  {
   "cell_type": "code",
   "execution_count": 91,
   "metadata": {},
   "outputs": [
    {
     "name": "stdout",
     "output_type": "stream",
     "text": [
      "-610\n",
      "[1.20526347e+00 1.47980130e+06 6.71627189e+08 1.00000000e+00\n",
      " 1.00000000e+00 1.00000000e+00 1.00000000e+00 1.00000000e+00\n",
      " 1.00000000e+00 1.00000000e+00 1.00000000e+00] 1.2052634723065563 1479801.2971962704 671627189.2312366 1.0 1.0 1.0 1.0 1.0 1.0 1.0 1.0\n"
     ]
    }
   ],
   "source": [
    "def fib_recursion(n):\n",
    "    if(n==0):\n",
    "        return 0\n",
    "    if(n==1):\n",
    "        return 1\n",
    "    if(n>0):\n",
    "        return fib_recursion(n-1)+fib_recursion(n-2)\n",
    "    else:\n",
    "        if(n==-1):\n",
    "            return -1\n",
    "        return fib_recursion(n+1)+fib_recursion(n+2)\n",
    "print(fib_recursion(-15))\n",
    "times=[]\n",
    "ns=[]\n",
    "for i in range(1,15):\n",
    "    ini = time.time()\n",
    "    ns.append(fib_recursion(i))\n",
    "    times.append(time.time()-ini)\n",
    "\n",
    "def lineal(x,b,a):\n",
    "    return b*x + a\n",
    "def squr(x,c,b,a):\n",
    "    return c*x**2 + b*x +a\n",
    "def squr(x,d,c,b,a):\n",
    "    return d*x**3 + c*x**2 + b*x +a\n",
    "def fun(x,a,b,c,d,e,f,g,h,i,j,k):\n",
    "    return k*x**10 + j*x**9 + i*x**8 + h*x**7 + g*x**6 + f*x**5 + e*x**4 + d*x**3 + c*x**2 + b*x + a\n",
    "\n",
    "popt,pcov=curve_fit(fun,times,ns)\n",
    "plt.plot(times, ns, '.')\n",
    "plt.plot(times,fun(np.array(times),*popt),'b')\n",
    "print(popt, *popt)"
   ]
  },
  {
   "cell_type": "code",
   "execution_count": 83,
   "metadata": {},
   "outputs": [
    {
     "name": "stdout",
     "output_type": "stream",
     "text": [
      "-610\n"
     ]
    }
   ],
   "source": [
    "def fib(n):\n",
    "    a=0\n",
    "    b=1\n",
    "    if(n>0):\n",
    "        for i in range(n):\n",
    "            c = copy(a)\n",
    "            a = a+b\n",
    "            b = c\n",
    "    else:\n",
    "        for i in range(n,0):\n",
    "            c = copy(a)\n",
    "            a = (a+b)*-1\n",
    "            b = -c\n",
    "    return a\n",
    "print(fib(-15))\n",
    "\n",
    "times2=[]\n",
    "ns2=[]\n",
    "for i in range(1,41):\n",
    "    ini = time.time()\n",
    "    ns2.append(fib(i))\n",
    "    times2.append(time.time()-ini)\n",
    "\n",
    "plt.plot(times2,ns2,'.')\n",
    "\n",
    "def lin(x,a):\n",
    "    return a*x\n",
    "popt2,pcov2= curve_fit(lin,times2,ns2)\n",
    "plt.plot(times2,f(times2,*popt2))\n",
    "poli(times2,ns2,2)"
   ]
  },
  {
   "cell_type": "code",
   "execution_count": null,
   "metadata": {},
   "outputs": [],
   "source": []
  },
  {
   "cell_type": "code",
   "execution_count": null,
   "metadata": {},
   "outputs": [],
   "source": []
  },
  {
   "cell_type": "code",
   "execution_count": null,
   "metadata": {},
   "outputs": [],
   "source": []
  },
  {
   "cell_type": "code",
   "execution_count": 94,
   "metadata": {},
   "outputs": [],
   "source": [
    "def Gausian_2D(x,y,mu_x,mu_y,sigma_x,sigma_y):\n",
    "    return 1.0/(2*np.pi*sigma_x*sigma_y)*np.exp(-0.5*\n",
    "                                                ((x-mu_x)**2/sigma_x**2)\n",
    "                                                - 0.5*\n",
    "                                                ((y-mu_y)**2/sigma_y**2))\n",
    "\n",
    "x=np.linspace(-5,5,1000)\n",
    "y=np.linspace(-8,8,1000)\n",
    "X,Y=np.meshgrid(x,y)\n",
    "z=Gausian_2D(X,Y,0,0,1,3)\n",
    "\n",
    "\n",
    "fig = plt.figure()\n",
    "ax = fig.gca(projection='3d')\n",
    "\n",
    "ax.plot_surface(X, Y, z, cmap=cm.coolwarm,linewidth=0, antialiased=False)\n",
    "\n",
    "plt.show()"
   ]
  },
  {
   "cell_type": "code",
   "execution_count": null,
   "metadata": {},
   "outputs": [],
   "source": []
  }
 ],
 "metadata": {
  "kernelspec": {
   "display_name": "Python 3",
   "language": "python",
   "name": "python3"
  },
  "language_info": {
   "codemirror_mode": {
    "name": "ipython",
    "version": 3
   },
   "file_extension": ".py",
   "mimetype": "text/x-python",
   "name": "python",
   "nbconvert_exporter": "python",
   "pygments_lexer": "ipython3",
   "version": "3.7.3"
  }
 },
 "nbformat": 4,
 "nbformat_minor": 2
}
