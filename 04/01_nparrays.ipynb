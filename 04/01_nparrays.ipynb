{
 "cells": [
  {
   "cell_type": "markdown",
   "metadata": {},
   "source": [
    "# Numpy (numerical arrays for numeric computation)"
   ]
  },
  {
   "cell_type": "markdown",
   "metadata": {},
   "source": [
    "Numpy is the basic *Python* module for scientific computing in *Python*.\n",
    "Its most used object is the multidimensional array. \n",
    "These objects can have any number of dimensions with an efficient storage in the computer's RAM which makes data easy to handle and pass to other libraries. Furthermore, most ot numpy is implemented in C which makes it efficient and fast.\n"
   ]
  },
  {
   "cell_type": "markdown",
   "metadata": {},
   "source": [
    "## Multidimensional arrays"
   ]
  },
  {
   "cell_type": "markdown",
   "metadata": {},
   "source": [
    "This is how `numpy` is usually imported and used to generate an `numpy array`"
   ]
  },
  {
   "cell_type": "code",
   "execution_count": 1,
   "metadata": {},
   "outputs": [],
   "source": [
    "import numpy as np"
   ]
  },
  {
   "cell_type": "code",
   "execution_count": 2,
   "metadata": {},
   "outputs": [],
   "source": [
    "data = [1, 10 , 2, 3, 8.0] # data is a list\n",
    "a = np.array(data) # a is now a numpy array"
   ]
  },
  {
   "cell_type": "code",
   "execution_count": 11,
   "metadata": {},
   "outputs": [
    {
     "data": {
      "text/plain": [
       "int"
      ]
     },
     "execution_count": 11,
     "metadata": {},
     "output_type": "execute_result"
    }
   ],
   "source": [
    "type(data[0])"
   ]
  },
  {
   "cell_type": "code",
   "execution_count": 4,
   "metadata": {},
   "outputs": [
    {
     "data": {
      "text/plain": [
       "array([ 1., 10.,  2.,  3.,  8.])"
      ]
     },
     "execution_count": 4,
     "metadata": {},
     "output_type": "execute_result"
    }
   ],
   "source": [
    "a"
   ]
  },
  {
   "cell_type": "markdown",
   "metadata": {},
   "source": [
    "This gives the shape of the array"
   ]
  },
  {
   "cell_type": "code",
   "execution_count": 5,
   "metadata": {},
   "outputs": [
    {
     "data": {
      "text/plain": [
       "(5,)"
      ]
     },
     "execution_count": 5,
     "metadata": {},
     "output_type": "execute_result"
    }
   ],
   "source": [
    "a.shape"
   ]
  },
  {
   "cell_type": "markdown",
   "metadata": {},
   "source": [
    "the number of dimensions"
   ]
  },
  {
   "cell_type": "code",
   "execution_count": 6,
   "metadata": {},
   "outputs": [
    {
     "data": {
      "text/plain": [
       "1"
      ]
     },
     "execution_count": 6,
     "metadata": {},
     "output_type": "execute_result"
    }
   ],
   "source": [
    "a.ndim"
   ]
  },
  {
   "cell_type": "markdown",
   "metadata": {},
   "source": [
    "the number of elements"
   ]
  },
  {
   "cell_type": "code",
   "execution_count": 7,
   "metadata": {},
   "outputs": [
    {
     "data": {
      "text/plain": [
       "5"
      ]
     },
     "execution_count": 7,
     "metadata": {},
     "output_type": "execute_result"
    }
   ],
   "source": [
    "a.size"
   ]
  },
  {
   "cell_type": "markdown",
   "metadata": {},
   "source": [
    "the number of bytes"
   ]
  },
  {
   "cell_type": "code",
   "execution_count": 8,
   "metadata": {},
   "outputs": [
    {
     "data": {
      "text/plain": [
       "40"
      ]
     },
     "execution_count": 8,
     "metadata": {},
     "output_type": "execute_result"
    }
   ],
   "source": [
    "a.nbytes"
   ]
  },
  {
   "cell_type": "markdown",
   "metadata": {},
   "source": [
    "The attribute `dtype` describes the element data type"
   ]
  },
  {
   "cell_type": "code",
   "execution_count": 9,
   "metadata": {},
   "outputs": [
    {
     "data": {
      "text/plain": [
       "dtype('float64')"
      ]
     },
     "execution_count": 9,
     "metadata": {},
     "output_type": "execute_result"
    }
   ],
   "source": [
    "a.dtype"
   ]
  },
  {
   "cell_type": "markdown",
   "metadata": {},
   "source": [
    "## Creating new arrays"
   ]
  },
  {
   "cell_type": "markdown",
   "metadata": {},
   "source": [
    "Arrays can be created with nested lists"
   ]
  },
  {
   "cell_type": "code",
   "execution_count": 12,
   "metadata": {},
   "outputs": [],
   "source": [
    "data = [[0.0, 2.0, 4.0, 6.0], [1.0, 3.0, 5.0, 7.0]]\n",
    "b = np.array(data)"
   ]
  },
  {
   "cell_type": "code",
   "execution_count": 13,
   "metadata": {},
   "outputs": [
    {
     "data": {
      "text/plain": [
       "array([[0., 2., 4., 6.],\n",
       "       [1., 3., 5., 7.]])"
      ]
     },
     "execution_count": 13,
     "metadata": {},
     "output_type": "execute_result"
    }
   ],
   "source": [
    "b"
   ]
  },
  {
   "cell_type": "code",
   "execution_count": 14,
   "metadata": {},
   "outputs": [
    {
     "data": {
      "text/plain": [
       "((2, 4), 2, 8, 64)"
      ]
     },
     "execution_count": 14,
     "metadata": {},
     "output_type": "execute_result"
    }
   ],
   "source": [
    "b.shape, b.ndim, b.size, b.nbytes"
   ]
  },
  {
   "cell_type": "markdown",
   "metadata": {},
   "source": [
    "The function `arange` is similar to `range` but it creates an array and not a list"
   ]
  },
  {
   "cell_type": "code",
   "execution_count": 15,
   "metadata": {},
   "outputs": [
    {
     "data": {
      "text/plain": [
       "array([0, 1, 2, 3, 4, 5, 6, 7, 8, 9])"
      ]
     },
     "execution_count": 15,
     "metadata": {},
     "output_type": "execute_result"
    }
   ],
   "source": [
    "c = np.arange(10) \n",
    "c"
   ]
  },
  {
   "cell_type": "markdown",
   "metadata": {},
   "source": [
    "the function `linspace` allows for the creation of equally spaced points"
   ]
  },
  {
   "cell_type": "code",
   "execution_count": 22,
   "metadata": {},
   "outputs": [
    {
     "data": {
      "text/plain": [
       "array([ 0. ,  0.5,  1. ,  1.5,  2. ,  2.5,  3. ,  3.5,  4. ,  4.5,  5. ,\n",
       "        5.5,  6. ,  6.5,  7. ,  7.5,  8. ,  8.5,  9. ,  9.5, 10. ])"
      ]
     },
     "execution_count": 22,
     "metadata": {},
     "output_type": "execute_result"
    }
   ],
   "source": [
    "e = np.linspace(0.0, 10, 21) # 11 points\n",
    "e"
   ]
  },
  {
   "cell_type": "markdown",
   "metadata": {},
   "source": [
    "Similar to matlab, there are also functions like `empty`, `zeros` and `ones`."
   ]
  },
  {
   "cell_type": "code",
   "execution_count": 27,
   "metadata": {},
   "outputs": [
    {
     "data": {
      "text/plain": [
       "array([[None, None, None, None],\n",
       "       [None, None, None, None],\n",
       "       [None, None, None, None],\n",
       "       [None, None, None, None]], dtype=object)"
      ]
     },
     "execution_count": 27,
     "metadata": {},
     "output_type": "execute_result"
    }
   ],
   "source": [
    "np.empty?\n",
    "np.empty((4,4), dtype = object, order= 'F')"
   ]
  },
  {
   "cell_type": "code",
   "execution_count": 28,
   "metadata": {},
   "outputs": [
    {
     "data": {
      "text/plain": [
       "array([[0., 0., 0.],\n",
       "       [0., 0., 0.],\n",
       "       [0., 0., 0.]])"
      ]
     },
     "execution_count": 28,
     "metadata": {},
     "output_type": "execute_result"
    }
   ],
   "source": [
    "np.zeros((3,3))"
   ]
  },
  {
   "cell_type": "code",
   "execution_count": 29,
   "metadata": {},
   "outputs": [
    {
     "data": {
      "text/plain": [
       "array([[1., 1., 1.],\n",
       "       [1., 1., 1.],\n",
       "       [1., 1., 1.]])"
      ]
     },
     "execution_count": 29,
     "metadata": {},
     "output_type": "execute_result"
    }
   ],
   "source": [
    "np.ones((3,3))"
   ]
  },
  {
   "cell_type": "markdown",
   "metadata": {},
   "source": [
    "## dtype"
   ]
  },
  {
   "cell_type": "markdown",
   "metadata": {},
   "source": [
    "`dtype` (for data type) is the attribute with the data type for each element. \n",
    "This data type is usually implicit but can be enforced at the moment of creating the array\n",
    "\n",
    "For instance, this is implicitly defined as an integer `dtype` "
   ]
  },
  {
   "cell_type": "code",
   "execution_count": 30,
   "metadata": {},
   "outputs": [],
   "source": [
    "a = np.array([0, 1, 2, 3])"
   ]
  },
  {
   "cell_type": "code",
   "execution_count": 31,
   "metadata": {},
   "outputs": [
    {
     "data": {
      "text/plain": [
       "(array([0, 1, 2, 3]), dtype('int64'))"
      ]
     },
     "execution_count": 31,
     "metadata": {},
     "output_type": "execute_result"
    }
   ],
   "source": [
    "a, a.dtype"
   ]
  },
  {
   "cell_type": "markdown",
   "metadata": {},
   "source": [
    "But you could force the creation of a complex array"
   ]
  },
  {
   "cell_type": "code",
   "execution_count": 32,
   "metadata": {},
   "outputs": [
    {
     "data": {
      "text/plain": [
       "array([[0.+0.j, 0.+0.j],\n",
       "       [0.+0.j, 0.+0.j]], dtype=complex64)"
      ]
     },
     "execution_count": 32,
     "metadata": {},
     "output_type": "execute_result"
    }
   ],
   "source": [
    "b = np.zeros((2,2), dtype=np.complex64)\n",
    "b"
   ]
  },
  {
   "cell_type": "markdown",
   "metadata": {},
   "source": [
    "or a float array"
   ]
  },
  {
   "cell_type": "code",
   "execution_count": 33,
   "metadata": {},
   "outputs": [
    {
     "data": {
      "text/plain": [
       "array([0., 2., 4., 6., 8.])"
      ]
     },
     "execution_count": 33,
     "metadata": {},
     "output_type": "execute_result"
    }
   ],
   "source": [
    "c = np.arange(0, 10, 2, dtype=np.float)\n",
    "c"
   ]
  },
  {
   "cell_type": "markdown",
   "metadata": {},
   "source": [
    "## Operations over arrays"
   ]
  },
  {
   "cell_type": "markdown",
   "metadata": {},
   "source": [
    "Mathematical operations can be performed over the whole array without running a `for` loop.\n",
    "\n",
    "For instance"
   ]
  },
  {
   "cell_type": "code",
   "execution_count": 34,
   "metadata": {},
   "outputs": [
    {
     "name": "stdout",
     "output_type": "stream",
     "text": [
      "a = [ 0.   2.5  5.   7.5 10. ]\n",
      "b = [1. 1. 1. 1. 1.]\n"
     ]
    }
   ],
   "source": [
    "a = np.linspace(0.0, 10.0, 5)\n",
    "print('a =', a)\n",
    "\n",
    "b = np.ones(5)\n",
    "print('b =',b)"
   ]
  },
  {
   "cell_type": "code",
   "execution_count": 35,
   "metadata": {},
   "outputs": [
    {
     "data": {
      "text/plain": [
       "array([ 0.,  5., 10., 15., 20.])"
      ]
     },
     "execution_count": 35,
     "metadata": {},
     "output_type": "execute_result"
    }
   ],
   "source": [
    "a * 2 # every element in the array is multiplied by 2"
   ]
  },
  {
   "cell_type": "code",
   "execution_count": 36,
   "metadata": {},
   "outputs": [
    {
     "data": {
      "text/plain": [
       "array([ 1. ,  3.5,  6. ,  8.5, 11. ])"
      ]
     },
     "execution_count": 36,
     "metadata": {},
     "output_type": "execute_result"
    }
   ],
   "source": [
    "a + b   #addition works element by element. The same goes for every operation"
   ]
  },
  {
   "cell_type": "markdown",
   "metadata": {},
   "source": [
    "## Slicing"
   ]
  },
  {
   "cell_type": "markdown",
   "metadata": {},
   "source": [
    "Slicing also works on arrays, only that this time it can be multidimensional"
   ]
  },
  {
   "cell_type": "code",
   "execution_count": 37,
   "metadata": {},
   "outputs": [],
   "source": [
    "a = np.random.rand(5, 5)#this creates a two dimensional array of random numbers"
   ]
  },
  {
   "cell_type": "code",
   "execution_count": 38,
   "metadata": {},
   "outputs": [
    {
     "name": "stdout",
     "output_type": "stream",
     "text": [
      "[[0.47465917 0.89313399 0.53382838 0.36268273 0.15642838]\n",
      " [0.01453137 0.31812961 0.90007059 0.76576755 0.32663578]\n",
      " [0.76700724 0.17550305 0.15686667 0.49043175 0.17920973]\n",
      " [0.13711315 0.09515501 0.64640762 0.77995367 0.27745355]\n",
      " [0.63212735 0.74732798 0.35758856 0.31968123 0.71327964]]\n"
     ]
    }
   ],
   "source": [
    "print(a)"
   ]
  },
  {
   "cell_type": "markdown",
   "metadata": {},
   "source": [
    "Each dimension has its own index"
   ]
  },
  {
   "cell_type": "code",
   "execution_count": 39,
   "metadata": {},
   "outputs": [
    {
     "name": "stdout",
     "output_type": "stream",
     "text": [
      "0.4746591729515499 0.8931339885355809\n"
     ]
    }
   ],
   "source": [
    "print(a[0,0], a[0,1]) # first index corresponds to file, the second to columns"
   ]
  },
  {
   "cell_type": "markdown",
   "metadata": {},
   "source": [
    "to extract the values of a whole column the following syntax can be used"
   ]
  },
  {
   "cell_type": "code",
   "execution_count": 40,
   "metadata": {},
   "outputs": [
    {
     "data": {
      "text/plain": [
       "array([0.47465917, 0.01453137, 0.76700724, 0.13711315, 0.63212735])"
      ]
     },
     "execution_count": 40,
     "metadata": {},
     "output_type": "execute_result"
    }
   ],
   "source": [
    "a[:,0] # this is the first column"
   ]
  },
  {
   "cell_type": "markdown",
   "metadata": {},
   "source": [
    "The last row could be extracted as follows"
   ]
  },
  {
   "cell_type": "code",
   "execution_count": 41,
   "metadata": {},
   "outputs": [
    {
     "data": {
      "text/plain": [
       "array([0.63212735, 0.74732798, 0.35758856, 0.31968123, 0.71327964])"
      ]
     },
     "execution_count": 41,
     "metadata": {},
     "output_type": "execute_result"
    }
   ],
   "source": [
    "a[-1,:] #this is the last row"
   ]
  },
  {
   "cell_type": "markdown",
   "metadata": {},
   "source": [
    "slicing also works in ranges"
   ]
  },
  {
   "cell_type": "code",
   "execution_count": 42,
   "metadata": {},
   "outputs": [
    {
     "data": {
      "text/plain": [
       "array([[0.47465917, 0.89313399, 0.53382838],\n",
       "       [0.01453137, 0.31812961, 0.90007059]])"
      ]
     },
     "execution_count": 42,
     "metadata": {},
     "output_type": "execute_result"
    }
   ],
   "source": [
    "a[0:2,0:3]"
   ]
  },
  {
   "cell_type": "markdown",
   "metadata": {},
   "source": [
    "assignation also works with slicing"
   ]
  },
  {
   "cell_type": "code",
   "execution_count": 43,
   "metadata": {},
   "outputs": [],
   "source": [
    "a[0:2,0:3] = -4.0"
   ]
  },
  {
   "cell_type": "code",
   "execution_count": 44,
   "metadata": {},
   "outputs": [
    {
     "data": {
      "text/plain": [
       "array([[-4.        , -4.        , -4.        ,  0.36268273,  0.15642838],\n",
       "       [-4.        , -4.        , -4.        ,  0.76576755,  0.32663578],\n",
       "       [ 0.76700724,  0.17550305,  0.15686667,  0.49043175,  0.17920973],\n",
       "       [ 0.13711315,  0.09515501,  0.64640762,  0.77995367,  0.27745355],\n",
       "       [ 0.63212735,  0.74732798,  0.35758856,  0.31968123,  0.71327964]])"
      ]
     },
     "execution_count": 44,
     "metadata": {},
     "output_type": "execute_result"
    }
   ],
   "source": [
    "a"
   ]
  },
  {
   "cell_type": "markdown",
   "metadata": {},
   "source": [
    "### Exercise 1.1\n",
    "\n",
    "Create an bidimensional array of random numbers with shape (4,8).\n",
    "\n",
    "First, set the last column to `-1` and then set the second row to `2`"
   ]
  },
  {
   "cell_type": "code",
   "execution_count": 83,
   "metadata": {},
   "outputs": [
    {
     "name": "stdout",
     "output_type": "stream",
     "text": [
      "[[ 0.74204569  2.          0.95519555  0.07416258  0.33215016  0.02811318\n",
      "   0.35971768 -1.        ]\n",
      " [ 0.0805176   2.          0.18266815  0.36758774  0.90029855  0.82092258\n",
      "   0.99295061 -1.        ]\n",
      " [ 0.62711034  2.          0.4271149   0.51389525  0.84137909  0.87841082\n",
      "   0.02486162 -1.        ]\n",
      " [ 0.31772356  2.          0.71819452  0.89477172  0.38786584  0.43105308\n",
      "   0.49735127 -1.        ]]\n"
     ]
    }
   ],
   "source": [
    "b = np.random.rand(4,8)\n",
    "b[:,-1] = -1\n",
    "b[:,1] = 2\n",
    "print(b)"
   ]
  },
  {
   "cell_type": "markdown",
   "metadata": {},
   "source": [
    "## Boolean indexing"
   ]
  },
  {
   "cell_type": "markdown",
   "metadata": {},
   "source": [
    "Arrays can be indexed using other boolean arrays.\n",
    "\n",
    "For instance consider these two arrays with the age and gender of a set of 10 people"
   ]
  },
  {
   "cell_type": "code",
   "execution_count": 45,
   "metadata": {},
   "outputs": [],
   "source": [
    "age = np.array([23, 56, 67, 89, 23, 56, 27, 12, 2, 72])\n",
    "gender= np.array(['m', 'o', 'f', 'f', 'm', 'f', 'm', 'o' ,'m', 'o'])"
   ]
  },
  {
   "cell_type": "markdown",
   "metadata": {},
   "source": [
    "Suppose that we want to select only the gender of people marked as `'o'` (other).\n",
    "\n",
    "The following statement gives the new boolean array. Each element tells me whether the condition is True or False "
   ]
  },
  {
   "cell_type": "code",
   "execution_count": 46,
   "metadata": {},
   "outputs": [
    {
     "name": "stdout",
     "output_type": "stream",
     "text": [
      "[False  True False False False False False  True False  True]\n"
     ]
    }
   ],
   "source": [
    "ii = (gender == 'o')\n",
    "print(ii)"
   ]
  },
  {
   "cell_type": "markdown",
   "metadata": {},
   "source": [
    "Now if we want to have the ages of the people with gender `o` all I have to do is:"
   ]
  },
  {
   "cell_type": "code",
   "execution_count": 47,
   "metadata": {},
   "outputs": [
    {
     "data": {
      "text/plain": [
       "array([56, 12, 72])"
      ]
     },
     "execution_count": 47,
     "metadata": {},
     "output_type": "execute_result"
    }
   ],
   "source": [
    "age[ii]"
   ]
  },
  {
   "cell_type": "markdown",
   "metadata": {},
   "source": [
    "This logic can be extended to different conditions, for instance, let's select the items with age larger than 10 and smaller than 50"
   ]
  },
  {
   "cell_type": "code",
   "execution_count": 48,
   "metadata": {},
   "outputs": [
    {
     "name": "stdout",
     "output_type": "stream",
     "text": [
      "[23 23 27 12]\n",
      "['m' 'm' 'm' 'o']\n"
     ]
    }
   ],
   "source": [
    "ii = (age > 10) & (age < 50) # & is the symbol for the logical AND\n",
    "print(age[ii])\n",
    "print(gender[ii])"
   ]
  },
  {
   "cell_type": "markdown",
   "metadata": {},
   "source": [
    "The following is also a valid syntax"
   ]
  },
  {
   "cell_type": "code",
   "execution_count": 49,
   "metadata": {},
   "outputs": [
    {
     "data": {
      "text/plain": [
       "array([56, 67, 89, 56, 72])"
      ]
     },
     "execution_count": 49,
     "metadata": {},
     "output_type": "execute_result"
    }
   ],
   "source": [
    "age[age>30]"
   ]
  },
  {
   "cell_type": "markdown",
   "metadata": {},
   "source": [
    "### Exercise 1.2\n",
    "\n",
    "Using `a=np.random.normal(size=1000)` generate an array of 1000 thousand random numbers generated from a normal (i.e. gaussian) distribution with mean zero and standard deviation of one.\n",
    "\n",
    "Print the number of elements with values larger than `2.0`. Is this number close to what you expected from the properties of a gaussian distribution?"
   ]
  },
  {
   "cell_type": "code",
   "execution_count": 75,
   "metadata": {},
   "outputs": [
    {
     "name": "stdout",
     "output_type": "stream",
     "text": [
      "[2.61061766 2.75945925]\n"
     ]
    }
   ],
   "source": [
    "a = np.random.normal(size=100)\n",
    "print( a[a>2.0])"
   ]
  },
  {
   "cell_type": "markdown",
   "metadata": {},
   "source": [
    "## Universal functions\n",
    "\n",
    "Universal functions (or `ufuncs`) are functions that take arrays as inputs and return either arrays or scalar. They are characterized for being fast (implemented in C) and allowing to write simpler python code without using `for` loops. \n",
    "Here is a list of [all universal functions in numpy](http://docs.scipy.org/doc/numpy/reference/ufuncs.html#available-ufuncs)"
   ]
  },
  {
   "cell_type": "markdown",
   "metadata": {},
   "source": [
    "For instance one could generate an array of values"
   ]
  },
  {
   "cell_type": "code",
   "execution_count": 76,
   "metadata": {},
   "outputs": [
    {
     "name": "stdout",
     "output_type": "stream",
     "text": [
      "[0.         0.34906585 0.6981317  1.04719755 1.3962634  1.74532925\n",
      " 2.0943951  2.44346095 2.7925268  3.14159265]\n"
     ]
    }
   ],
   "source": [
    "t = np.linspace(0.0, np.pi, 10)\n",
    "print(t)"
   ]
  },
  {
   "cell_type": "markdown",
   "metadata": {},
   "source": [
    "and the compute the values of the `sin` function"
   ]
  },
  {
   "cell_type": "code",
   "execution_count": 77,
   "metadata": {},
   "outputs": [
    {
     "name": "stdout",
     "output_type": "stream",
     "text": [
      "[0.00000000e+00 3.42020143e-01 6.42787610e-01 8.66025404e-01\n",
      " 9.84807753e-01 9.84807753e-01 8.66025404e-01 6.42787610e-01\n",
      " 3.42020143e-01 1.22464680e-16]\n"
     ]
    }
   ],
   "source": [
    "print(np.sin(t))"
   ]
  },
  {
   "cell_type": "markdown",
   "metadata": {},
   "source": [
    "### Exercise 1.3\n",
    "\n",
    "Using `a=np.random.normal(size=1000)` generate an array of 1000 thousand random numbers generated from a normal (i.e. gaussian) distribution with mean zero and standard deviation of one.\n",
    "\n",
    "Then using only `ufuncs` on `a` generate a new array `b` that is `-1` wherever `a` is negative and `1` wherever `a` is positive."
   ]
  },
  {
   "cell_type": "code",
   "execution_count": 98,
   "metadata": {},
   "outputs": [
    {
     "name": "stdout",
     "output_type": "stream",
     "text": [
      "Se cambió de [ 3.64629050e-01 -2.12231304e+00 -7.34246470e-01  5.46332270e-01\n",
      "  1.23337376e-01  8.56868343e-01 -1.08149287e+00 -6.41159762e-02\n",
      "  1.65693591e+00 -4.43457915e-01 -6.36872667e-02  6.03781638e-01\n",
      " -1.07545112e+00  5.67614549e-01  2.60911535e+00  4.66441012e-01\n",
      " -2.53510453e-01  1.33776324e-01 -4.60147460e-02  5.69635076e-01\n",
      "  1.34490294e+00  8.10678410e-01 -4.19511008e-01  3.30404762e-01\n",
      "  6.32746439e-01  8.34830780e-01  2.93556433e-01  3.74932004e-03\n",
      "  6.17024602e-01 -3.51485925e-01 -2.45170765e+00 -1.06998856e+00\n",
      "  7.54559726e-01  1.05697493e+00 -9.40610288e-01  5.87090833e-01\n",
      "  5.73695142e-02 -1.63992526e+00 -5.57170463e-01 -1.32983873e+00\n",
      " -1.78809061e+00  9.94393788e-01 -7.71323231e-01 -1.45266109e-01\n",
      "  1.01208516e+00 -6.79516565e-01 -2.81320976e-01  1.20550308e+00\n",
      "  3.22807686e-02 -1.86525633e-01 -5.84437441e-02 -1.76817611e-01\n",
      "  4.02689786e-01 -7.27898077e-01  1.55718405e+00 -6.76905546e-01\n",
      "  3.02416715e-01  1.28222190e+00 -2.62833188e-02 -1.16350349e+00\n",
      " -1.74610167e-01 -1.30009271e+00  1.80914751e+00 -1.82979655e+00\n",
      "  1.69816561e+00  1.15092927e+00  1.04658730e+00 -1.27062720e+00\n",
      "  1.87829862e-01  8.76956403e-01  1.05467447e+00  1.09472722e+00\n",
      "  8.22115229e-01  5.34400601e-02  1.32830969e+00 -2.48191097e-01\n",
      " -3.97973884e-01 -6.56796330e-01 -5.38404171e-01  2.07717830e-01\n",
      " -3.68369089e-01 -2.28168349e-01 -2.46725296e-01  8.49812155e-01\n",
      " -1.72215110e+00 -6.96206630e-02  1.17745777e+00  4.28019632e-01\n",
      " -5.26806414e-01  4.79258426e-01 -1.15056800e+00  3.73369067e-01\n",
      " -1.39593798e-01 -5.49383286e-01  1.31090324e+00  9.48354406e-01\n",
      "  1.38613713e+00  2.16043951e+00  4.81152645e-01 -1.12491045e+00\n",
      "  8.08047907e-02 -1.83248097e-01 -6.82820519e-01  7.61620224e-01\n",
      " -1.15620088e+00 -1.03284664e+00 -1.05269365e-01  1.45846539e+00\n",
      " -3.87940253e-01 -4.38456641e-01 -7.56633422e-01 -6.68831003e-01\n",
      "  4.03218853e-01 -1.39302954e+00  2.70237918e-01 -1.26036286e+00\n",
      "  5.23472293e-01  5.37252901e-02  2.32461701e+00  1.77606402e-01\n",
      "  1.59708783e+00  8.38610487e-02  1.57129445e+00 -8.89148928e-01\n",
      "  1.24203908e+00  1.00180696e+00 -2.84587174e-01  9.59441129e-01\n",
      " -1.30447229e+00 -3.13950357e-01  3.25958678e-01 -1.09954223e+00\n",
      " -1.40954116e+00  1.56675856e+00  2.88548444e-01 -1.02123919e+00\n",
      "  1.31364815e+00  5.73298694e-01 -9.21363935e-01  1.80969042e-02\n",
      " -7.69987052e-01  5.97780086e-01 -5.79714610e-01  3.10792440e-01\n",
      "  6.02989405e-01 -2.88645594e+00 -4.45918544e-01  2.44317770e-01\n",
      "  1.49468137e+00  1.19140923e+00  3.24757332e-01 -1.01974952e+00\n",
      " -2.56407185e-01 -1.85490048e+00  1.00645044e-01  1.79105145e+00\n",
      "  6.09026153e-01  9.10446400e-01  4.91133956e-01  1.35550383e+00\n",
      " -1.03840817e+00  8.48285065e-02 -4.32203699e-01  1.28411267e-01\n",
      " -2.13597398e+00  6.35224156e-01 -8.41579935e-01  1.70913244e+00\n",
      "  1.31331031e+00 -2.77582778e-01  9.60684370e-01  5.54669816e-01\n",
      "  4.25588199e-01 -1.69592558e+00  9.69115335e-01  2.89967787e-02\n",
      "  1.11073445e+00  7.43870860e-01  1.22500024e+00 -8.79913758e-02\n",
      " -7.31322911e-01  8.05278719e-01 -4.51457484e-01  1.30319877e+00\n",
      "  9.51779932e-01 -9.07418539e-02 -2.46462020e+00  4.62050053e-01\n",
      " -6.13818840e-01 -5.77607345e-01  1.43349241e+00  2.34236892e-01\n",
      " -5.20382757e-03 -1.46567687e+00 -1.21643016e-01 -3.62407355e-01\n",
      " -2.33519279e-01  1.62187292e-01 -1.36014408e+00  1.82691184e+00\n",
      " -6.17888820e-02  4.08902095e-01 -2.04882660e+00  9.24956628e-01\n",
      " -1.10648204e+00 -2.17167057e+00 -1.07329493e+00  3.00621093e+00\n",
      " -8.64600923e-01  1.33228589e+00  4.47675023e-01  1.22876656e-01\n",
      " -1.08775075e+00  6.80971786e-01  2.95747932e-01 -4.18503291e-01\n",
      "  1.27682172e+00 -9.28148253e-01  2.56276237e-01 -4.44411789e-01\n",
      " -2.25481985e+00  1.43531123e+00 -6.22520753e-01  1.06840892e+00\n",
      " -1.53772465e+00  7.35074117e-02 -9.09419286e-01  1.30409484e+00\n",
      " -1.22722280e+00  2.17071901e-02  8.82809845e-01 -1.37579719e+00\n",
      " -2.29872959e+00  8.01039419e-01 -3.55559015e-01 -8.42485162e-01\n",
      "  1.59257677e+00 -6.03175219e-02  5.36133211e-01 -2.50843996e-01\n",
      "  1.28843879e+00  2.50166025e+00 -6.72161429e-01  7.34910958e-01\n",
      " -1.02040717e-01  1.44348273e+00  2.54440886e-01  1.88013406e+00\n",
      "  4.19679921e-01 -9.98345893e-01  1.46222383e+00  2.13495976e-02\n",
      " -4.01874796e-01 -9.64292363e-01  7.25707208e-01  2.02458932e+00\n",
      "  7.47826447e-02 -1.84023350e-01 -1.12899830e+00  1.26746221e+00\n",
      " -1.57275656e+00 -5.50568117e-01 -4.72769403e-01  6.02974837e-01\n",
      " -9.21144588e-01  2.13614386e+00  2.00714757e-01 -6.07947880e-02\n",
      " -1.15900150e+00 -5.74693894e-01  4.57220021e-01  1.05668829e+00\n",
      " -7.20281146e-01  1.26732986e-01 -4.62735236e-01 -1.85764889e-01\n",
      "  3.61450626e-01  3.50513327e-01  3.16018030e-02 -5.89773909e-01\n",
      "  9.24086972e-02  7.73624582e-01  1.72488215e-01 -8.27552023e-01\n",
      "  8.20611842e-01 -7.46112106e-01 -1.53746973e+00  3.33335279e-02\n",
      " -6.74202772e-01  6.74357654e-02  1.09425909e-01 -1.87207452e-01\n",
      "  2.30691953e-01  1.09180575e+00  4.57959919e-01 -2.20831362e+00\n",
      " -3.71772626e-01  1.13350988e+00 -1.49687234e+00 -1.41025768e+00\n",
      "  8.06495105e-01  8.04481218e-02 -5.36681994e-01 -1.05687160e+00\n",
      "  2.02176997e-02  1.54941476e+00 -6.77273054e-02 -1.28562591e+00\n",
      "  1.04815116e+00  1.05007230e+00  9.70182347e-01  5.86625411e-01\n",
      "  6.83373316e-01 -6.91710563e-01 -5.10986912e-01  7.38123591e-01\n",
      "  2.49649807e-01 -8.44924050e-01  1.52930654e+00  1.09182891e+00\n",
      " -7.17614751e-01 -4.34598206e-01 -2.65258418e-01 -1.31857668e+00\n",
      "  1.70266689e-01 -2.64339295e+00 -1.00697471e-01 -3.15845516e-01\n",
      "  1.45686673e-01  4.89059449e-01 -4.46917857e-01  1.36254125e-01\n",
      "  1.01125649e+00 -1.23267543e-02  4.97141634e-01 -1.99228703e-01\n",
      " -1.66210192e-01  5.25198514e-01  1.66308962e-01  1.67502951e-01\n",
      "  1.18110752e-01 -1.09123374e-01 -6.97914813e-01  5.88849940e-01\n",
      "  3.04373703e+00  6.11719133e-01 -8.83416921e-02  2.59330789e-01\n",
      "  9.85318142e-01  1.27411490e-02 -5.36538272e-01 -1.55226592e+00\n",
      "  1.06688831e+00 -1.04450364e+00 -2.66376718e-01  1.42838979e+00\n",
      "  1.80835505e-01 -5.08277773e-01  1.59661378e+00  8.91105183e-01\n",
      "  9.58600820e-01  3.04978864e+00 -6.17218162e-01  2.08101356e+00\n",
      " -5.77821256e-01 -5.44317225e-01 -1.00857445e-01 -1.38675017e+00\n",
      "  4.33721427e-01 -8.31009307e-01  1.35749294e-02 -6.51252315e-01\n",
      "  3.28565853e-01 -2.06329689e+00  3.57914375e-02  2.69190669e-01\n",
      " -6.42414542e-01  4.75115714e-01 -1.08913343e-01 -3.60479698e-01\n",
      "  3.24165481e-01 -1.14919624e+00 -9.21078355e-01  6.90154555e-02\n",
      "  1.17890242e+00  5.60430673e-01 -1.06987796e+00  3.12281939e-01\n",
      "  4.27356185e-01  3.39281085e-01  8.12825806e-01  5.96327692e-01\n",
      "  1.25626794e+00  2.53804659e-01 -7.67652070e-01  1.85307814e+00\n",
      "  5.27310697e-01 -1.18270064e+00 -1.06818647e+00  1.66091976e+00\n",
      " -9.75189068e-01 -2.39250750e-01 -1.25881765e-01  6.82973269e-01\n",
      " -7.91177597e-01  6.18230811e-02  3.02412358e+00 -4.59533547e-01\n",
      " -4.98365205e-01  5.74561052e-01  3.93373015e-02 -1.05877610e+00\n",
      " -6.89588199e-01  2.19420924e-01  6.83474933e-01  3.73791184e-02\n",
      "  4.50011907e-01 -2.74034341e+00  4.83324474e-01 -7.50517441e-01\n",
      "  3.36476973e-01  5.56855938e-01  1.77315713e-01  2.31426286e-01\n",
      " -6.37450217e-01  6.76931737e-01  2.62234764e-01 -7.88267290e-01\n",
      " -3.40947227e-01  2.17352132e-01  5.65720118e-01  4.76016450e-01\n",
      " -4.49934936e-02 -1.45419833e+00  5.06454071e-01  6.29070897e-02\n",
      "  2.20979533e+00 -6.07915301e-01  1.47635566e+00 -2.09192112e-01\n",
      "  3.07403430e-02 -6.06542610e-01 -1.22323942e+00 -9.37708539e-01\n",
      "  9.56904683e-02 -1.14308777e+00 -1.13630073e+00  1.41835186e+00\n",
      "  2.19683065e+00 -2.30613385e-01 -1.12432379e+00 -3.91035290e-01\n",
      " -6.89496825e-01 -2.49202773e-01  2.44433122e-01 -1.61130355e+00\n",
      " -2.68367359e-01 -1.15879853e+00  1.00275841e-01 -8.00778427e-01\n",
      "  4.95268589e-01 -2.43479881e+00 -8.63671797e-01  4.42339681e-01\n",
      "  1.97158962e+00  7.49300341e-01  1.15621153e+00 -2.35777546e-01\n",
      " -8.47208324e-02 -1.70568667e+00 -6.39552579e-01  2.35510468e+00\n",
      " -8.22449216e-01  1.08087253e+00 -4.09974328e-01 -6.92774476e-01\n",
      "  1.94621578e+00  3.40002507e-01  6.27509793e-01  2.28509820e+00\n",
      " -2.87868975e-01 -2.31845568e+00 -1.60127277e+00 -1.94742508e+00\n",
      "  1.19071407e-02  4.82720156e-01  4.76186541e-01 -1.18398952e+00\n",
      " -1.46878336e+00  7.34716433e-01 -1.37387399e+00 -2.50244338e+00\n",
      "  6.69510813e-01 -1.59749965e+00 -2.72856551e-01 -3.03578041e-01\n",
      " -5.16481650e-01 -3.23310603e-02 -2.04148288e-01 -3.30870263e-01\n",
      "  1.28590589e-01 -1.37222847e+00  5.04270375e-01  4.69361480e-02\n",
      "  2.82424073e-01  8.03241825e-01  1.85248586e+00 -7.55028367e-01\n",
      "  2.24633895e+00 -6.89401195e-01 -1.58810876e-01  2.50041112e-01\n",
      "  4.60793021e-01 -8.03101147e-01  4.02813979e-02 -3.23855750e-01\n",
      "  1.32946695e+00 -4.92312835e-02  2.01876603e+00 -5.27718011e-01\n",
      " -6.31581162e-01 -3.61820339e-01 -9.94148244e-02  3.67452184e-01\n",
      "  1.04341911e+00 -2.31249107e-02 -5.85237787e-01 -1.85677684e-01\n",
      "  9.73325904e-01 -1.48543057e+00 -1.51882939e+00  1.94397548e-01\n",
      " -1.94903119e+00 -9.76989075e-01  4.08172872e-02  7.53499278e-01\n",
      " -9.33088210e-02  7.80055718e-01  3.77714544e-01  5.37197393e-01\n",
      " -5.96816669e-01 -1.11192373e+00  4.10198662e-01  9.86614963e-01\n",
      "  1.39463863e+00  8.78268873e-01 -5.05900518e-01 -1.83859028e+00\n",
      "  8.02229354e-01 -2.70110929e+00  6.71830352e-01  1.46926666e-01\n",
      " -3.09132420e-01 -1.14263468e+00  2.78944153e-02 -6.69265002e-01\n",
      "  1.24453046e+00  1.42100709e+00 -5.56790585e-01 -2.63269419e+00\n",
      " -5.96271142e-01 -9.62409730e-01 -1.84082671e+00 -9.87018449e-01\n",
      "  8.32942219e-01 -1.20060869e-01  4.11991707e-01  1.35556909e+00\n",
      " -9.46697904e-01 -1.14457487e+00  8.01205142e-01  8.39309445e-01\n",
      "  5.18025239e-01 -1.64121443e-02  1.31998715e+00 -2.53129935e-02\n",
      "  1.50052976e-01 -5.61789533e-01 -4.44896106e-01 -6.14297129e-01\n",
      " -1.45714195e+00 -8.22281486e-01 -3.65585796e-01 -6.88469700e-01\n",
      " -1.06878601e-01 -5.75856958e-01  7.63194420e-02 -7.91603046e-01\n",
      "  9.79358697e-01  6.80606039e-01 -1.58647213e+00 -3.62489820e-01\n",
      " -1.12801589e+00 -4.57600765e-01  2.11869935e+00  1.22001016e+00\n",
      " -7.25888556e-01 -1.67366086e+00  9.63423403e-01 -7.06265067e-01\n",
      "  7.32833242e-01  1.04916836e-01  4.49395012e-01 -1.41984033e+00\n",
      "  6.38658498e-01 -6.99937616e-01  3.43247805e-01  1.28320708e+00\n",
      "  6.84423920e-01 -2.02823360e+00  1.05613787e+00 -1.26808757e+00\n",
      "  2.27914498e+00  3.71332651e-01  8.53857444e-01 -1.68650694e-01\n",
      " -3.38276843e-01  9.94904494e-01  1.22780065e+00 -4.45453699e-01\n",
      " -1.74391670e-01  1.30287935e-01  1.04931548e+00 -3.15156203e+00\n",
      " -2.78340018e-01  5.89283868e-01 -2.23576475e-01  1.27391729e+00\n",
      "  7.88695332e-02  4.19825612e-01  6.17656002e-01 -9.34467788e-02\n",
      " -3.74610306e-01 -8.04689265e-02 -3.79997982e-01 -5.36448625e-01\n",
      " -9.64721655e-01  1.35110215e+00 -1.35922073e+00 -3.91461387e-01\n",
      "  3.40699373e-01 -1.08761973e+00 -3.80882241e-01  2.20955312e+00\n",
      " -6.31715643e-01  6.25585283e-01  5.24901209e-01  2.99009863e-01\n",
      "  2.01184951e-02 -4.85166988e-01  4.66570197e-01 -2.46845361e+00\n",
      " -1.20918139e-01 -9.27623341e-02 -1.08858355e-01  8.73982980e-01\n",
      " -1.29680060e-01  1.02541772e+00  2.29847075e-01 -7.62439138e-01\n",
      " -7.12740963e-01  2.55767370e+00  4.58659593e-01 -2.34192533e-01\n",
      " -9.57054354e-01 -1.05363639e+00  1.29676261e+00 -1.59806054e+00\n",
      " -1.47506514e+00 -1.94378055e-01  3.08194495e-01  1.06893832e+00\n",
      "  3.53603491e-01 -1.49471214e+00 -5.21190869e-01  2.89370699e-01\n",
      " -2.01731170e+00 -8.70874241e-01 -1.28055106e+00  3.02036165e-01\n",
      "  5.02005337e-01  4.87901943e-01 -9.46081299e-01  2.42344747e-01\n",
      " -3.18547879e-01 -8.34879569e-01  4.36894715e-01  1.10507694e+00\n",
      " -6.35326933e-01  3.45048131e-01 -2.55511586e-01 -3.38770035e-01\n",
      " -1.27009364e+00  3.51811152e-01  2.70883952e-01 -6.19449271e-01\n",
      "  7.55865122e-01 -7.06549711e-01 -2.90561497e-01 -1.17018983e+00\n",
      " -1.94537564e-01  5.06441438e-02  1.19946052e+00  4.39399180e-02\n",
      " -2.24040840e-01 -1.47426122e-01 -5.78648792e-01 -6.70649013e-01\n",
      " -1.78179386e+00 -1.52320174e-01 -1.19074983e-01 -1.22224884e-01\n",
      "  7.40017310e-02 -4.21732971e-01  3.02178897e-01 -2.01222569e+00\n",
      " -1.04686105e+00 -8.02272947e-02 -6.16327258e-01 -1.37234706e+00\n",
      "  9.15513607e-01 -9.62486964e-01  5.09502837e-01  9.90920001e-01\n",
      " -2.82987303e-01 -3.42527174e-01  3.74497388e-01 -1.18188275e+00\n",
      " -4.04354956e-02 -4.69351993e-01  1.12441159e+00 -8.24870228e-01\n",
      " -4.30094927e-01  1.41645456e+00  2.10389636e-01 -1.46010035e+00\n",
      "  7.77220048e-01 -5.00229684e-01  1.93086295e-01  6.90401255e-01\n",
      " -4.76375219e-01 -3.36814197e-01 -1.09926510e+00  1.24004508e+00\n",
      "  3.67373633e-01 -1.58082504e-01 -1.59723621e+00  1.43209416e+00\n",
      " -7.51549196e-02  7.67245073e-01  5.60030433e-02 -7.72316444e-01\n",
      "  5.20835592e-02  5.50540638e-01  4.55106198e-01  5.27817782e-01\n",
      "  9.45810005e-01  2.43374208e-01 -2.60486571e-01 -1.43141980e+00\n",
      "  6.76177368e-01 -4.16899696e-01  1.45443909e+00 -9.95637046e-01\n",
      "  7.38258490e-01 -2.33078172e-01  3.45107127e-01 -9.14119109e-01\n",
      " -1.92268032e+00  1.33968040e+00 -1.88970150e+00 -1.13688300e+00\n",
      " -2.54547069e-01 -2.71937286e-01  1.75203511e-01 -6.23113710e-01\n",
      " -2.11713694e-01 -1.41830441e-01 -1.52535387e+00  9.16982225e-01\n",
      "  1.79259774e+00  8.95028777e-02 -8.46202241e-01 -6.97662491e-01\n",
      "  1.75664907e+00  8.01987656e-01 -6.55334067e-01 -9.76769193e-01\n",
      "  7.06031576e-01 -3.31056943e-01  1.15476911e+00  6.46789034e-01\n",
      "  1.76369466e-01  7.42865039e-01 -2.99134762e-01  4.67678280e-01\n",
      "  1.43036895e+00  5.49178657e-01 -1.06522387e+00  4.08609992e-01\n",
      " -8.41154084e-01 -3.92880456e-01  4.05489221e-01 -1.52525208e-01\n",
      "  3.37019410e-01 -5.63500206e-01  4.06911163e-01  3.50403112e-01\n",
      "  4.11006255e-01  1.18126397e+00 -5.34503284e-03 -1.89471626e+00\n",
      " -1.85775965e-01 -3.50078272e-01 -7.46804170e-01 -9.25206950e-03\n",
      "  1.75950905e+00 -4.79397087e-01 -1.91536812e+00  1.04293076e+00\n",
      "  1.09919512e+00 -7.19885232e-01 -1.99489347e+00 -7.68405805e-01\n",
      "  1.01436818e+00  5.69416218e-01 -3.61680016e-01  1.92533564e-01\n",
      " -1.22877820e+00  6.71036929e-01 -8.06200041e-01 -3.27693558e-01\n",
      "  1.01431767e+00 -1.13099371e+00 -5.89597151e-01  1.25727399e+00\n",
      " -1.02907829e+00  7.23311957e-01  1.28496086e+00 -1.56853805e+00\n",
      " -3.06939050e-01 -1.97151757e+00  1.89740868e+00 -5.27734570e-01\n",
      "  1.05021348e+00 -2.89811113e-01 -1.27081886e+00  8.21117783e-01\n",
      " -1.75557537e+00  1.74569789e+00  4.58778442e-01  3.50280195e-01\n",
      " -1.81726379e+00 -5.37613471e-01 -1.07255156e+00 -7.72034470e-01\n",
      "  3.07731358e-01 -5.20753616e-01  2.79298965e-01 -8.92407201e-01\n",
      " -6.80949098e-01  1.06588747e+00  1.52270236e-01 -2.01658653e+00\n",
      " -2.24451106e-01  2.01593071e-02 -5.90576106e-01 -8.28271635e-02\n",
      "  1.98071153e+00  8.08358369e-01 -9.87824794e-02 -2.55530323e-01\n",
      "  2.55177475e+00 -6.75611352e-01  4.36565830e-04  1.37141785e+00\n",
      " -2.65949754e-01 -2.49297812e+00  2.01772720e+00  1.15959927e+00\n",
      "  4.24157244e-01 -1.22548984e+00 -1.44592443e+00  8.82285362e-02\n",
      " -1.71089223e+00  4.86153558e-01 -5.77373972e-01 -6.27841408e-01\n",
      "  9.20901451e-01  8.49532338e-01  4.14818325e-01  1.04106341e+00\n",
      "  9.89515496e-01  1.37786828e+00 -1.13161267e+00  1.81150827e+00\n",
      "  8.63521171e-01 -2.16384292e-01 -9.68788234e-01  1.64645851e+00\n",
      "  3.60925113e-01  6.65394881e-01  1.62823678e+00 -6.86744931e-01\n",
      " -4.53332040e-01 -5.50110310e-01 -2.49622841e-01 -1.36703598e+00\n",
      "  1.99285521e-01 -2.90707120e-01  7.34088821e-01 -2.59340917e+00\n",
      " -1.29552772e-01  3.54214130e-02 -2.77189821e-01  3.40169558e-01\n",
      "  1.26023107e+00  2.39525907e-01 -1.52492927e+00 -7.58017923e-02\n",
      " -5.62276397e-02  3.73306924e-01  5.44564071e-01 -1.04007844e+00\n",
      " -1.41325514e-01  2.58614644e-01 -4.20317681e-01  1.84019641e+00\n",
      "  3.62793397e-01  1.12245081e+00 -1.32956308e+00 -9.16463242e-01\n",
      "  1.82071133e-02 -5.37842733e-01 -6.25818168e-02 -2.36984515e-01\n",
      " -3.73539025e-04  2.73729261e-01 -3.45646036e-01 -1.15122942e+00\n",
      " -1.14979781e-01 -8.74902194e-01 -4.01299673e-02 -6.99856184e-01\n",
      "  4.50413713e-01  6.60822381e-02 -7.88864532e-01 -1.56674238e+00\n",
      " -7.74243336e-01  1.00115085e-01  1.45541453e+00  1.28841646e+00\n",
      "  1.25485526e-01  1.19609792e+00  2.43863333e+00  2.07670166e-01\n",
      " -3.25732704e-01  5.96135637e-01 -5.90415982e-01  1.65623141e-01\n",
      " -5.88042885e-01  7.74691649e-01  3.62142956e-01 -3.90780092e-01\n",
      "  8.93433474e-01  6.81463515e-01  1.42150164e+00 -8.89750575e-01\n",
      " -9.55806714e-02  3.36994134e-01  6.59859655e-01 -3.48677140e-01\n",
      " -1.63496439e+00  3.62140372e-01 -8.40503234e-02  2.98881268e-01\n",
      "  6.42953175e-01 -1.05963765e+00 -7.89403322e-01 -1.19251829e+00\n",
      "  5.98838063e-01 -1.49614715e+00 -2.74449468e-01 -1.61459015e+00\n",
      " -2.77522939e-01 -1.30615532e+00  1.07119937e-01  4.10423930e-01\n",
      " -3.42872820e-01  6.26096692e-01  1.48091095e+00  6.89931204e-01\n",
      " -1.24858480e-01  1.12101126e+00 -2.49624892e-01 -2.64448316e+00\n",
      "  8.68310910e-01  1.34584296e-01 -6.13709313e-01  6.22814676e-01] a [ 1. -1. -1.  1.  1.  1. -1. -1.  1. -1. -1.  1. -1.  1.  1.  1. -1.  1.\n",
      " -1.  1.  1.  1. -1.  1.  1.  1.  1.  1.  1. -1. -1. -1.  1.  1. -1.  1.\n",
      "  1. -1. -1. -1. -1.  1. -1. -1.  1. -1. -1.  1.  1. -1. -1. -1.  1. -1.\n",
      "  1. -1.  1.  1. -1. -1. -1. -1.  1. -1.  1.  1.  1. -1.  1.  1.  1.  1.\n",
      "  1.  1.  1. -1. -1. -1. -1.  1. -1. -1. -1.  1. -1. -1.  1.  1. -1.  1.\n",
      " -1.  1. -1. -1.  1.  1.  1.  1.  1. -1.  1. -1. -1.  1. -1. -1. -1.  1.\n",
      " -1. -1. -1. -1.  1. -1.  1. -1.  1.  1.  1.  1.  1.  1.  1. -1.  1.  1.\n",
      " -1.  1. -1. -1.  1. -1. -1.  1.  1. -1.  1.  1. -1.  1. -1.  1. -1.  1.\n",
      "  1. -1. -1.  1.  1.  1.  1. -1. -1. -1.  1.  1.  1.  1.  1.  1. -1.  1.\n",
      " -1.  1. -1.  1. -1.  1.  1. -1.  1.  1.  1. -1.  1.  1.  1.  1.  1. -1.\n",
      " -1.  1. -1.  1.  1. -1. -1.  1. -1. -1.  1.  1. -1. -1. -1. -1. -1.  1.\n",
      " -1.  1. -1.  1. -1.  1. -1. -1. -1.  1. -1.  1.  1.  1. -1.  1.  1. -1.\n",
      "  1. -1.  1. -1. -1.  1. -1.  1. -1.  1. -1.  1. -1.  1.  1. -1. -1.  1.\n",
      " -1. -1.  1. -1.  1. -1.  1.  1. -1.  1. -1.  1.  1.  1.  1. -1.  1.  1.\n",
      " -1. -1.  1.  1.  1. -1. -1.  1. -1. -1. -1.  1. -1.  1.  1. -1. -1. -1.\n",
      "  1.  1. -1.  1. -1. -1.  1.  1.  1. -1.  1.  1.  1. -1.  1. -1. -1.  1.\n",
      " -1.  1.  1. -1.  1.  1.  1. -1. -1.  1. -1. -1.  1.  1. -1. -1.  1.  1.\n",
      " -1. -1.  1.  1.  1.  1.  1. -1. -1.  1.  1. -1.  1.  1. -1. -1. -1. -1.\n",
      "  1. -1. -1. -1.  1.  1. -1.  1.  1. -1.  1. -1. -1.  1.  1.  1.  1. -1.\n",
      " -1.  1.  1.  1. -1.  1.  1.  1. -1. -1.  1. -1. -1.  1.  1. -1.  1.  1.\n",
      "  1.  1. -1.  1. -1. -1. -1. -1.  1. -1.  1. -1.  1. -1.  1.  1. -1.  1.\n",
      " -1. -1.  1. -1. -1.  1.  1.  1. -1.  1.  1.  1.  1.  1.  1.  1. -1.  1.\n",
      "  1. -1. -1.  1. -1. -1. -1.  1. -1.  1.  1. -1. -1.  1.  1. -1. -1.  1.\n",
      "  1.  1.  1. -1.  1. -1.  1.  1.  1.  1. -1.  1.  1. -1. -1.  1.  1.  1.\n",
      " -1. -1.  1.  1.  1. -1.  1. -1.  1. -1. -1. -1.  1. -1. -1.  1.  1. -1.\n",
      " -1. -1. -1. -1.  1. -1. -1. -1.  1. -1.  1. -1. -1.  1.  1.  1.  1. -1.\n",
      " -1. -1. -1.  1. -1.  1. -1. -1.  1.  1.  1.  1. -1. -1. -1. -1.  1.  1.\n",
      "  1. -1. -1.  1. -1. -1.  1. -1. -1. -1. -1. -1. -1. -1.  1. -1.  1.  1.\n",
      "  1.  1.  1. -1.  1. -1. -1.  1.  1. -1.  1. -1.  1. -1.  1. -1. -1. -1.\n",
      " -1.  1.  1. -1. -1. -1.  1. -1. -1.  1. -1. -1.  1.  1. -1.  1.  1.  1.\n",
      " -1. -1.  1.  1.  1.  1. -1. -1.  1. -1.  1.  1. -1. -1.  1. -1.  1.  1.\n",
      " -1. -1. -1. -1. -1. -1.  1. -1.  1.  1. -1. -1.  1.  1.  1. -1.  1. -1.\n",
      "  1. -1. -1. -1. -1. -1. -1. -1. -1. -1.  1. -1.  1.  1. -1. -1. -1. -1.\n",
      "  1.  1. -1. -1.  1. -1.  1.  1.  1. -1.  1. -1.  1.  1.  1. -1.  1. -1.\n",
      "  1.  1.  1. -1. -1.  1.  1. -1. -1.  1.  1. -1. -1.  1. -1.  1.  1.  1.\n",
      "  1. -1. -1. -1. -1. -1. -1.  1. -1. -1.  1. -1. -1.  1. -1.  1.  1.  1.\n",
      "  1. -1.  1. -1. -1. -1. -1.  1. -1.  1.  1. -1. -1.  1.  1. -1. -1. -1.\n",
      "  1. -1. -1. -1.  1.  1.  1. -1. -1.  1. -1. -1. -1.  1.  1.  1. -1.  1.\n",
      " -1. -1.  1.  1. -1.  1. -1. -1. -1.  1.  1. -1.  1. -1. -1. -1. -1.  1.\n",
      "  1.  1. -1. -1. -1. -1. -1. -1. -1. -1.  1. -1.  1. -1. -1. -1. -1. -1.\n",
      "  1. -1.  1.  1. -1. -1.  1. -1. -1. -1.  1. -1. -1.  1.  1. -1.  1. -1.\n",
      "  1.  1. -1. -1. -1.  1.  1. -1. -1.  1. -1.  1.  1. -1.  1.  1.  1.  1.\n",
      "  1.  1. -1. -1.  1. -1.  1. -1.  1. -1.  1. -1. -1.  1. -1. -1. -1. -1.\n",
      "  1. -1. -1. -1. -1.  1.  1.  1. -1. -1.  1.  1. -1. -1.  1. -1.  1.  1.\n",
      "  1.  1. -1.  1.  1.  1. -1.  1. -1. -1.  1. -1.  1. -1.  1.  1.  1.  1.\n",
      " -1. -1. -1. -1. -1. -1.  1. -1. -1.  1.  1. -1. -1. -1.  1.  1. -1.  1.\n",
      " -1.  1. -1. -1.  1. -1. -1.  1. -1.  1.  1. -1. -1. -1.  1. -1.  1. -1.\n",
      " -1.  1. -1.  1.  1.  1. -1. -1. -1. -1.  1. -1.  1. -1. -1.  1.  1. -1.\n",
      " -1.  1. -1. -1.  1.  1. -1. -1.  1. -1.  1.  1. -1. -1.  1.  1.  1. -1.\n",
      " -1.  1. -1.  1. -1. -1.  1.  1.  1.  1.  1.  1. -1.  1.  1. -1. -1.  1.\n",
      "  1.  1.  1. -1. -1. -1. -1. -1.  1. -1.  1. -1. -1.  1. -1.  1.  1.  1.\n",
      " -1. -1. -1.  1.  1. -1. -1.  1. -1.  1.  1.  1. -1. -1.  1. -1. -1. -1.\n",
      " -1.  1. -1. -1. -1. -1. -1. -1.  1.  1. -1. -1. -1.  1.  1.  1.  1.  1.\n",
      "  1.  1. -1.  1. -1.  1. -1.  1.  1. -1.  1.  1.  1. -1. -1.  1.  1. -1.\n",
      " -1.  1. -1.  1.  1. -1. -1. -1.  1. -1. -1. -1. -1. -1.  1.  1. -1.  1.\n",
      "  1.  1. -1.  1. -1. -1.  1.  1. -1.  1.]\n"
     ]
    }
   ],
   "source": [
    "a=np.random.normal(size=1000)\n",
    "b=np.sign(a)\n",
    "print('Se cambió de {} a {}'.format(a,b))"
   ]
  },
  {
   "cell_type": "code",
   "execution_count": null,
   "metadata": {},
   "outputs": [],
   "source": []
  }
 ],
 "metadata": {
  "kernelspec": {
   "display_name": "Python 3",
   "language": "python",
   "name": "python3"
  },
  "language_info": {
   "codemirror_mode": {
    "name": "ipython",
    "version": 3
   },
   "file_extension": ".py",
   "mimetype": "text/x-python",
   "name": "python",
   "nbconvert_exporter": "python",
   "pygments_lexer": "ipython3",
   "version": "3.7.3"
  }
 },
 "nbformat": 4,
 "nbformat_minor": 2
}
