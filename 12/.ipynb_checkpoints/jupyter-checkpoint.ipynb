{
 "cells": [
  {
   "cell_type": "code",
   "execution_count": 1,
   "metadata": {},
   "outputs": [],
   "source": [
    "import numpy as np\n",
    "import matplotlib.pylab as plt"
   ]
  },
  {
   "cell_type": "code",
   "execution_count": 2,
   "metadata": {},
   "outputs": [],
   "source": [
    "def aIntegrar(xs):\n",
    "    return sum(xs)**2"
   ]
  },
  {
   "cell_type": "code",
   "execution_count": 3,
   "metadata": {},
   "outputs": [
    {
     "name": "stdout",
     "output_type": "stream",
     "text": [
      "analitica 25.833333333333332 montecarlo [27.31562773 23.79784019 25.45011588 23.95124179 27.10476585 27.9314306\n",
      " 25.05829914 28.19755731 24.10762588 25.28191226 24.91493372 25.48367688\n",
      " 26.73814998]\n",
      "error [-0.05737914  0.07879328  0.01483422  0.07285516 -0.04921674 -0.08121667\n",
      "  0.03000132 -0.09151835  0.06680158  0.02134533  0.03555095  0.01353509\n",
      " -0.03502516]\n"
     ]
    }
   ],
   "source": [
    "N=[2]\n",
    "for i in range(1,13):\n",
    "    N.append(2*N[i-1]) #sample sizes\n",
    "    \n",
    "def montecarlo(N, d=10, a=np.ones(1), b=np.zeros(1)):\n",
    "    a = [np.random.random() for i in range(d)] #10 es la cantidad de variables a integrar\n",
    "    b = [(1/N)*aIntegrar(a) for i in range(N)]\n",
    "    return sum(b)\n",
    "\n",
    "analitica = 155/6 #valor de la integral analitica\n",
    "\n",
    "monte=[]\n",
    "for i in N:\n",
    "    a = [montecarlo(i) for j in range(16)]\n",
    "    monte.append(np.mean(a))\n",
    "monte=np.array(monte)\n",
    "\n",
    "print('analitica',analitica,'montecarlo',monte)\n",
    "\n",
    "error = (analitica-monte)/analitica\n",
    "\n",
    "print('error',error)\n",
    "\n",
    "#N=1/np.sqrt(N)\n",
    "\n",
    "#plt.figure()\n",
    "#plt.plot(N,error)\n",
    "#plt.figure()\n",
    "#plt.loglog(N,error)"
   ]
  },
  {
   "cell_type": "code",
   "execution_count": 4,
   "metadata": {},
   "outputs": [],
   "source": [
    "#Gaussian\n",
    "def gaussian(df,N,a=1,b=0):\n",
    "    yi, wi=np.polynomial.legendre.leggauss(N)\n",
    "    xi = (yi/(1-yi**2))\n",
    "    dw = ((1+yi**2)/(1-yi)**2)*wi\n",
    "    df1 = dw*df(xi) \n",
    "    integ = sum(df1)\n",
    "    return integ\n",
    "def newMontecarlo(N, f, g, a, d=10): \n",
    "    b = [(1/N)*f(i) for i in a]\n",
    "    return sum(b)"
   ]
  },
  {
   "cell_type": "code",
   "execution_count": 10,
   "metadata": {},
   "outputs": [
    {
     "name": "stdout",
     "output_type": "stream",
     "text": [
      "cuad gaussiana 1: 1.2430219304573211\n",
      "Montecarlo con N=3000 da 1.0929398641029218: \n"
     ]
    }
   ],
   "source": [
    "def f(x):\n",
    "    return np.cos(x)\n",
    "def g(x):\n",
    "    return np.exp(-x**2-x)\n",
    "def df(x):\n",
    "    return f(x)*g(x)\n",
    "def MH(g,N):\n",
    "    lista = [np.random.random()*np.pi]\n",
    "    sigma_delta = 1.0\n",
    "\n",
    "    for i in range(1,N):\n",
    "        propuesta  = lista[i-1] + sigma_delta * (np.random.random()-0.5)\n",
    "        r = min(1,g(propuesta)/g(lista[i-1]))\n",
    "        alpha = np.random.random()\n",
    "        if(alpha<r):\n",
    "            lista.append(propuesta)\n",
    "        else:\n",
    "            lista.append(lista[i-1])\n",
    "    return lista\n",
    "\n",
    "N=3000\n",
    "#Punto 1\n",
    "print('cuad gaussiana 1: {}'.format(gaussian(df,20)))\n",
    "#punto 2\n",
    "print('Montecarlo con N={} da {}: '.format(N,newMontecarlo(N,f,g,MH(g,N))*gaussian(g,N)))"
   ]
  },
  {
   "cell_type": "code",
   "execution_count": null,
   "metadata": {},
   "outputs": [],
   "source": []
  },
  {
   "cell_type": "code",
   "execution_count": null,
   "metadata": {},
   "outputs": [],
   "source": []
  },
  {
   "cell_type": "code",
   "execution_count": null,
   "metadata": {},
   "outputs": [],
   "source": []
  },
  {
   "cell_type": "code",
   "execution_count": null,
   "metadata": {},
   "outputs": [],
   "source": []
  }
 ],
 "metadata": {
  "kernelspec": {
   "display_name": "Python 3",
   "language": "python",
   "name": "python3"
  },
  "language_info": {
   "codemirror_mode": {
    "name": "ipython",
    "version": 3
   },
   "file_extension": ".py",
   "mimetype": "text/x-python",
   "name": "python",
   "nbconvert_exporter": "python",
   "pygments_lexer": "ipython3",
   "version": "3.7.3"
  }
 },
 "nbformat": 4,
 "nbformat_minor": 2
}
