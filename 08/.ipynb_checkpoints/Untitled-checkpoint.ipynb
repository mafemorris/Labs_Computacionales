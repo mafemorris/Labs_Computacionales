{
 "cells": [
  {
   "cell_type": "code",
   "execution_count": 1,
   "metadata": {},
   "outputs": [
    {
     "name": "stdout",
     "output_type": "stream",
     "text": [
      "Using matplotlib backend: MacOSX\n",
      "Populating the interactive namespace from numpy and matplotlib\n"
     ]
    }
   ],
   "source": [
    "%pylab\n",
    "import random"
   ]
  },
  {
   "cell_type": "code",
   "execution_count": 2,
   "metadata": {},
   "outputs": [
    {
     "name": "stdout",
     "output_type": "stream",
     "text": [
      "8\n"
     ]
    }
   ],
   "source": [
    "#Algo 1.1\n",
    "def direct_pi(N): #pi para niños\n",
    "    Nh=0\n",
    "    for i in range(N):\n",
    "        x=random.random()*random.choice((-1,1))\n",
    "        y=random.random()*random.choice((-1,1))\n",
    "        if(x**2+y**2 <1):\n",
    "            Nh+=1\n",
    "    return Nh\n",
    "print(direct_pi(10))"
   ]
  },
  {
   "cell_type": "code",
   "execution_count": 3,
   "metadata": {},
   "outputs": [
    {
     "data": {
      "text/plain": [
       "7"
      ]
     },
     "execution_count": 3,
     "metadata": {},
     "output_type": "execute_result"
    }
   ],
   "source": [
    "#Algo 1.2\n",
    "def markov_pi(N): #pi para adultos\n",
    "    Nh=0\n",
    "    x,y=1,1\n",
    "    for i in range(N):\n",
    "        dX = random.random()*random.choice((-1,1))\n",
    "        dy = random.random()*random.choice((-1,1))\n",
    "        if (np.abs(x+dX)<1 and np.abs(y+dy)<1):\n",
    "            x+=dX\n",
    "            y+=dy\n",
    "        if (x**2 +y**2 <1):\n",
    "            Nh+=1\n",
    "    return Nh\n",
    "markov_pi(10)"
   ]
  },
  {
   "cell_type": "code",
   "execution_count": 4,
   "metadata": {},
   "outputs": [],
   "source": [
    "def pi(v):\n",
    "    if(v==0):\n",
    "        return 0.3\n",
    "    if(v==1):\n",
    "        return 0.7"
   ]
  },
  {
   "cell_type": "code",
   "execution_count": 13,
   "metadata": {},
   "outputs": [
    {
     "data": {
      "text/plain": [
       "[1, 1, 0, 1, 1, 1, 1, 1, 0, 0, 1, 1, 1, 1, 1, 1, 1, 1, 1, 1]"
      ]
     },
     "execution_count": 13,
     "metadata": {},
     "output_type": "execute_result"
    }
   ],
   "source": [
    "#Algo 1.8\n",
    "def markov_two_site(k): #Donde k es un numero entre 0 y 1\n",
    "    l=0\n",
    "    if(k==0):\n",
    "        l=1\n",
    "    gamma = pi(l)/pi(k)\n",
    "    if(random.random()<gamma):\n",
    "        k=l\n",
    "    return k\n",
    "a=[markov_two_site(random.choice((0,1))) for i in range(20)]\n",
    "a"
   ]
  },
  {
   "cell_type": "code",
   "execution_count": 77,
   "metadata": {},
   "outputs": [],
   "source": [
    "def f(x,sigma=1,):\n",
    "    y = (1/(np.sqrt(2*sigma**2*np.pi)))*np.exp(-(x)**2/(2*sigma**2))\n",
    "    return y"
   ]
  },
  {
   "cell_type": "code",
   "execution_count": 82,
   "metadata": {},
   "outputs": [
    {
     "name": "stdout",
     "output_type": "stream",
     "text": [
      "-0.09017191382521592\n"
     ]
    },
    {
     "data": {
      "image/png": "[encoded data removed]",
      "text/plain": [
       "<Figure size 432x288 with 1 Axes>"
      ]
     },
     "metadata": {
      "needs_background": "light"
     },
     "output_type": "display_data"
    }
   ],
   "source": [
    "#Algo 1.18\n",
    "def gauss(sigma):\n",
    "    phi = np.random.random(1000)*2*np.pi\n",
    "    gamma = -np.log(np.random.random(1000))\n",
    "    r=sigma*np.square(2*gamma)\n",
    "    x=r*np.cos(phi)\n",
    "    y=r*np.sin(phi)\n",
    "    return x,y\n",
    "x,y=gauss(1)\n",
    "print(x.mean())\n",
    "x.sort()\n",
    "plt.hist(x,bins=100,density=True)\n",
    "plt.plot(np.linspace(-5,5),f(np.linspace(-5,5)))\n",
    "plt.show()"
   ]
  },
  {
   "cell_type": "code",
   "execution_count": 8,
   "metadata": {},
   "outputs": [],
   "source": [
    "N = 100000\n",
    "lista = [np.random.random()*np.pi]\n",
    "sigma_delta = 1.0\n",
    "\n",
    "for i in range(1,N):\n",
    "    propuesta  = lista[i-1] + sigma_delta * (np.random.random()-0.5)\n",
    "    r = min(1,f(propuesta)/f(lista[i-1]))\n",
    "    alpha = np.random.random()\n",
    "    if(alpha<r):\n",
    "        lista.append(propuesta)\n",
    "    else:\n",
    "        lista.append(lista[i-1])"
   ]
  },
  {
   "cell_type": "code",
   "execution_count": null,
   "metadata": {},
   "outputs": [],
   "source": []
  }
 ],
 "metadata": {
  "kernelspec": {
   "display_name": "Python 3",
   "language": "python",
   "name": "python3"
  },
  "language_info": {
   "codemirror_mode": {
    "name": "ipython",
    "version": 3
   },
   "file_extension": ".py",
   "mimetype": "text/x-python",
   "name": "python",
   "nbconvert_exporter": "python",
   "pygments_lexer": "ipython3",
   "version": "3.7.3"
  }
 },
 "nbformat": 4,
 "nbformat_minor": 2
}
