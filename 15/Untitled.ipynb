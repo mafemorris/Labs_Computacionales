{
 "cells": [
  {
   "cell_type": "code",
   "execution_count": 10,
   "metadata": {},
   "outputs": [],
   "source": [
    "import numpy as np\n",
    "from numpy import *\n",
    "from numpy.linalg import *\n",
    "from numpy.linalg import solve\n",
    "import matplotlib.pylab as plt"
   ]
  },
  {
   "cell_type": "code",
   "execution_count": 2,
   "metadata": {},
   "outputs": [
    {
     "name": "stdout",
     "output_type": "stream",
     "text": [
      "[ 0.00000000e+00 -2.66453526e-15 -5.32907052e-15] [-1.4057971  -0.1884058   0.92753623]\n"
     ]
    },
    {
     "data": {
      "text/plain": [
       "array([-1.4057971 , -0.1884058 ,  0.92753623])"
      ]
     },
     "execution_count": 2,
     "metadata": {},
     "output_type": "execute_result"
    }
   ],
   "source": [
    "A = array([[1,2,3],[22,32,42],[55,66,100]])\n",
    "b = array([1,2,3])\n",
    "x = solve(A, b)\n",
    "print(dot(A,x)-b,x)\n",
    "dot(inv(A),A)\n",
    "dot(inv(A),b)"
   ]
  },
  {
   "cell_type": "code",
   "execution_count": 3,
   "metadata": {},
   "outputs": [
    {
     "name": "stdout",
     "output_type": "stream",
     "text": [
      "matrices identidades de ambas formas [[ 1.00000000e+00 -3.46944695e-18  5.55111512e-17]\n",
      " [ 8.32667268e-17  1.00000000e+00  1.11022302e-16]\n",
      " [ 2.77555756e-17  1.38777878e-17  1.00000000e+00]]\n",
      "resta de las marices inversas de ambas formas [[ 0.00000000e+00  0.00000000e+00  6.07153217e-18]\n",
      " [ 0.00000000e+00  0.00000000e+00  2.77555756e-17]\n",
      " [ 0.00000000e+00 -3.46944695e-18  1.38777878e-17]]\n"
     ]
    }
   ],
   "source": [
    "A=array([[4,-2,1],[3,6,-4],[2,1,8]])\n",
    "Ainv = inv(A)\n",
    "print('matrices identidades de ambas formas {}'.format(dot(Ainv,A),dot(A,Ainv)))\n",
    "Ainv2 = (1/263)*np.array([[52,17,2],[-32,30,19],[-9,-8,30]])\n",
    "print('resta de las marices inversas de ambas formas {}'.format(Ainv-Ainv2))"
   ]
  },
  {
   "cell_type": "code",
   "execution_count": 4,
   "metadata": {},
   "outputs": [
    {
     "name": "stdout",
     "output_type": "stream",
     "text": [
      "los valores son: x1 = [ 1. -2.  4.], x2 = [ 0.31178707 -0.03802281  2.67680608], x3 = [ 2.31939163 -2.96577947  4.79087452]\n"
     ]
    }
   ],
   "source": [
    "bs = [[12,-25,32],[4,-10,22],[20,-30,40]]\n",
    "xs = [solve(A,i) for i in bs]\n",
    "print('los valores son: x1 = {}, x2 = {}, x3 = {}'.format(xs[0],xs[1],xs[2]))"
   ]
  },
  {
   "cell_type": "code",
   "execution_count": 5,
   "metadata": {},
   "outputs": [
    {
     "data": {
      "text/plain": [
       "(array([1.+2.j, 1.-2.j]),\n",
       " array([[0.        -0.70710678j, 0.        +0.70710678j],\n",
       "        [0.70710678+0.j        , 0.70710678-0.j        ]]))"
      ]
     },
     "execution_count": 5,
     "metadata": {},
     "output_type": "execute_result"
    }
   ],
   "source": [
    "A = array([[1,2],[-2,1]])\n",
    "eig(A)"
   ]
  },
  {
   "cell_type": "code",
   "execution_count": 6,
   "metadata": {},
   "outputs": [
    {
     "data": {
      "text/plain": [
       "(array([-3.,  5., -3.]), array([[-0.95257934,  0.40824829,  0.05155221],\n",
       "        [ 0.27216553,  0.81649658,  0.82292764],\n",
       "        [-0.13608276, -0.40824829,  0.5658025 ]]), array([-0.89442719,  0.4472136 ,  0.        ]), array([-0.40824829, -0.81649658,  0.40824829]), array([0.9486833 , 0.        , 0.31622777]), 9)"
      ]
     },
     "execution_count": 6,
     "metadata": {},
     "output_type": "execute_result"
    }
   ],
   "source": [
    "A = array([[-2,2,-3],[2,1,-6],[-1,-2,0]])\n",
    "x1 = (1/sqrt(6))*array([-1,-2,1])\n",
    "x2 = (1/sqrt(5))*array([-2,1,0])\n",
    "x3 = (1/sqrt(10))*array([3,0,1])\n",
    "a,b=eig(A)\n",
    "a, b, x2,x1,x3, size(A)"
   ]
  },
  {
   "cell_type": "code",
   "execution_count": 7,
   "metadata": {},
   "outputs": [
    {
     "data": {
      "text/plain": [
       "array([ 1.,  0.,  0.,  0.,  0.,  0.,  0.,  0., -0., -0., -0.,  0.,  0.,\n",
       "        0., -0.,  0., -0., -0.,  0.,  0.,  0., -0.,  0.,  0.,  0., -0.,\n",
       "       -0., -0.,  0.,  0., -0.,  0., -0.,  0.,  0.,  0., -0., -0., -0.,\n",
       "        0., -0., -0.,  0.,  0., -0., -0.,  0.,  0.,  0., -0.,  0., -0.,\n",
       "        0.,  0.,  0., -0., -0.,  0., -0., -0., -0., -0.,  0., -0., -0.,\n",
       "        0.,  0.,  0.,  0.,  0., -0., -0., -0., -0., -0., -0., -0.,  0.,\n",
       "       -0., -0., -0.,  0., -0.,  0., -0., -0.,  0.,  0., -0.,  0.,  0.,\n",
       "       -0., -0.,  0.,  0., -0., -0.,  0.,  0., -0.])"
      ]
     },
     "execution_count": 7,
     "metadata": {},
     "output_type": "execute_result"
    }
   ],
   "source": [
    "A = array([[1/(i+1) for i in range(j,100+j)] for j in range(100)])\n",
    "b = array([1/(i+1) for i in range(100)])\n",
    "solve(A,b)"
   ]
  },
  {
   "cell_type": "code",
   "execution_count": 22,
   "metadata": {},
   "outputs": [
    {
     "name": "stdout",
     "output_type": "stream",
     "text": [
      "[ 1.  0.  0.  0.  0.  0.  0.  0. -0. -0. -0.  0.  0.  0. -0.  0. -0. -0.\n",
      "  0.  0.  0. -0.  0.  0.  0. -0. -0. -0.  0.  0. -0.  0. -0.  0.  0.  0.\n",
      " -0. -0. -0.  0. -0. -0.  0.  0. -0. -0.  0.  0.  0. -0.  0. -0.  0.  0.\n",
      "  0. -0. -0.  0. -0. -0. -0. -0.  0. -0. -0.  0.  0.  0.  0.  0. -0. -0.\n",
      " -0. -0. -0. -0. -0.  0. -0. -0. -0.  0. -0.  0. -0. -0.  0.  0. -0.  0.\n",
      "  0. -0. -0.  0.  0. -0. -0.  0.  0. -0.]\n"
     ]
    },
    {
     "data": {
      "text/plain": [
       "(-0.0, array([1.        , 0.5       , 0.33333333, 0.25      , 0.2       ,\n",
       "        0.16666667, 0.14285714, 0.125     , 0.11111111, 0.1       ,\n",
       "        0.09090909, 0.08333333, 0.07692308, 0.07142857, 0.06666667,\n",
       "        0.0625    , 0.05882353, 0.05555556, 0.05263158, 0.05      ,\n",
       "        0.04761905, 0.04545455, 0.04347826, 0.04166667, 0.04      ,\n",
       "        0.03846154, 0.03703704, 0.03571429, 0.03448276, 0.03333333,\n",
       "        0.03225806, 0.03125   , 0.03030303, 0.02941176, 0.02857143,\n",
       "        0.02777778, 0.02702703, 0.02631579, 0.02564103, 0.025     ,\n",
       "        0.02439024, 0.02380952, 0.02325581, 0.02272727, 0.02222222,\n",
       "        0.02173913, 0.0212766 , 0.02083333, 0.02040816, 0.02      ,\n",
       "        0.01960784, 0.01923077, 0.01886792, 0.01851852, 0.01818182,\n",
       "        0.01785714, 0.01754386, 0.01724138, 0.01694915, 0.01666667,\n",
       "        0.01639344, 0.01612903, 0.01587302, 0.015625  , 0.01538462,\n",
       "        0.01515152, 0.01492537, 0.01470588, 0.01449275, 0.01428571,\n",
       "        0.01408451, 0.01388889, 0.01369863, 0.01351351, 0.01333333,\n",
       "        0.01315789, 0.01298701, 0.01282051, 0.01265823, 0.0125    ,\n",
       "        0.01234568, 0.01219512, 0.01204819, 0.01190476, 0.01176471,\n",
       "        0.01162791, 0.01149425, 0.01136364, 0.01123596, 0.01111111,\n",
       "        0.01098901, 0.01086957, 0.01075269, 0.0106383 , 0.01052632,\n",
       "        0.01041667, 0.01030928, 0.01020408, 0.01010101, 0.01      ]))"
      ]
     },
     "execution_count": 22,
     "metadata": {},
     "output_type": "execute_result"
    }
   ],
   "source": [
    "A = array([[1/(i+1) for i in range(j,100+j)] for j in range(100)])\n",
    "b = array([1/(i+1) for i in range(100)])\n",
    "print(solve(A,b))\n",
    "det(A),b"
   ]
  },
  {
   "cell_type": "code",
   "execution_count": 38,
   "metadata": {},
   "outputs": [
    {
     "data": {
      "image/png": "[encoded data removed]",
      "text/plain": [
       "<Figure size 432x288 with 1 Axes>"
      ]
     },
     "metadata": {
      "needs_background": "light"
     },
     "output_type": "display_data"
    }
   ],
   "source": [
    "n=9\n",
    "eps=1E-6\n",
    "der = zeros((n,n),float)\n",
    "f = zeros((n), float)\n",
    "x=array([0.5,0.5,0.5,0.5,0.5,0.5,0.5,1,1,1])\n",
    "def plotfig():\n",
    "    plt.figure()\n",
    "    L1 = 3.0\n",
    "    L2 = 4.0\n",
    "    L3 = 4.0\n",
    "    plt.plot([0,L1*x[3]],[0,-L1*x[0]])\n",
    "    plt.plot([L2*x[3],L2*x[4]],[-L2*x[0],-L2*x[1]])\n",
    "    plt.plot([L3*x[4],L3*x[5]],[-L3*x[1],L3*x[2]])\n",
    "    \n",
    "def F(x,f):\n",
    "    f[0]=3*x[3] + 4*x[4] + 4*x[5] - 8.0\n",
    "    f[1]=3*x[0] + 4*x[1] - 4*x[2]\n",
    "    f[2]=x[6]*x[0]-x[7]*x[1]-10.0\n",
    "    f[3]=x[6]*x[3]-x[7]*x[4]\n",
    "    f[4]=x[7]*x[1]+x[8]*x[2]-20.0\n",
    "    f[5]=x[7]*x[4]-x[8]*x[5]\n",
    "    f[6]=pow(x[0],2) + pow(x[3],2) -1.0\n",
    "    f[7]=pow(x[1],2) + pow(x[4],2) -1.0\n",
    "    f[8]=pow(x[2],2) + pow(x[5],2) -1.0\n",
    "\n",
    "def dFi_dXi(x, der, n):\n",
    "    h=1E-4\n",
    "    for j in range(n):\n",
    "        temp = x[j]\n",
    "        x[j] = x[j] + h/2\n",
    "        F(x,f)\n",
    "        for i in range(n):\n",
    "            der[i,j] = f[i]\n",
    "        x[j] = temp\n",
    "    for j in range(0,n):\n",
    "        temp = x[j]\n",
    "        x[j] = x[j] - h/2\n",
    "        F(x,f)\n",
    "        for i in range(n):\n",
    "            der[i,j]=(der[i,j]-f[i])/h\n",
    "        x[j] = temp\n",
    "\n",
    "for a in range(1,100):\n",
    "    F(x,f)\n",
    "    dFi_dXi(x,der,n)\n",
    "    B=array([[-f[0]],[-f[1]],[-f[2]],[-f[3]],[-f[4]],[-f[5]],[-f[6]],[-f[7]],[-f[8]]])\n",
    "    sol = solve(der,B)\n",
    "    dx = take(sol,(0, ),1)\n",
    "    for i in range(n):\n",
    "        x[i]=x[i]+dx[i]\n",
    "    errX = 0.0\n",
    "    errXi = 0.0\n",
    "    errF = 0.0\n",
    "    \n",
    "    if x[i] != 0:\n",
    "        errXi = abs(dx[i]/x[i])\n",
    "    else:\n",
    "        errXi = abs(dx[i])\n",
    "    if errXi > errX :\n",
    "        errX = errXi\n",
    "    if abs(f[i]) > errF:\n",
    "        errF = abs(f[i])\n",
    "    if (errX <= eps) and (errF <= eps):\n",
    "        break\n",
    "plotfig()"
   ]
  },
  {
   "cell_type": "code",
   "execution_count": 13,
   "metadata": {},
   "outputs": [],
   "source": []
  },
  {
   "cell_type": "code",
   "execution_count": null,
   "metadata": {},
   "outputs": [],
   "source": [
    "xa = L1*x[3]\n",
    "    ya = L1*x[0]\n",
    "    xb=xa+L2*x[4]\n",
    "    yb=ya+L2*x[1]\n",
    "    xc=xb+L3*x[5]\n",
    "    yc=yb-L3*x[2]\n",
    "    mx = 100.0\n",
    "    bx = -500.0\n",
    "    my = -1000.0\n",
    "    by = 400.0\n",
    "    xap = mx*xa+bx\n",
    "    yap = my*ya+by\n",
    "    xbp = mx*xb+bx\n",
    "    ybp = my*yb+by\n",
    "    xcp = mx*xc+bx\n",
    "    ycp = my*yc+by\n",
    "    x0 = bx\n",
    "    y0 = by"
   ]
  }
 ],
 "metadata": {
  "kernelspec": {
   "display_name": "Python 3",
   "language": "python",
   "name": "python3"
  },
  "language_info": {
   "codemirror_mode": {
    "name": "ipython",
    "version": 3
   },
   "file_extension": ".py",
   "mimetype": "text/x-python",
   "name": "python",
   "nbconvert_exporter": "python",
   "pygments_lexer": "ipython3",
   "version": "3.7.3"
  }
 },
 "nbformat": 4,
 "nbformat_minor": 2
}
