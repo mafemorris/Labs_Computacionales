{
 "cells": [
  {
   "cell_type": "code",
   "execution_count": 3,
   "metadata": {},
   "outputs": [],
   "source": [
    "import numpy as np\n",
    "from numpy import *\n",
    "from numpy.linalg import *\n",
    "from numpy.linalg import solve"
   ]
  },
  {
   "cell_type": "code",
   "execution_count": 4,
   "metadata": {},
   "outputs": [
    {
     "name": "stdout",
     "output_type": "stream",
     "text": [
      "[ 0.00000000e+00 -2.66453526e-15 -5.32907052e-15] [-1.4057971  -0.1884058   0.92753623]\n"
     ]
    },
    {
     "data": {
      "text/plain": [
       "array([-1.4057971 , -0.1884058 ,  0.92753623])"
      ]
     },
     "execution_count": 4,
     "metadata": {},
     "output_type": "execute_result"
    }
   ],
   "source": [
    "A = array([[1,2,3],[22,32,42],[55,66,100]])\n",
    "b = array([1,2,3])\n",
    "x = solve(A, b)\n",
    "print(dot(A,x)-b,x)\n",
    "dot(inv(A),A)\n",
    "dot(inv(A),b)"
   ]
  },
  {
   "cell_type": "code",
   "execution_count": 5,
   "metadata": {},
   "outputs": [
    {
     "name": "stdout",
     "output_type": "stream",
     "text": [
      "matrices identidades de ambas formas [[ 1.00000000e+00 -3.46944695e-18  5.55111512e-17]\n",
      " [ 2.77555756e-17  1.00000000e+00  2.22044605e-16]\n",
      " [ 2.77555756e-17  1.38777878e-17  1.00000000e+00]]\n",
      "resta de las marices inversas de ambas formas [[ 0.00000000e+00  0.00000000e+00  6.07153217e-18]\n",
      " [ 0.00000000e+00 -1.38777878e-17  2.77555756e-17]\n",
      " [ 0.00000000e+00 -3.46944695e-18  1.38777878e-17]]\n"
     ]
    }
   ],
   "source": [
    "A=array([[4,-2,1],[3,6,-4],[2,1,8]])\n",
    "Ainv = inv(A)\n",
    "print('matrices identidades de ambas formas {}'.format(dot(Ainv,A),dot(A,Ainv)))\n",
    "Ainv2 = (1/263)*np.array([[52,17,2],[-32,30,19],[-9,-8,30]])\n",
    "print('resta de las marices inversas de ambas formas {}'.format(Ainv-Ainv2))"
   ]
  },
  {
   "cell_type": "code",
   "execution_count": 6,
   "metadata": {},
   "outputs": [
    {
     "name": "stdout",
     "output_type": "stream",
     "text": [
      "los valores son: x1 = [ 1. -2.  4.], x2 = [ 0.31178707 -0.03802281  2.67680608], x3 = [ 2.31939163 -2.96577947  4.79087452]\n"
     ]
    }
   ],
   "source": [
    "bs = [[12,-25,32],[4,-10,22],[20,-30,40]]\n",
    "xs = [solve(A,i) for i in bs]\n",
    "print('los valores son: x1 = {}, x2 = {}, x3 = {}'.format(xs[0],xs[1],xs[2]))"
   ]
  },
  {
   "cell_type": "code",
   "execution_count": 7,
   "metadata": {},
   "outputs": [
    {
     "data": {
      "text/plain": [
       "(array([1.+2.j, 1.-2.j]),\n",
       " array([[0.        -0.70710678j, 0.        +0.70710678j],\n",
       "        [0.70710678+0.j        , 0.70710678-0.j        ]]))"
      ]
     },
     "execution_count": 7,
     "metadata": {},
     "output_type": "execute_result"
    }
   ],
   "source": [
    "A = array([[1,2],[-2,1]])\n",
    "eig(A)"
   ]
  },
  {
   "cell_type": "code",
   "execution_count": 8,
   "metadata": {},
   "outputs": [
    {
     "data": {
      "text/plain": [
       "(array([-3.,  5., -3.]), array([[-0.95257934,  0.40824829,  0.05155221],\n",
       "        [ 0.27216553,  0.81649658,  0.82292764],\n",
       "        [-0.13608276, -0.40824829,  0.5658025 ]]), array([-0.89442719,  0.4472136 ,  0.        ]), array([-0.40824829, -0.81649658,  0.40824829]), array([0.9486833 , 0.        , 0.31622777]), 9)"
      ]
     },
     "execution_count": 8,
     "metadata": {},
     "output_type": "execute_result"
    }
   ],
   "source": [
    "A = array([[-2,2,-3],[2,1,-6],[-1,-2,0]])\n",
    "x1 = (1/sqrt(6))*array([-1,-2,1])\n",
    "x2 = (1/sqrt(5))*array([-2,1,0])\n",
    "x3 = (1/sqrt(10))*array([3,0,1])\n",
    "a,b=eig(A)\n",
    "a, b, x2,x1,x3, size(A)"
   ]
  },
  {
   "cell_type": "code",
   "execution_count": 9,
   "metadata": {},
   "outputs": [
    {
     "data": {
      "text/plain": [
       "array([ 1.,  0.,  0.,  0.,  0.,  0.,  0.,  0., -0., -0., -0.,  0.,  0.,\n",
       "        0., -0.,  0., -0., -0.,  0., -0.,  0., -0.,  0.,  0.,  0., -0.,\n",
       "        0., -0., -0.,  0.,  0.,  0., -0., -0.,  0., -0.,  0.,  0.,  0.,\n",
       "        0.,  0., -0., -0., -0., -0., -0., -0., -0., -0., -0., -0., -0.,\n",
       "        0., -0., -0.,  0., -0., -0.,  0., -0.,  0., -0., -0., -0., -0.,\n",
       "        0., -0.,  0.,  0.,  0., -0.,  0., -0.,  0., -0., -0., -0.,  0.,\n",
       "       -0., -0.,  0.,  0.,  0., -0., -0.,  0., -0., -0.,  0., -0., -0.,\n",
       "       -0.,  0., -0.,  0.,  0., -0., -0., -0., -0.])"
      ]
     },
     "execution_count": 9,
     "metadata": {},
     "output_type": "execute_result"
    }
   ],
   "source": [
    "A = array([[1/(i+1) for i in range(j,100+j)] for j in range(100)])\n",
    "b = array([1/(i+1) for i in range(100)])\n",
    "solve(A,b)"
   ]
  },
  {
   "cell_type": "code",
   "execution_count": null,
   "metadata": {},
   "outputs": [],
   "source": []
  },
  {
   "cell_type": "code",
   "execution_count": null,
   "metadata": {},
   "outputs": [],
   "source": []
  }
 ],
 "metadata": {
  "kernelspec": {
   "display_name": "Python 3",
   "language": "python",
   "name": "python3"
  },
  "language_info": {
   "codemirror_mode": {
    "name": "ipython",
    "version": 3
   },
   "file_extension": ".py",
   "mimetype": "text/x-python",
   "name": "python",
   "nbconvert_exporter": "python",
   "pygments_lexer": "ipython3",
   "version": "3.7.3"
  }
 },
 "nbformat": 4,
 "nbformat_minor": 2
}
