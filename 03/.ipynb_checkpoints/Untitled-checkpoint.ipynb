{
 "cells": [
  {
   "cell_type": "code",
   "execution_count": 40,
   "metadata": {},
   "outputs": [
    {
     "name": "stdout",
     "output_type": "stream",
     "text": [
      "La palabra mas repetida es: Hamlet, que se encuentra 27 veces\n",
      "\n"
     ]
    }
   ],
   "source": [
    "# Ejercicio 03 - Segunda parte.\n",
    "\n",
    "# Funciones\n",
    "hamlet = open(\"hamlet.txt\")\n",
    "def cuenta_palabra(archivo, n_letras):\n",
    "    l = hamlet.read()\n",
    "    l = l.split()\n",
    "    veces = 0\n",
    "    palabra = ''\n",
    "    for i in l:\n",
    "        if (len(i)>=n_letras):\n",
    "            a = l.count(i)\n",
    "            if (a>veces):\n",
    "            veces=a\n",
    "            palabra=i\n",
    "    return palabra, veces\n",
    "\n",
    "p, cuenta = cuenta_palabra(\"hamlet.txt\", n_letras=7)\n",
    "print(\"La palabra mas repetida es: {} que se encuentra {} veces\\n\".format(p, str(cuenta)))"
   ]
  },
  {
   "cell_type": "code",
   "execution_count": 35,
   "metadata": {},
   "outputs": [
    {
     "data": {
      "text/plain": [
       "6"
      ]
     },
     "execution_count": 35,
     "metadata": {},
     "output_type": "execute_result"
    }
   ],
   "source": []
  },
  {
   "cell_type": "code",
   "execution_count": null,
   "metadata": {},
   "outputs": [],
   "source": []
  }
 ],
 "metadata": {
  "kernelspec": {
   "display_name": "Python 3",
   "language": "python",
   "name": "python3"
  },
  "language_info": {
   "codemirror_mode": {
    "name": "ipython",
    "version": 3
   },
   "file_extension": ".py",
   "mimetype": "text/x-python",
   "name": "python",
   "nbconvert_exporter": "python",
   "pygments_lexer": "ipython3",
   "version": "3.7.3"
  }
 },
 "nbformat": 4,
 "nbformat_minor": 2
}
