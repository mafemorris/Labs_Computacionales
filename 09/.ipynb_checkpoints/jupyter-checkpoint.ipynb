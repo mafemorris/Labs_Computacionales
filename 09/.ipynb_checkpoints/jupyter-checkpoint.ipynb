{
 "cells": [
  {
   "cell_type": "code",
   "execution_count": 17,
   "metadata": {},
   "outputs": [
    {
     "name": "stdout",
     "output_type": "stream",
     "text": [
      "Using matplotlib backend: MacOSX\n",
      "Populating the interactive namespace from numpy and matplotlib\n"
     ]
    }
   ],
   "source": [
    "%pylab"
   ]
  },
  {
   "cell_type": "code",
   "execution_count": 18,
   "metadata": {},
   "outputs": [],
   "source": [
    "H = np.linspace(0,1,500)\n",
    "def prob(H,R,N):\n",
    "    return (H**R)*((1-H)**(N-R)) #R cantidad de caras en N tiros\n",
    "plt.figure(figsize=(10, 10)) \n",
    "\n",
    "a = [1,10,100,1000]\n",
    "for i in range(len(a)):\n",
    "    plt.subplot(2,2,i+1)\n",
    "    if a[i]<3:\n",
    "        plt.plot(H,prob(H,a[i],a[i]),label=a[i])\n",
    "    elif a[i]==3:\n",
    "        plt.plot(H,prob(H,a[i]-1,a[i]),label=a[i])\n",
    "    else:\n",
    "        plt.plot(H,prob(H,np.ceil(a[i]*0.3),a[i]),label=a[i])\n",
    "    plt.xlabel('Bias-weighting for heads H')\n",
    "    plt.ylabel('prob(H|{data},I)')\n",
    "    plt.yticks([])\n",
    "    plt.legend()\n"
   ]
  },
  {
   "cell_type": "code",
   "execution_count": null,
   "metadata": {},
   "outputs": [],
   "source": [
    "\n",
    "    "
   ]
  },
  {
   "cell_type": "code",
   "execution_count": 11,
   "metadata": {},
   "outputs": [
    {
     "data": {
      "text/plain": [
       "([], <a list of 0 Text yticklabel objects>)"
      ]
     },
     "execution_count": 11,
     "metadata": {},
     "output_type": "execute_result"
    }
   ],
   "source": [
    "xk = [-5.2, -3.1, -2.8, -3.5] \n",
    "def prob(xk,alpha, beta=3.0):\n",
    "    prob11= 1\n",
    "    for i in range(len(xk)):\n",
    "        prob11 *= beta/(np.pi*(beta**2 + (xk[i] - alpha)**2))\n",
    "    return prob11\n",
    "\n",
    "alpha=np.linspace(-5,5,100)\n",
    "def vector(alpha):\n",
    "    vect = []\n",
    "    for i in range(len(alpha)):\n",
    "        a=prob(xk,alpha[i])*(1/(alpha[-1]-alpha[0]))\n",
    "        vect.append(a)\n",
    "    return vect\n",
    "plt.plot(alpha,vector(alpha))\n",
    "plt.xlabel(r'Lighthouse position $\\alpha$ (km)')\n",
    "plt.ylabel(r'prob($\\alpha|\\{x_k\\},\\beta,I$)')\n",
    "plt.yticks([])"
   ]
  },
  {
   "cell_type": "code",
   "execution_count": 12,
   "metadata": {},
   "outputs": [],
   "source": [
    "x_i=[0.5, 1.0, 0.8, 0.9] \n",
    "def prob(x_i, Q):\n",
    "    prob11= 1\n",
    "    for i in range(len(x_i)):\n",
    "        prob11 *= np.exp(-Q*x_i[i])/Q\n",
    "    return prob11\n",
    "\n",
    "Q=np.linspace(0.1,5,100)\n",
    "def vector(Q):\n",
    "    vect = []\n",
    "    for i in range(len(Q)):\n",
    "        a=prob(x_i,Q[i])*(1/(Q[-1]-Q[0]))\n",
    "        vect.append(a)\n",
    "    return vect\n",
    "\n",
    "plt.figure(figsize=(10, 10)) \n",
    "for i in range(4):\n",
    "    plt.subplot(2,2,i+1)\n",
    "    plt.plot(Q,vector(Q))\n",
    "    plt.xlabel('Q')\n",
    "    plt.ylabel('Probabilidad')\n",
    "    plt.yticks([])"
   ]
  },
  {
   "cell_type": "code",
   "execution_count": 14,
   "metadata": {},
   "outputs": [
    {
     "ename": "IndexError",
     "evalue": "list index out of range",
     "output_type": "error",
     "traceback": [
      "\u001b[0;31m---------------------------------------------------------------------------\u001b[0m",
      "\u001b[0;31mIndexError\u001b[0m                                Traceback (most recent call last)",
      "\u001b[0;32m<ipython-input-14-314c8bd34fcb>\u001b[0m in \u001b[0;36m<module>\u001b[0;34m\u001b[0m\n\u001b[1;32m     18\u001b[0m         \u001b[0;31m#plt.yticks([])\u001b[0m\u001b[0;34m\u001b[0m\u001b[0;34m\u001b[0m\u001b[0;34m\u001b[0m\u001b[0m\n\u001b[1;32m     19\u001b[0m     \u001b[0;32mreturn\u001b[0m \u001b[0mvect\u001b[0m\u001b[0;34m\u001b[0m\u001b[0;34m\u001b[0m\u001b[0m\n\u001b[0;32m---> 20\u001b[0;31m \u001b[0mvector\u001b[0m\u001b[0;34m(\u001b[0m\u001b[0mQ\u001b[0m\u001b[0;34m)\u001b[0m\u001b[0;34m\u001b[0m\u001b[0;34m\u001b[0m\u001b[0m\n\u001b[0m",
      "\u001b[0;32m<ipython-input-14-314c8bd34fcb>\u001b[0m in \u001b[0;36mvector\u001b[0;34m(Q)\u001b[0m\n\u001b[1;32m     10\u001b[0m         \u001b[0mvect\u001b[0m \u001b[0;34m=\u001b[0m \u001b[0;34m[\u001b[0m\u001b[0;34m]\u001b[0m\u001b[0;34m\u001b[0m\u001b[0;34m\u001b[0m\u001b[0m\n\u001b[1;32m     11\u001b[0m         \u001b[0;32mfor\u001b[0m \u001b[0mi\u001b[0m \u001b[0;32min\u001b[0m \u001b[0mrange\u001b[0m\u001b[0;34m(\u001b[0m\u001b[0mlen\u001b[0m\u001b[0;34m(\u001b[0m\u001b[0mQ\u001b[0m\u001b[0;34m)\u001b[0m\u001b[0;34m)\u001b[0m\u001b[0;34m:\u001b[0m\u001b[0;34m\u001b[0m\u001b[0;34m\u001b[0m\u001b[0m\n\u001b[0;32m---> 12\u001b[0;31m             \u001b[0ma\u001b[0m\u001b[0;34m=\u001b[0m\u001b[0mvect\u001b[0m\u001b[0;34m[\u001b[0m\u001b[0mi\u001b[0m\u001b[0;34m]\u001b[0m\u001b[0;34m*\u001b[0m\u001b[0mprob\u001b[0m\u001b[0;34m(\u001b[0m\u001b[0mx_i\u001b[0m\u001b[0;34m,\u001b[0m\u001b[0mj\u001b[0m\u001b[0;34m,\u001b[0m\u001b[0mQ\u001b[0m\u001b[0;34m[\u001b[0m\u001b[0mi\u001b[0m\u001b[0;34m]\u001b[0m\u001b[0;34m)\u001b[0m\u001b[0;34m*\u001b[0m\u001b[0;34m(\u001b[0m\u001b[0;36m1\u001b[0m\u001b[0;34m/\u001b[0m\u001b[0;34m(\u001b[0m\u001b[0;36m5\u001b[0m\u001b[0;34m-\u001b[0m\u001b[0;36m0.1\u001b[0m\u001b[0;34m)\u001b[0m\u001b[0;34m)\u001b[0m\u001b[0;34m\u001b[0m\u001b[0;34m\u001b[0m\u001b[0m\n\u001b[0m\u001b[1;32m     13\u001b[0m             \u001b[0mvect\u001b[0m\u001b[0;34m.\u001b[0m\u001b[0mappend\u001b[0m\u001b[0;34m(\u001b[0m\u001b[0ma\u001b[0m\u001b[0;34m)\u001b[0m\u001b[0;34m\u001b[0m\u001b[0;34m\u001b[0m\u001b[0m\n\u001b[1;32m     14\u001b[0m         \u001b[0mplt\u001b[0m\u001b[0;34m.\u001b[0m\u001b[0msubplot\u001b[0m\u001b[0;34m(\u001b[0m\u001b[0;36m2\u001b[0m\u001b[0;34m,\u001b[0m\u001b[0;36m2\u001b[0m\u001b[0;34m,\u001b[0m\u001b[0mj\u001b[0m\u001b[0;34m+\u001b[0m\u001b[0;36m1\u001b[0m\u001b[0;34m)\u001b[0m\u001b[0;34m\u001b[0m\u001b[0;34m\u001b[0m\u001b[0m\n",
      "\u001b[0;31mIndexError\u001b[0m: list index out of range"
     ]
    }
   ],
   "source": [
    "x_i=[0.5, 1.0, 0.8, 0.9] \n",
    "def prob(x, i, Q):\n",
    "    prob11 = np.exp(-Q*x[i])/Q\n",
    "    return prob11\n",
    "\n",
    "plt.figure(figsize=(10, 10)) \n",
    "Q=np.linspace(0.1,5,100)\n",
    "def vector(Q):\n",
    "    for j in range(len(x_i)):\n",
    "        vect = []\n",
    "        for i in range(len(Q)):\n",
    "            a=vect[i]*prob(x_i,j,Q[i])*(1/(5-0.1))\n",
    "            vect.append(a)\n",
    "        plt.subplot(2,2,j+1)\n",
    "        plt.plot(Q,vect)\n",
    "        plt.xlabel('Q')\n",
    "        plt.ylabel('Probabilidad')\n",
    "        #plt.yticks([])\n",
    "    return vect\n",
    "vector(Q)"
   ]
  },
  {
   "cell_type": "code",
   "execution_count": 6,
   "metadata": {},
   "outputs": [
    {
     "data": {
      "image/png": "[encoded data removed]",
      "text/plain": [
       "<Figure size 720x864 with 6 Axes>"
      ]
     },
     "metadata": {
      "needs_background": "light"
     },
     "output_type": "display_data"
    }
   ],
   "source": [
    "b = [1,2,3,8,64,512]\n",
    "plt.figure(figsize=(10, 12)) \n",
    "for i in range(len(b)):\n",
    "    plt.subplot(3,2,i+1)\n",
    "    plt.xlabel(r'Lighthouse position $\\alpha$ (km)')\n",
    "    plt.ylabel(r'prob($\\alpha|\\{x_k\\},\\beta,I$)')\n",
    "    plt.yticks([])"
   ]
  },
  {
   "cell_type": "code",
   "execution_count": null,
   "metadata": {},
   "outputs": [],
   "source": []
  }
 ],
 "metadata": {
  "kernelspec": {
   "display_name": "Python 3",
   "language": "python",
   "name": "python3"
  },
  "language_info": {
   "codemirror_mode": {
    "name": "ipython",
    "version": 3
   },
   "file_extension": ".py",
   "mimetype": "text/x-python",
   "name": "python",
   "nbconvert_exporter": "python",
   "pygments_lexer": "ipython3",
   "version": "3.7.3"
  }
 },
 "nbformat": 4,
 "nbformat_minor": 2
}
