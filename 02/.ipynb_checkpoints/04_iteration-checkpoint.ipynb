{
 "cells": [
  {
   "cell_type": "markdown",
   "metadata": {},
   "source": [
    "# Iteration\n",
    "\n",
    "One of the most basic operations in programming is iterating over a list of elements to perform some kind of operation.\n",
    "\n",
    "In python we use the `for` statement to iterate. It is easier to use than the same statement in C, C++ or FORTRAN because instead of running over a integer index it takes as an input any iterable object and runs over it.\n",
    "\n",
    "Let's see some examples"
   ]
  },
  {
   "cell_type": "markdown",
   "metadata": {},
   "source": [
    "## Iterating over lists\n",
    "\n",
    "Lists are ordered. Iteration is done in the same order as the input list."
   ]
  },
  {
   "cell_type": "code",
   "execution_count": null,
   "metadata": {},
   "outputs": [],
   "source": [
    "a = [4,5,6,8,10]\n",
    "for i in a:\n",
    "    print(i)"
   ]
  },
  {
   "cell_type": "code",
   "execution_count": 1,
   "metadata": {},
   "outputs": [
    {
     "name": "stdout",
     "output_type": "stream",
     "text": [
      "Many years later, as he faced the firing squad, Colonel Aureliano Buendía was to remember that dist ant afternoon when his father took him to discover ice. At that time Macondo was a village of twenty adobe houses,built on the bank of a river of clear water that ran along a bed of polished stones, which were white and enormous,like prehistoric eggs.\n"
     ]
    }
   ],
   "source": [
    "# A fragment of `One Hundred Years of Solitude`\n",
    "GGM = 'Many years later, as he faced the firing squad, \\\n",
    "Colonel Aureliano Buendía was to remember that dist \\\n",
    "ant afternoon when his father took him to discover ice. \\\n",
    "At that time Macondo was a village of twenty adobe houses,\\\n",
    "built on the bank of a river of clear water that ran along \\\n",
    "a bed of polished stones, which were white and enormous,\\\n",
    "like prehistoric eggs.'\n",
    "print(GGM)"
   ]
  },
  {
   "cell_type": "code",
   "execution_count": 4,
   "metadata": {},
   "outputs": [
    {
     "name": "stdout",
     "output_type": "stream",
     "text": [
      "['Many', 'years', 'later,', 'as', 'he', 'faced', 'the', 'firing', 'squad,', 'Colonel', 'Aureliano', 'Buendía', 'was', 'to', 'remember', 'that', 'dist', 'ant', 'afternoon', 'when', 'his', 'father', 'took', 'him', 'to', 'discover', 'ice.', 'At', 'that', 'time', 'Macondo', 'was', 'a', 'village', 'of', 'twenty', 'adobe', 'houses,built', 'on', 'the', 'bank', 'of', 'a', 'river', 'of', 'clear', 'water', 'that', 'ran', 'along', 'a', 'bed', 'of', 'polished', 'stones,', 'which', 'were', 'white', 'and', 'enormous,like', 'prehistoric', 'eggs.']\n"
     ]
    }
   ],
   "source": [
    "dot = GGM.split()  # we create a list where each element is a word\n",
    "print(dot)\n",
    "#for i in dot:\n",
    "    #print(i)"
   ]
  },
  {
   "cell_type": "markdown",
   "metadata": {},
   "source": [
    "## Iterating over dictionaries\n",
    "Dictionaries are not ordered. Iterating over them does not have to produce an order sequence."
   ]
  },
  {
   "cell_type": "code",
   "execution_count": null,
   "metadata": {},
   "outputs": [],
   "source": [
    "a = {} # empty dictionary\n",
    "a[1] = 'one'\n",
    "a[2] = 'two'\n",
    "a[3] = 'three'\n",
    "a[4] = 'four'\n",
    "a[5] = 'five'\n",
    "print(a)"
   ]
  },
  {
   "cell_type": "code",
   "execution_count": null,
   "metadata": {},
   "outputs": [],
   "source": [
    "for k in a.keys(): # iterate over the keys\n",
    "    print(a[k])"
   ]
  },
  {
   "cell_type": "code",
   "execution_count": null,
   "metadata": {},
   "outputs": [],
   "source": [
    "for v in a.values(): #iterate over the values\n",
    "    print(v)"
   ]
  },
  {
   "cell_type": "markdown",
   "metadata": {},
   "source": [
    "## Iterating over a sequence\n",
    "\n",
    "The function `range()` is useful to generate a sequence of integers that can be used to iterate."
   ]
  },
  {
   "cell_type": "code",
   "execution_count": null,
   "metadata": {},
   "outputs": [],
   "source": [
    "print(range(10)) # range itself returns an iterable object\n",
    "a = list(range(10)) # this translates that iterable object into a list\n",
    "print(a) # be careful! the lists has 10 objects starting with 0"
   ]
  },
  {
   "cell_type": "code",
   "execution_count": null,
   "metadata": {},
   "outputs": [],
   "source": [
    "for i in range(10): # if you given a single argument the iterations starts at 0.\n",
    "    print(i)"
   ]
  },
  {
   "cell_type": "code",
   "execution_count": null,
   "metadata": {},
   "outputs": [],
   "source": [
    "for i in range(4,10): # you can algo give two arguments: range(start, end). \n",
    "    print(i)"
   ]
  },
  {
   "cell_type": "code",
   "execution_count": null,
   "metadata": {},
   "outputs": [],
   "source": [
    "for i in range(0,10,3): # if you give three arguments they are interpreted as range(start, end, step)\n",
    "    print(i)"
   ]
  },
  {
   "cell_type": "markdown",
   "metadata": {},
   "source": [
    "# Exercise 4.01\n",
    "Write a `for` cycle that prints the sequence: 5, 4, 3, 2, 1, 0."
   ]
  },
  {
   "cell_type": "code",
   "execution_count": 9,
   "metadata": {},
   "outputs": [
    {
     "name": "stdout",
     "output_type": "stream",
     "text": [
      "5\n",
      "4\n",
      "3\n",
      "2\n",
      "1\n",
      "0\n"
     ]
    }
   ],
   "source": [
    "for i in range(5,-1,-1):\n",
    "    print(i)"
   ]
  },
  {
   "cell_type": "markdown",
   "metadata": {},
   "source": [
    "# Exercise 4.02\n",
    "\n",
    "The following can be used to generate a random number between 0 and 1:\n",
    "\n",
    "```python\n",
    "import random\n",
    "a = random.random()\n",
    "```\n",
    "Use `random.random()` and a `for` cycle to compute the sum of 100 random numbers."
   ]
  },
  {
   "cell_type": "code",
   "execution_count": 36,
   "metadata": {},
   "outputs": [],
   "source": [
    "import random\n",
    "import math\n",
    "def fun(N):\n",
    "    a=0\n",
    "    for i in range(N):\n",
    "        a += random.random()\n",
    "    return a"
   ]
  },
  {
   "cell_type": "markdown",
   "metadata": {},
   "source": [
    "# Exercise 4.03\n",
    "\n",
    "Use the results from the previous exercise to compute the standard deviation of \n",
    "a list of `1000` numbers where each number is itself the sum of `N=100` random numbers. \n",
    "What is the answer if `N=200`? `N=300`? "
   ]
  },
  {
   "cell_type": "code",
   "execution_count": 39,
   "metadata": {},
   "outputs": [
    {
     "name": "stdout",
     "output_type": "stream",
     "text": [
      "la desviacion estandar para el caso en el que se sumen 100 datos es de 44.955373449653095, con 200 datos es de 80.00229192982808 y con 300 es de 105.05424053089236\n"
     ]
    }
   ],
   "source": [
    "def fun2(N):\n",
    "    lis = []\n",
    "    cant = 1000\n",
    "    media = 0\n",
    "    suma = 0\n",
    "    for i in range(cant):\n",
    "        lis.append(fun(N))\n",
    "    for i in range(N):\n",
    "        media += lis[i]\n",
    "    media/=1000\n",
    "    for i in range(cant):\n",
    "        suma += (lis[i]-media)**2\n",
    "    return (math.sqrt(suma/cant))\n",
    "print('la desviacion estandar para el caso en el que se sumen {} datos es de {}, con {} datos es de {} y con {} es de {}'.format(100,fun2(100),200,fun2(200),300,fun2(300)))"
   ]
  },
  {
   "cell_type": "code",
   "execution_count": null,
   "metadata": {},
   "outputs": [],
   "source": []
  },
  {
   "cell_type": "code",
   "execution_count": null,
   "metadata": {},
   "outputs": [],
   "source": []
  }
 ],
 "metadata": {
  "kernelspec": {
   "display_name": "Python 3",
   "language": "python",
   "name": "python3"
  },
  "language_info": {
   "codemirror_mode": {
    "name": "ipython",
    "version": 3
   },
   "file_extension": ".py",
   "mimetype": "text/x-python",
   "name": "python",
   "nbconvert_exporter": "python",
   "pygments_lexer": "ipython3",
   "version": "3.7.3"
  }
 },
 "nbformat": 4,
 "nbformat_minor": 2
}
