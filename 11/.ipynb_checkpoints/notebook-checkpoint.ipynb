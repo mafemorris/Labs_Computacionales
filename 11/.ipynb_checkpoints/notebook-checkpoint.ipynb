{
 "cells": [
  {
   "cell_type": "code",
   "execution_count": 1,
   "metadata": {},
   "outputs": [],
   "source": [
    "import numpy as np\n",
    "import matplotlib.pylab as plt"
   ]
  },
  {
   "cell_type": "code",
   "execution_count": 2,
   "metadata": {},
   "outputs": [],
   "source": [
    "def df(x):\n",
    "    return np.exp(-x)"
   ]
  },
  {
   "cell_type": "code",
   "execution_count": 78,
   "metadata": {},
   "outputs": [],
   "source": [
    "#trapezoid\n",
    "def trapezoid(df,N,a,b):\n",
    "    lista = []\n",
    "    while len(lista)<N:\n",
    "        x = np.linspace(a,b,len(lista)+1)\n",
    "        integ = 0\n",
    "        for i in range(len(x)-1):\n",
    "            integ += (1/2)*((x[i+1]-x[i])*(df(x[i+1])+ df(x[i])))\n",
    "        lista.append(integ)\n",
    "    return lista\n",
    "#Simpson\n",
    "def simpson(df,N,a,b):\n",
    "    lista = []\n",
    "    while len(lista)<2*N:\n",
    "        if(len(lista)%2==1):\n",
    "            dx = (b-a)/(len(lista)+1)\n",
    "            x=[a]\n",
    "            while len(x)<=len(lista)+1:\n",
    "                x.append(x[-1]+dx)\n",
    "            df1 = df(np.array(x))\n",
    "            integ = (dx/3)*(df1[0] + df1[-1] + sum(4*df1[1:-1:2]) + sum(2*df1[2:-1:2]))\n",
    "            lista.append(integ)\n",
    "        else:\n",
    "            lista.append(0)\n",
    "    return lista[1::2]\n",
    "\n",
    "def formula(x, miu, sigma=1):\n",
    "    return (1/(sigma*np.sqrt(2*np.pi)))*np.exp((-1/2)*((x-miu)/sigma)**2)\n",
    "#Gaussian\n",
    "def gaussian(df,N,a,b):\n",
    "    lista = []\n",
    "    for i in range(1,N+1):\n",
    "        yi=np.random.randn(i)\n",
    "        wi=formula(yi,np.mean(yi))\n",
    "        xi = ((b-a)*yi +b+a)/2\n",
    "        dw = ((b-a)/2)*wi\n",
    "        df1 = dw*df(xi) #aca falta la integral\n",
    "        integ = sum(df1)\n",
    "        lista.append(integ)\n",
    "        print(integ)\n",
    "    return lista"
   ]
  },
  {
   "cell_type": "code",
   "execution_count": 79,
   "metadata": {},
   "outputs": [],
   "source": [
    "def error(x):\n",
    "    exact = np.ones(len(x))*(1 - np.exp(-1))\n",
    "    return np.abs(x-exact)/exact[0]"
   ]
  },
  {
   "cell_type": "code",
   "execution_count": 80,
   "metadata": {},
   "outputs": [
    {
     "name": "stdout",
     "output_type": "stream",
     "text": [
      "0.2356296172248442\n",
      "0.1779959338996138\n",
      "0.46177613851297383\n",
      "0.4375268341873455\n",
      "0.31524246574116405\n",
      "0.8992498341723058\n",
      "0.8380257817565919\n",
      "1.0313361901447875\n",
      "0.8983200916954948\n",
      "1.4153293493978976\n",
      "0.8708105990405799\n",
      "1.1335287434100199\n",
      "1.5843318931685115\n",
      "1.2179481040027496\n",
      "1.4630285218830383\n",
      "1.5520142191003725\n",
      "1.2820533273661459\n",
      "1.700916005967543\n",
      "1.6991983390590661\n",
      "1.7785131381461907\n",
      "1.8163212953286632\n",
      "2.3082324273985195\n",
      "2.3999939370888765\n",
      "2.289511959238606\n",
      "2.441098665753906\n",
      "2.3306520263366237\n",
      "2.4819619568494344\n",
      "2.495425016499844\n",
      "2.831313912552722\n",
      "2.3492637140283255\n",
      "2.9010474535184065\n",
      "3.3324666350304906\n",
      "3.6536626697334045\n",
      "2.995796577060205\n",
      "3.61860376121623\n",
      "3.0068651501574784\n",
      "3.571987247315112\n",
      "3.301111048918598\n",
      "3.2297677310033537\n",
      "3.1823760067307094\n",
      "3.4951522829617097\n",
      "4.250780758262097\n",
      "4.086511414731657\n",
      "3.5961672442399535\n",
      "3.812840387743781\n",
      "4.242688581003666\n",
      "4.341941326325803\n",
      "4.467578518481498\n",
      "4.850041565996265\n",
      "4.084121492370252\n",
      "4.708551133503189\n",
      "4.903854077061722\n",
      "4.210390636062511\n",
      "5.117387136149272\n",
      "5.039171098603552\n",
      "4.558422459148232\n",
      "4.906514600120912\n",
      "5.161757350127102\n",
      "5.512255951617703\n",
      "4.572140639582349\n",
      "5.304891949202447\n",
      "5.562401102254209\n",
      "5.698032856070994\n",
      "6.318590820161335\n",
      "5.7538363192536055\n",
      "5.4066655422618535\n",
      "6.029497173184764\n",
      "7.088376260186661\n",
      "7.5114678701045365\n",
      "6.391549382184808\n",
      "6.4954803974620665\n",
      "6.129553269946186\n",
      "6.440188512295791\n",
      "7.1833294710898965\n",
      "7.390427887655475\n",
      "7.830715075752105\n",
      "6.809220997648039\n",
      "6.934700553734182\n",
      "8.123919300997793\n",
      "8.615884727826897\n",
      "7.43236068709515\n",
      "7.419656002440977\n",
      "7.119711852141823\n",
      "8.589443863411548\n",
      "7.623532106724806\n",
      "7.378445426420839\n",
      "7.724571589593282\n",
      "9.223345327811703\n",
      "7.588800048343778\n",
      "8.13915652346974\n",
      "8.530503303478007\n",
      "7.89031576571696\n",
      "8.156513830177978\n",
      "9.133028405818825\n",
      "8.72542004449287\n",
      "9.04730264453492\n",
      "10.114348780277732\n",
      "9.06289332405535\n",
      "9.576686846947982\n",
      "9.685502007528177\n"
     ]
    },
    {
     "data": {
      "text/plain": [
       "<matplotlib.legend.Legend at 0x123a26390>"
      ]
     },
     "execution_count": 80,
     "metadata": {},
     "output_type": "execute_result"
    },
    {
     "data": {
      "image/png": "[encoded data removed]",
      "text/plain": [
       "<Figure size 432x288 with 1 Axes>"
      ]
     },
     "metadata": {
      "needs_background": "light"
     },
     "output_type": "display_data"
    }
   ],
   "source": [
    "#Plot\n",
    "a=0\n",
    "b=1\n",
    "N=100\n",
    "plt.loglog(np.arange(N), error(trapezoid(df,N,a,b)), label='Trapezoid')\n",
    "plt.loglog(np.arange(N), error(simpson(df,N,a,b)), label='Simpson')\n",
    "plt.loglog(np.arange(N), error(gaussian(df,N,a,b)), label='Gaussian')\n",
    "plt.xlabel('N')\n",
    "plt.ylabel('|error|')\n",
    "plt.legend()\n",
    "plt.savefig()"
   ]
  },
  {
   "cell_type": "code",
   "execution_count": 56,
   "metadata": {},
   "outputs": [
    {
     "data": {
      "text/plain": [
       "0.6321205588285577"
      ]
     },
     "execution_count": 56,
     "metadata": {},
     "output_type": "execute_result"
    }
   ],
   "source": [
    "1- np.exp(-1)"
   ]
  },
  {
   "cell_type": "code",
   "execution_count": null,
   "metadata": {},
   "outputs": [],
   "source": []
  },
  {
   "cell_type": "code",
   "execution_count": null,
   "metadata": {},
   "outputs": [],
   "source": []
  },
  {
   "cell_type": "code",
   "execution_count": null,
   "metadata": {},
   "outputs": [],
   "source": []
  },
  {
   "cell_type": "code",
   "execution_count": null,
   "metadata": {},
   "outputs": [],
   "source": []
  },
  {
   "cell_type": "code",
   "execution_count": null,
   "metadata": {},
   "outputs": [],
   "source": []
  }
 ],
 "metadata": {
  "kernelspec": {
   "display_name": "Python 3",
   "language": "python",
   "name": "python3"
  },
  "language_info": {
   "codemirror_mode": {
    "name": "ipython",
    "version": 3
   },
   "file_extension": ".py",
   "mimetype": "text/x-python",
   "name": "python",
   "nbconvert_exporter": "python",
   "pygments_lexer": "ipython3",
   "version": "3.7.3"
  }
 },
 "nbformat": 4,
 "nbformat_minor": 2
}
