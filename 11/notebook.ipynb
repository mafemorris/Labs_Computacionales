{
 "cells": [
  {
   "cell_type": "code",
   "execution_count": 1,
   "metadata": {},
   "outputs": [],
   "source": [
    "import numpy as np\n",
    "import matplotlib.pylab as plt"
   ]
  },
  {
   "cell_type": "code",
   "execution_count": 2,
   "metadata": {},
   "outputs": [],
   "source": [
    "def df(x):\n",
    "    return np.exp(-x)"
   ]
  },
  {
   "cell_type": "code",
   "execution_count": 6,
   "metadata": {},
   "outputs": [],
   "source": [
    "#trapezoid\n",
    "def trapezoid(df,N,a,b):\n",
    "    lista = []\n",
    "    while len(lista)<N:\n",
    "        x = np.linspace(a,b,len(lista)+1)\n",
    "        integ = 0\n",
    "        for i in range(len(x)-1):\n",
    "            integ += (1/2)*((x[i+1]-x[i])*(df(x[i+1])+ df(x[i])))\n",
    "        lista.append(integ)\n",
    "    return lista\n",
    "#Simpson\n",
    "def simpson(df,N,a,b):\n",
    "    lista = []\n",
    "    while len(lista)<2*N:\n",
    "        if(len(lista)%2==1):\n",
    "            dx = (b-a)/(len(lista)+1)\n",
    "            x=[a]\n",
    "            while len(x)<=len(lista)+1:\n",
    "                x.append(x[-1]+dx)\n",
    "            df1 = df(np.array(x))\n",
    "            integ = (dx/3)*(df1[0] + df1[-1] + sum(4*df1[1:-1:2]) + sum(2*df1[2:-1:2]))\n",
    "            lista.append(integ)\n",
    "        else:\n",
    "            lista.append(0)\n",
    "    return lista[1::2]\n",
    "\n",
    "#Gaussian\n",
    "def gaussian(df,N,a,b):\n",
    "    lista = []\n",
    "    for i in range(1,N+1):\n",
    "        yi, wi=np.polynomial.legendre.leggauss(i)\n",
    "        xi = (yi/(1-yi**2))\n",
    "        dw = ((1+yi**2)/(1-yi)**2)*wi\n",
    "        df1 = dw*df(xi) \n",
    "        integ = sum(df1)\n",
    "        lista.append(integ)\n",
    "        #print(integ)\n",
    "    return lista"
   ]
  },
  {
   "cell_type": "code",
   "execution_count": 4,
   "metadata": {},
   "outputs": [],
   "source": [
    "def error(x):\n",
    "    exact = np.ones(len(x))*(1 - np.exp(-1))\n",
    "    return np.abs(x-exact)/exact[0]"
   ]
  },
  {
   "cell_type": "code",
   "execution_count": 5,
   "metadata": {},
   "outputs": [
    {
     "data": {
      "image/png": "[encoded data removed]",
      "text/plain": [
       "<Figure size 432x288 with 1 Axes>"
      ]
     },
     "metadata": {
      "needs_background": "light"
     },
     "output_type": "display_data"
    }
   ],
   "source": [
    "#Plot\n",
    "a=0\n",
    "b=1\n",
    "N=200\n",
    "plt.loglog(np.arange(N), error(trapezoid(df,N,a,b)), label='Trapezoid')\n",
    "plt.loglog(np.arange(N), error(simpson(df,N,a,b)), label='Simpson')\n",
    "plt.loglog(np.arange(N), error(gaussian(df,N,a,b)), label='Gaussian')\n",
    "plt.xlabel('N')\n",
    "plt.ylabel('|error|')\n",
    "plt.legend()\n",
    "plt.savefig('loginteg.png')"
   ]
  },
  {
   "cell_type": "code",
   "execution_count": 101,
   "metadata": {},
   "outputs": [
    {
     "data": {
      "text/plain": [
       "0.6321205588285577"
      ]
     },
     "execution_count": 101,
     "metadata": {},
     "output_type": "execute_result"
    }
   ],
   "source": [
    "1- np.exp(-1)"
   ]
  },
  {
   "cell_type": "code",
   "execution_count": null,
   "metadata": {},
   "outputs": [],
   "source": []
  },
  {
   "cell_type": "code",
   "execution_count": null,
   "metadata": {},
   "outputs": [],
   "source": []
  },
  {
   "cell_type": "code",
   "execution_count": null,
   "metadata": {},
   "outputs": [],
   "source": []
  },
  {
   "cell_type": "code",
   "execution_count": null,
   "metadata": {},
   "outputs": [],
   "source": []
  },
  {
   "cell_type": "code",
   "execution_count": null,
   "metadata": {},
   "outputs": [],
   "source": []
  }
 ],
 "metadata": {
  "kernelspec": {
   "display_name": "Python 3",
   "language": "python",
   "name": "python3"
  },
  "language_info": {
   "codemirror_mode": {
    "name": "ipython",
    "version": 3
   },
   "file_extension": ".py",
   "mimetype": "text/x-python",
   "name": "python",
   "nbconvert_exporter": "python",
   "pygments_lexer": "ipython3",
   "version": "3.7.3"
  }
 },
 "nbformat": 4,
 "nbformat_minor": 2
}
