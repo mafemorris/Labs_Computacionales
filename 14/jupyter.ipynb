{
 "cells": [
  {
   "cell_type": "code",
   "execution_count": 9,
   "metadata": {},
   "outputs": [],
   "source": [
    "import numpy as np\n",
    "import matplotlib.pylab as plt"
   ]
  },
  {
   "cell_type": "code",
   "execution_count": 10,
   "metadata": {},
   "outputs": [],
   "source": [
    "def f(E,V=10):\n",
    "    m = np.sqrt(V-E)\n",
    "    return (m*np.tan(m) - np.sqrt(E))\n",
    "def fequi(E,V=10):\n",
    "    m = np.sqrt(V-E)\n",
    "    return (np.sqrt(E)*(np.cos(m)/np.sin(m)) - m)"
   ]
  },
  {
   "cell_type": "code",
   "execution_count": 73,
   "metadata": {},
   "outputs": [
    {
     "data": {
      "image/png": "[encoded data removed]",
      "text/plain": [
       "<Figure size 432x288 with 1 Axes>"
      ]
     },
     "metadata": {
      "needs_background": "light"
     },
     "output_type": "display_data"
    },
    {
     "data": {
      "image/png": "[encoded data removed]",
      "text/plain": [
       "<Figure size 432x288 with 1 Axes>"
      ]
     },
     "metadata": {
      "needs_background": "light"
     },
     "output_type": "display_data"
    },
    {
     "ename": "KeyboardInterrupt",
     "evalue": "",
     "output_type": "error",
     "traceback": [
      "\u001b[0;31m---------------------------------------------------------------------------\u001b[0m",
      "\u001b[0;31mKeyboardInterrupt\u001b[0m                         Traceback (most recent call last)",
      "\u001b[0;32m<ipython-input-73-a781d2684275>\u001b[0m in \u001b[0;36m<module>\u001b[0;34m\u001b[0m\n\u001b[1;32m     28\u001b[0m \u001b[0;34m\u001b[0m\u001b[0m\n\u001b[1;32m     29\u001b[0m \u001b[0ma0\u001b[0m\u001b[0;34m,\u001b[0m \u001b[0mfa0\u001b[0m\u001b[0;34m=\u001b[0m\u001b[0mbisection\u001b[0m\u001b[0;34m(\u001b[0m\u001b[0mf\u001b[0m\u001b[0;34m,\u001b[0m\u001b[0mxp0\u001b[0m\u001b[0;34m,\u001b[0m\u001b[0mxn0\u001b[0m\u001b[0;34m)\u001b[0m\u001b[0;34m\u001b[0m\u001b[0;34m\u001b[0m\u001b[0m\n\u001b[0;32m---> 30\u001b[0;31m \u001b[0ma1\u001b[0m\u001b[0;34m,\u001b[0m \u001b[0mfa1\u001b[0m\u001b[0;34m=\u001b[0m\u001b[0mbisection\u001b[0m\u001b[0;34m(\u001b[0m\u001b[0mf\u001b[0m\u001b[0;34m,\u001b[0m\u001b[0mxp1\u001b[0m\u001b[0;34m,\u001b[0m\u001b[0mxn1\u001b[0m\u001b[0;34m)\u001b[0m\u001b[0;34m\u001b[0m\u001b[0;34m\u001b[0m\u001b[0m\n\u001b[0m\u001b[1;32m     31\u001b[0m \u001b[0mb1\u001b[0m\u001b[0;34m,\u001b[0m \u001b[0mfb1\u001b[0m\u001b[0;34m=\u001b[0m\u001b[0mbisection\u001b[0m\u001b[0;34m(\u001b[0m\u001b[0mfequi\u001b[0m\u001b[0;34m,\u001b[0m\u001b[0mxp1\u001b[0m\u001b[0;34m,\u001b[0m\u001b[0mxn1\u001b[0m\u001b[0;34m)\u001b[0m\u001b[0;34m\u001b[0m\u001b[0;34m\u001b[0m\u001b[0m\n\u001b[1;32m     32\u001b[0m \u001b[0mprint\u001b[0m\u001b[0;34m(\u001b[0m\u001b[0;34m'Los 0s de la funcion estan en {} y en {}. La funcion es equivalente ya que los 0s son iguales, en {}.'\u001b[0m\u001b[0;34m.\u001b[0m\u001b[0mformat\u001b[0m\u001b[0;34m(\u001b[0m\u001b[0ma0\u001b[0m\u001b[0;34m,\u001b[0m\u001b[0ma1\u001b[0m\u001b[0;34m,\u001b[0m\u001b[0mb1\u001b[0m\u001b[0;34m)\u001b[0m\u001b[0;34m)\u001b[0m\u001b[0;34m\u001b[0m\u001b[0;34m\u001b[0m\u001b[0m\n",
      "\u001b[0;32m<ipython-input-73-a781d2684275>\u001b[0m in \u001b[0;36mbisection\u001b[0;34m(f, xp, xn)\u001b[0m\n\u001b[1;32m     14\u001b[0m     \u001b[0;32mwhile\u001b[0m \u001b[0;32mTrue\u001b[0m\u001b[0;34m:\u001b[0m\u001b[0;34m\u001b[0m\u001b[0;34m\u001b[0m\u001b[0m\n\u001b[1;32m     15\u001b[0m         \u001b[0mx\u001b[0m \u001b[0;34m=\u001b[0m \u001b[0;34m(\u001b[0m\u001b[0mxp\u001b[0m\u001b[0;34m+\u001b[0m\u001b[0mxn\u001b[0m\u001b[0;34m)\u001b[0m\u001b[0;34m/\u001b[0m\u001b[0;36m2\u001b[0m\u001b[0;34m\u001b[0m\u001b[0;34m\u001b[0m\u001b[0m\n\u001b[0;32m---> 16\u001b[0;31m         \u001b[0;32mif\u001b[0m \u001b[0mf\u001b[0m\u001b[0;34m(\u001b[0m\u001b[0mxp\u001b[0m\u001b[0;34m)\u001b[0m\u001b[0;34m*\u001b[0m\u001b[0mf\u001b[0m\u001b[0;34m(\u001b[0m\u001b[0mx\u001b[0m\u001b[0;34m)\u001b[0m \u001b[0;34m>\u001b[0m \u001b[0;36m0\u001b[0m\u001b[0;34m:\u001b[0m\u001b[0;34m\u001b[0m\u001b[0;34m\u001b[0m\u001b[0m\n\u001b[0m\u001b[1;32m     17\u001b[0m             \u001b[0mxp\u001b[0m \u001b[0;34m=\u001b[0m \u001b[0mx\u001b[0m\u001b[0;34m\u001b[0m\u001b[0;34m\u001b[0m\u001b[0m\n\u001b[1;32m     18\u001b[0m         \u001b[0;32melse\u001b[0m\u001b[0;34m:\u001b[0m\u001b[0;34m\u001b[0m\u001b[0;34m\u001b[0m\u001b[0m\n",
      "\u001b[0;32m<ipython-input-10-310ccb317bdc>\u001b[0m in \u001b[0;36mf\u001b[0;34m(E, V)\u001b[0m\n\u001b[1;32m      1\u001b[0m \u001b[0;32mdef\u001b[0m \u001b[0mf\u001b[0m\u001b[0;34m(\u001b[0m\u001b[0mE\u001b[0m\u001b[0;34m,\u001b[0m\u001b[0mV\u001b[0m\u001b[0;34m=\u001b[0m\u001b[0;36m10\u001b[0m\u001b[0;34m)\u001b[0m\u001b[0;34m:\u001b[0m\u001b[0;34m\u001b[0m\u001b[0;34m\u001b[0m\u001b[0m\n\u001b[0;32m----> 2\u001b[0;31m     \u001b[0mm\u001b[0m \u001b[0;34m=\u001b[0m \u001b[0mnp\u001b[0m\u001b[0;34m.\u001b[0m\u001b[0msqrt\u001b[0m\u001b[0;34m(\u001b[0m\u001b[0mV\u001b[0m\u001b[0;34m-\u001b[0m\u001b[0mE\u001b[0m\u001b[0;34m)\u001b[0m\u001b[0;34m\u001b[0m\u001b[0;34m\u001b[0m\u001b[0m\n\u001b[0m\u001b[1;32m      3\u001b[0m     \u001b[0;32mreturn\u001b[0m \u001b[0;34m(\u001b[0m\u001b[0mm\u001b[0m\u001b[0;34m*\u001b[0m\u001b[0mnp\u001b[0m\u001b[0;34m.\u001b[0m\u001b[0mtan\u001b[0m\u001b[0;34m(\u001b[0m\u001b[0mm\u001b[0m\u001b[0;34m)\u001b[0m \u001b[0;34m-\u001b[0m \u001b[0mnp\u001b[0m\u001b[0;34m.\u001b[0m\u001b[0msqrt\u001b[0m\u001b[0;34m(\u001b[0m\u001b[0mE\u001b[0m\u001b[0;34m)\u001b[0m\u001b[0;34m)\u001b[0m\u001b[0;34m\u001b[0m\u001b[0;34m\u001b[0m\u001b[0m\n\u001b[1;32m      4\u001b[0m \u001b[0;32mdef\u001b[0m \u001b[0mfequi\u001b[0m\u001b[0;34m(\u001b[0m\u001b[0mE\u001b[0m\u001b[0;34m,\u001b[0m\u001b[0mV\u001b[0m\u001b[0;34m=\u001b[0m\u001b[0;36m10\u001b[0m\u001b[0;34m)\u001b[0m\u001b[0;34m:\u001b[0m\u001b[0;34m\u001b[0m\u001b[0;34m\u001b[0m\u001b[0m\n\u001b[1;32m      5\u001b[0m     \u001b[0mm\u001b[0m \u001b[0;34m=\u001b[0m \u001b[0mnp\u001b[0m\u001b[0;34m.\u001b[0m\u001b[0msqrt\u001b[0m\u001b[0;34m(\u001b[0m\u001b[0mV\u001b[0m\u001b[0;34m-\u001b[0m\u001b[0mE\u001b[0m\u001b[0;34m)\u001b[0m\u001b[0;34m\u001b[0m\u001b[0;34m\u001b[0m\u001b[0m\n",
      "\u001b[0;31mKeyboardInterrupt\u001b[0m: "
     ]
    }
   ],
   "source": [
    "E = np.linspace(0,9,100)\n",
    "plt.plot(E,f(E))\n",
    "plt.axhline(linewidth=1,color='r')\n",
    "plt.title('TAN')\n",
    "plt.show()\n",
    "\n",
    "#El cero esta cerca de 8 y cerca de 0.\n",
    "eps = 10**-30\n",
    "xp1 = 9\n",
    "xn1 = 7.5\n",
    "xp0 = 0\n",
    "xn0 = 0.5\n",
    "def bisection(f,xp,xn):\n",
    "    while True:\n",
    "        x = (xp+xn)/2\n",
    "        if f(xp)*f(x) > 0:\n",
    "            xp = x\n",
    "        else:\n",
    "            xn = x\n",
    "        if np.abs(f(x))< eps:\n",
    "            return x,f(x)\n",
    "\n",
    "plt.figure()\n",
    "plt.plot(E,fequi(E))\n",
    "plt.axhline(linewidth=1,color='r')\n",
    "plt.title('COT')\n",
    "plt.show()\n",
    "\n",
    "a0, fa0=bisection(f,xp0,xn0)\n",
    "a1, fa1=bisection(f,xp1,xn1)\n",
    "b1, fb1=bisection(fequi,xp1,xn1)\n",
    "print('Los 0s de la funcion estan en {} y en {}. La funcion es equivalente ya que los 0s son iguales, en {}.'.format(a0,a1,b1))"
   ]
  },
  {
   "cell_type": "code",
   "execution_count": 12,
   "metadata": {},
   "outputs": [
    {
     "name": "stdout",
     "output_type": "stream",
     "text": [
      "Por el metodo de Newton Raphson el valor de la derivada es 8.592785110712953\n"
     ]
    }
   ],
   "source": [
    "def NR(f,x,dx,V=10):\n",
    "    while True:\n",
    "        F=f(x,V)\n",
    "        if(np.abs(F)<= eps):\n",
    "            return x\n",
    "        m=dx\n",
    "        while (f(x+m,V))**2 > (f(x,V))**2:\n",
    "            m/=2\n",
    "        df=(f(x+m,V)-f(x-m,V))/dx\n",
    "        dx=-F/df\n",
    "        x += dx\n",
    "print('Por el metodo de Newton Raphson el valor de la derivada es {}'.format(NR(f,8,0.01)))"
   ]
  },
  {
   "cell_type": "code",
   "execution_count": 82,
   "metadata": {},
   "outputs": [
    {
     "name": "stdout",
     "output_type": "stream",
     "text": [
      "-4.1340212519186516e-23\n"
     ]
    },
    {
     "data": {
      "text/plain": [
       "3"
      ]
     },
     "execution_count": 82,
     "metadata": {},
     "output_type": "execute_result"
    },
    {
     "data": {
      "image/png": "[encoded data removed]",
      "text/plain": [
       "<Figure size 432x288 with 1 Axes>"
      ]
     },
     "metadata": {
      "needs_background": "light"
     },
     "output_type": "display_data"
    }
   ],
   "source": [
    "xs = [2.031331588946557076,5.886777538940683563e+00,2.195744759275823021e+00,6.821886748452244298e+00,8.793952398085184141e-01,2.951577398416659559e+00,4.454332895499525158e+00,-1.804396045394615955e+00,-5.841925974092386120e+00,-1.113495627653518838e+00]\n",
    "sigma = np.linspace(1,7,100)\n",
    "A=1/9\n",
    "eps = 10**-4\n",
    "def P(x,sigma):\n",
    "    return (1/(2*np.pi*sigma**2)) * np.exp(-(x**2)/(2*sigma**2))\n",
    "def L(P,x,sigma):\n",
    "    a = [P(i,sigma) for i in x]\n",
    "    m = np.prod(a)*A\n",
    "    return m\n",
    "li = [L(P,xs,i) for i in sigma]\n",
    "plt.plot(sigma,li)\n",
    "\n",
    "def central(f,xs,sigma,h):\n",
    "    return (f(P,xs,sigma+h)-f(P,xs,sigma-h))/(2*h)\n",
    "\n",
    "c=[central(L,xs,i,0.01) for i in sigma]\n",
    "plt.plot(sigma,c)\n",
    "\n",
    "def NR(central,sig,xs,dsig,h):\n",
    "    while True:\n",
    "        F=central(L,xs,sig,h)\n",
    "        print(F)\n",
    "        if(np.abs(F)<= eps):\n",
    "            return sig\n",
    "        m=dsig\n",
    "        while (central(L,xs,sig+m,h))**2 > (central(L,xs,sig,h))**2:\n",
    "            m/=2\n",
    "        df=(central(L,xs,sig+m,h)-central(L,xs,sig-m,h))/dsig\n",
    "        dsig=-F/df\n",
    "        sig += dsig\n",
    "NR(central,3,xs,0.01,0.01)"
   ]
  },
  {
   "cell_type": "code",
   "execution_count": null,
   "metadata": {},
   "outputs": [],
   "source": []
  },
  {
   "cell_type": "code",
   "execution_count": null,
   "metadata": {},
   "outputs": [],
   "source": []
  }
 ],
 "metadata": {
  "kernelspec": {
   "display_name": "Python 3",
   "language": "python",
   "name": "python3"
  },
  "language_info": {
   "codemirror_mode": {
    "name": "ipython",
    "version": 3
   },
   "file_extension": ".py",
   "mimetype": "text/x-python",
   "name": "python",
   "nbconvert_exporter": "python",
   "pygments_lexer": "ipython3",
   "version": "3.7.3"
  }
 },
 "nbformat": 4,
 "nbformat_minor": 2
}
