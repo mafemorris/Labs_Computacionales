{
 "cells": [
  {
   "cell_type": "code",
   "execution_count": 2,
   "metadata": {},
   "outputs": [
    {
     "name": "stdout",
     "output_type": "stream",
     "text": [
      "Using matplotlib backend: MacOSX\n",
      "Populating the interactive namespace from numpy and matplotlib\n"
     ]
    }
   ],
   "source": [
    "%pylab"
   ]
  },
  {
   "cell_type": "code",
   "execution_count": 115,
   "metadata": {},
   "outputs": [
    {
     "name": "stdout",
     "output_type": "stream",
     "text": [
      "La cantidad de medias en promedio que debe sacar para obtener un par es de 5.0\n"
     ]
    }
   ],
   "source": [
    "def prob(N):\n",
    "    a = [0]*N\n",
    "    med = 0\n",
    "    for i in np.arange(N*2):\n",
    "        b = round(random.random()*(N-1))\n",
    "        a[b]+=1\n",
    "        if(a[b]==2):\n",
    "            med = i+1\n",
    "            break\n",
    "    return(med)\n",
    "media = 0\n",
    "for i in range(10000):\n",
    "    media += prob(10)\n",
    "media/=10000\n",
    "print('La cantidad de medias en promedio que debe sacar para obtener un par es de {}'.format(round(media)))"
   ]
  },
  {
   "cell_type": "code",
   "execution_count": 143,
   "metadata": {},
   "outputs": [
    {
     "name": "stdout",
     "output_type": "stream",
     "text": [
      "La probabilida de que sean 50 cara y 50 sello es de 0.0763\n"
     ]
    }
   ],
   "source": [
    "def probCC(N):\n",
    "    a = [0,0]\n",
    "    med = 0\n",
    "    for i in np.arange(N):\n",
    "        b = round(random.random())\n",
    "        a[b]+=1\n",
    "    if(a[0]==N/2):\n",
    "        med=1\n",
    "    return(med)\n",
    "media = 0\n",
    "for i in range(10000):\n",
    "    media += probCC(100)\n",
    "media/=10000\n",
    "print('La probabilida de que sean 50 cara y 50 sello es de {}'.format(media))"
   ]
  },
  {
   "cell_type": "code",
   "execution_count": 166,
   "metadata": {},
   "outputs": [
    {
     "name": "stdout",
     "output_type": "stream",
     "text": [
      "La cantidad minima de personas que se necesita para que dos personas tengan el mismo cumpleaños es de 24 con una probabilidad de 0.5374574434243623, y de 43 para una probabilidad de 0.9228938978918859\n"
     ]
    }
   ],
   "source": [
    "def probCumple(N):\n",
    "    a = [0]*365\n",
    "    med = 0\n",
    "    for i in np.arange(N):\n",
    "        b = round(random.random()*(365-1))\n",
    "        a[b]+=1\n",
    "        if(a[b]==2):\n",
    "            med=1\n",
    "            break\n",
    "    return(med)\n",
    "def calc(p):\n",
    "    media = 0\n",
    "    j=0\n",
    "    while(media<=p):\n",
    "        for i in range(1000):\n",
    "            media += probCumple(j)\n",
    "        media/=1000\n",
    "        j+=1\n",
    "    return (j,media)\n",
    "a,b = calc(0.5)\n",
    "c,d = calc(0.9)\n",
    "print('La cantidad minima de personas que se necesita para que dos personas tengan el mismo cumpleaños es de {} con una probabilidad de {}, y de {} para una probabilidad de {}'.format(a,b,c,d))"
   ]
  },
  {
   "cell_type": "code",
   "execution_count": null,
   "metadata": {},
   "outputs": [],
   "source": []
  }
 ],
 "metadata": {
  "kernelspec": {
   "display_name": "Python 3",
   "language": "python",
   "name": "python3"
  },
  "language_info": {
   "codemirror_mode": {
    "name": "ipython",
    "version": 3
   },
   "file_extension": ".py",
   "mimetype": "text/x-python",
   "name": "python",
   "nbconvert_exporter": "python",
   "pygments_lexer": "ipython3",
   "version": "3.7.3"
  }
 },
 "nbformat": 4,
 "nbformat_minor": 2
}
