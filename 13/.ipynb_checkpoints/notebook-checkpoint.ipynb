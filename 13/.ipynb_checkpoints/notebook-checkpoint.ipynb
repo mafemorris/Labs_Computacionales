{
 "cells": [
  {
   "cell_type": "code",
   "execution_count": 27,
   "metadata": {},
   "outputs": [],
   "source": [
    "import numpy as np\n",
    "import matplotlib.pylab as plt"
   ]
  },
  {
   "cell_type": "code",
   "execution_count": 134,
   "metadata": {},
   "outputs": [
    {
     "data": {
      "text/plain": [
       "[<matplotlib.lines.Line2D at 0x117337f98>,\n",
       " <matplotlib.lines.Line2D at 0x1173480f0>,\n",
       " <matplotlib.lines.Line2D at 0x117348240>,\n",
       " <matplotlib.lines.Line2D at 0x117348390>,\n",
       " <matplotlib.lines.Line2D at 0x1173484e0>,\n",
       " <matplotlib.lines.Line2D at 0x117348630>,\n",
       " <matplotlib.lines.Line2D at 0x117348780>,\n",
       " <matplotlib.lines.Line2D at 0x1173488d0>,\n",
       " <matplotlib.lines.Line2D at 0x117348a20>,\n",
       " <matplotlib.lines.Line2D at 0x117348b70>,\n",
       " <matplotlib.lines.Line2D at 0x117219a58>,\n",
       " <matplotlib.lines.Line2D at 0x117348dd8>,\n",
       " <matplotlib.lines.Line2D at 0x117348f28>,\n",
       " <matplotlib.lines.Line2D at 0x11734b0b8>,\n",
       " <matplotlib.lines.Line2D at 0x11734b208>,\n",
       " <matplotlib.lines.Line2D at 0x11734b358>,\n",
       " <matplotlib.lines.Line2D at 0x11734b4a8>,\n",
       " <matplotlib.lines.Line2D at 0x11734b5f8>,\n",
       " <matplotlib.lines.Line2D at 0x11734b748>,\n",
       " <matplotlib.lines.Line2D at 0x11734b898>,\n",
       " <matplotlib.lines.Line2D at 0x11734b9e8>,\n",
       " <matplotlib.lines.Line2D at 0x11734bb38>,\n",
       " <matplotlib.lines.Line2D at 0x11734bc88>,\n",
       " <matplotlib.lines.Line2D at 0x11734bdd8>,\n",
       " <matplotlib.lines.Line2D at 0x11734bf28>,\n",
       " <matplotlib.lines.Line2D at 0x11734e0b8>,\n",
       " <matplotlib.lines.Line2D at 0x11734e208>,\n",
       " <matplotlib.lines.Line2D at 0x11734e358>,\n",
       " <matplotlib.lines.Line2D at 0x11734e4a8>,\n",
       " <matplotlib.lines.Line2D at 0x11734e5f8>,\n",
       " <matplotlib.lines.Line2D at 0x11734e748>,\n",
       " <matplotlib.lines.Line2D at 0x11734e898>,\n",
       " <matplotlib.lines.Line2D at 0x11734e9e8>,\n",
       " <matplotlib.lines.Line2D at 0x11734eb38>,\n",
       " <matplotlib.lines.Line2D at 0x11734ec88>,\n",
       " <matplotlib.lines.Line2D at 0x11734edd8>,\n",
       " <matplotlib.lines.Line2D at 0x11734ef28>,\n",
       " <matplotlib.lines.Line2D at 0x1173510b8>,\n",
       " <matplotlib.lines.Line2D at 0x117351208>,\n",
       " <matplotlib.lines.Line2D at 0x117351358>,\n",
       " <matplotlib.lines.Line2D at 0x1173514a8>,\n",
       " <matplotlib.lines.Line2D at 0x1173515f8>,\n",
       " <matplotlib.lines.Line2D at 0x117351748>,\n",
       " <matplotlib.lines.Line2D at 0x117351898>,\n",
       " <matplotlib.lines.Line2D at 0x1173519e8>,\n",
       " <matplotlib.lines.Line2D at 0x117351b38>,\n",
       " <matplotlib.lines.Line2D at 0x117351c88>,\n",
       " <matplotlib.lines.Line2D at 0x117351dd8>,\n",
       " <matplotlib.lines.Line2D at 0x117351f28>,\n",
       " <matplotlib.lines.Line2D at 0x1173560b8>,\n",
       " <matplotlib.lines.Line2D at 0x117356208>,\n",
       " <matplotlib.lines.Line2D at 0x117356358>,\n",
       " <matplotlib.lines.Line2D at 0x1173564a8>,\n",
       " <matplotlib.lines.Line2D at 0x1173565f8>,\n",
       " <matplotlib.lines.Line2D at 0x117356748>,\n",
       " <matplotlib.lines.Line2D at 0x117356898>,\n",
       " <matplotlib.lines.Line2D at 0x1173569e8>,\n",
       " <matplotlib.lines.Line2D at 0x117356b38>,\n",
       " <matplotlib.lines.Line2D at 0x117356c88>,\n",
       " <matplotlib.lines.Line2D at 0x117356dd8>,\n",
       " <matplotlib.lines.Line2D at 0x117356f28>,\n",
       " <matplotlib.lines.Line2D at 0x11735a0b8>,\n",
       " <matplotlib.lines.Line2D at 0x11735a208>,\n",
       " <matplotlib.lines.Line2D at 0x11735a358>,\n",
       " <matplotlib.lines.Line2D at 0x11735a4a8>,\n",
       " <matplotlib.lines.Line2D at 0x11735a5f8>,\n",
       " <matplotlib.lines.Line2D at 0x11735a748>,\n",
       " <matplotlib.lines.Line2D at 0x11735a898>,\n",
       " <matplotlib.lines.Line2D at 0x11735a9e8>,\n",
       " <matplotlib.lines.Line2D at 0x11735ab38>,\n",
       " <matplotlib.lines.Line2D at 0x11735ac88>,\n",
       " <matplotlib.lines.Line2D at 0x11735add8>,\n",
       " <matplotlib.lines.Line2D at 0x11735af28>,\n",
       " <matplotlib.lines.Line2D at 0x11735e0b8>,\n",
       " <matplotlib.lines.Line2D at 0x11735e208>,\n",
       " <matplotlib.lines.Line2D at 0x11735e358>,\n",
       " <matplotlib.lines.Line2D at 0x11735e4a8>,\n",
       " <matplotlib.lines.Line2D at 0x11735e5f8>,\n",
       " <matplotlib.lines.Line2D at 0x11735e748>,\n",
       " <matplotlib.lines.Line2D at 0x11735e898>,\n",
       " <matplotlib.lines.Line2D at 0x11735e9e8>,\n",
       " <matplotlib.lines.Line2D at 0x11735eb38>,\n",
       " <matplotlib.lines.Line2D at 0x11735ec88>,\n",
       " <matplotlib.lines.Line2D at 0x11735edd8>,\n",
       " <matplotlib.lines.Line2D at 0x11735ef28>,\n",
       " <matplotlib.lines.Line2D at 0x1173630b8>,\n",
       " <matplotlib.lines.Line2D at 0x117363208>,\n",
       " <matplotlib.lines.Line2D at 0x117363358>,\n",
       " <matplotlib.lines.Line2D at 0x1173634a8>,\n",
       " <matplotlib.lines.Line2D at 0x1173635f8>,\n",
       " <matplotlib.lines.Line2D at 0x117363748>,\n",
       " <matplotlib.lines.Line2D at 0x117363898>,\n",
       " <matplotlib.lines.Line2D at 0x1173639e8>,\n",
       " <matplotlib.lines.Line2D at 0x117363b38>,\n",
       " <matplotlib.lines.Line2D at 0x117363c88>,\n",
       " <matplotlib.lines.Line2D at 0x117363dd8>,\n",
       " <matplotlib.lines.Line2D at 0x117363f28>,\n",
       " <matplotlib.lines.Line2D at 0x1173670b8>,\n",
       " <matplotlib.lines.Line2D at 0x117367208>,\n",
       " <matplotlib.lines.Line2D at 0x117367358>]"
      ]
     },
     "execution_count": 134,
     "metadata": {},
     "output_type": "execute_result"
    },
    {
     "data": {
      "image/png": "[encoded data removed]",
      "text/plain": [
       "<Figure size 432x288 with 1 Axes>"
      ]
     },
     "metadata": {
      "needs_background": "light"
     },
     "output_type": "display_data"
    }
   ],
   "source": [
    "t = np.linspace(0.1,100,100)\n",
    "der1 = lambda t: np.cos(t)\n",
    "actder1 = lambda t: np.cos(t)\n",
    "der2 = lambda t: np.exp(t)\n",
    "\n",
    "def forward(f,t,h):\n",
    "    return (f(t+h)-f(t))/h\n",
    "def central(f,t,h):\n",
    "    return (f(t+h/2)-f(t-h/2))/h\n",
    "def extrapol(f,t,h):\n",
    "    return (8*(f(t+h/4)-f(t+h/4))-(f(t+h/2)-f(t-h/2)))/3/h\n",
    "def second(f,t,h):\n",
    "    return (f(t+h)+f(t-h)-2*f(t))/h**2\n",
    "\n",
    "def minh(f,df,met,t):\n",
    "    alpha=0.1\n",
    "    listah=[np.pi/10]\n",
    "    while listah[-1]>=np.finfo(float).eps:\n",
    "        X=met(f,t,listah[-1])\n",
    "        h=listah[-1]-(alpha/len(t))*np.dot((X-df(t)),X)\n",
    "        listah.append(h)\n",
    "    return listah\n",
    "h=minh(der1,actder1,second,t)\n",
    "e=[]\n",
    "for i in h:\n",
    "    e.append((actder1(t)-second(der1,t,i))/actder1(t))\n",
    "plt.loglog(h,e)"
   ]
  },
  {
   "cell_type": "code",
   "execution_count": null,
   "metadata": {},
   "outputs": [],
   "source": []
  },
  {
   "cell_type": "code",
   "execution_count": null,
   "metadata": {},
   "outputs": [],
   "source": []
  },
  {
   "cell_type": "code",
   "execution_count": null,
   "metadata": {},
   "outputs": [],
   "source": []
  }
 ],
 "metadata": {
  "kernelspec": {
   "display_name": "Python 3",
   "language": "python",
   "name": "python3"
  },
  "language_info": {
   "codemirror_mode": {
    "name": "ipython",
    "version": 3
   },
   "file_extension": ".py",
   "mimetype": "text/x-python",
   "name": "python",
   "nbconvert_exporter": "python",
   "pygments_lexer": "ipython3",
   "version": "3.7.3"
  }
 },
 "nbformat": 4,
 "nbformat_minor": 2
}
